{
  "nbformat": 4,
  "nbformat_minor": 0,
  "metadata": {
    "accelerator": "TPU",
    "colab": {
      "name": "V0.ipynb",
      "provenance": [],
      "collapsed_sections": [],
      "include_colab_link": true
    },
    "kernelspec": {
      "display_name": "Python 3",
      "name": "python3"
    },
    "language_info": {
      "name": "python"
    }
  },
  "cells": [
    {
      "cell_type": "markdown",
      "metadata": {
        "id": "view-in-github",
        "colab_type": "text"
      },
      "source": [
        "<a href=\"https://colab.research.google.com/github/100rab-S/Fun-With-MNIST/blob/main/MNIST-4/V0.ipynb\" target=\"_parent\"><img src=\"https://colab.research.google.com/assets/colab-badge.svg\" alt=\"Open In Colab\"/></a>"
      ]
    },
    {
      "cell_type": "code",
      "metadata": {
        "id": "EsL6ygvItH-1"
      },
      "source": [
        "# cd /content/drive/MyDrive/Fun With MNIST/MNIST-4(Object Detection)"
      ],
      "execution_count": null,
      "outputs": []
    },
    {
      "cell_type": "code",
      "metadata": {
        "id": "EM8roD_u3n2j"
      },
      "source": [
        "import tensorflow as tf\n",
        "import pandas as pd\n",
        "import numpy as np\n",
        "import matplotlib.pyplot as plt\n",
        "\n",
        "from tensorflow.keras.models import Model\n",
        "from tensorflow.keras.layers import Conv2D, Dense, MaxPooling2D, Dropout, Input, Lambda, Flatten\n",
        "from tensorflow.image import draw_bounding_boxes\n",
        "from tensorflow.keras.datasets import mnist\n",
        "from tensorflow.keras.utils import plot_model\n",
        "from tensorflow.keras.preprocessing.image import ImageDataGenerator\n",
        "\n",
        "from sklearn.preprocessing import MultiLabelBinarizer\n",
        "\n",
        "import logging  \n",
        "import os"
      ],
      "execution_count": null,
      "outputs": []
    },
    {
      "cell_type": "code",
      "metadata": {
        "id": "W3Q6XhFmNUhf"
      },
      "source": [
        "# IS_COLAB_BACKEND = 'COLAB_GPU' in os.environ  # this is always set on Colab, the value is 0 or 1 depending on GPU presence\n",
        "# if IS_COLAB_BACKEND:\n",
        "#   from google.colab import auth\n",
        "#   # Authenticates the Colab machine and also the TPU using your\n",
        "#   # credentials so that they can access your private GCS buckets.\n",
        "#   auth.authenticate_user()"
      ],
      "execution_count": null,
      "outputs": []
    },
    {
      "cell_type": "code",
      "metadata": {
        "colab": {
          "base_uri": "https://localhost:8080/"
        },
        "id": "KxuIwCh74l1i",
        "outputId": "cecfb84b-eca7-4314-f05a-5c8ee0f090a7"
      },
      "source": [
        "tpu = tf.distribute.cluster_resolver.TPUClusterResolver() # TPU detection\n",
        "tf.config.experimental_connect_to_cluster(tpu)\n",
        "tf.tpu.experimental.initialize_tpu_system(tpu)\n",
        "strategy = tf.distribute.experimental.TPUStrategy(tpu) # Going back and forth between TPU and host is expensive. Better to run 128 batches on the TPU before reporting back.\n",
        "# print('Running on TPU ', tpu.cluster_spec().as_dict()['worker'])  \n",
        "print(\"Number of accelerators: \", strategy.num_replicas_in_sync)"
      ],
      "execution_count": null,
      "outputs": [
        {
          "output_type": "stream",
          "text": [
            "INFO:tensorflow:Initializing the TPU system: grpc://10.74.208.98:8470\n"
          ],
          "name": "stdout"
        },
        {
          "output_type": "stream",
          "text": [
            "INFO:tensorflow:Initializing the TPU system: grpc://10.74.208.98:8470\n"
          ],
          "name": "stderr"
        },
        {
          "output_type": "stream",
          "text": [
            "INFO:tensorflow:Clearing out eager caches\n"
          ],
          "name": "stdout"
        },
        {
          "output_type": "stream",
          "text": [
            "INFO:tensorflow:Clearing out eager caches\n"
          ],
          "name": "stderr"
        },
        {
          "output_type": "stream",
          "text": [
            "INFO:tensorflow:Finished initializing TPU system.\n"
          ],
          "name": "stdout"
        },
        {
          "output_type": "stream",
          "text": [
            "INFO:tensorflow:Finished initializing TPU system.\n",
            "WARNING:absl:`tf.distribute.experimental.TPUStrategy` is deprecated, please use  the non experimental symbol `tf.distribute.TPUStrategy` instead.\n"
          ],
          "name": "stderr"
        },
        {
          "output_type": "stream",
          "text": [
            "INFO:tensorflow:Found TPU system:\n"
          ],
          "name": "stdout"
        },
        {
          "output_type": "stream",
          "text": [
            "INFO:tensorflow:Found TPU system:\n"
          ],
          "name": "stderr"
        },
        {
          "output_type": "stream",
          "text": [
            "INFO:tensorflow:*** Num TPU Cores: 8\n"
          ],
          "name": "stdout"
        },
        {
          "output_type": "stream",
          "text": [
            "INFO:tensorflow:*** Num TPU Cores: 8\n"
          ],
          "name": "stderr"
        },
        {
          "output_type": "stream",
          "text": [
            "INFO:tensorflow:*** Num TPU Workers: 1\n"
          ],
          "name": "stdout"
        },
        {
          "output_type": "stream",
          "text": [
            "INFO:tensorflow:*** Num TPU Workers: 1\n"
          ],
          "name": "stderr"
        },
        {
          "output_type": "stream",
          "text": [
            "INFO:tensorflow:*** Num TPU Cores Per Worker: 8\n"
          ],
          "name": "stdout"
        },
        {
          "output_type": "stream",
          "text": [
            "INFO:tensorflow:*** Num TPU Cores Per Worker: 8\n"
          ],
          "name": "stderr"
        },
        {
          "output_type": "stream",
          "text": [
            "INFO:tensorflow:*** Available Device: _DeviceAttributes(/job:localhost/replica:0/task:0/device:CPU:0, CPU, 0, 0)\n"
          ],
          "name": "stdout"
        },
        {
          "output_type": "stream",
          "text": [
            "INFO:tensorflow:*** Available Device: _DeviceAttributes(/job:localhost/replica:0/task:0/device:CPU:0, CPU, 0, 0)\n"
          ],
          "name": "stderr"
        },
        {
          "output_type": "stream",
          "text": [
            "INFO:tensorflow:*** Available Device: _DeviceAttributes(/job:worker/replica:0/task:0/device:CPU:0, CPU, 0, 0)\n"
          ],
          "name": "stdout"
        },
        {
          "output_type": "stream",
          "text": [
            "INFO:tensorflow:*** Available Device: _DeviceAttributes(/job:worker/replica:0/task:0/device:CPU:0, CPU, 0, 0)\n"
          ],
          "name": "stderr"
        },
        {
          "output_type": "stream",
          "text": [
            "INFO:tensorflow:*** Available Device: _DeviceAttributes(/job:worker/replica:0/task:0/device:TPU:0, TPU, 0, 0)\n"
          ],
          "name": "stdout"
        },
        {
          "output_type": "stream",
          "text": [
            "INFO:tensorflow:*** Available Device: _DeviceAttributes(/job:worker/replica:0/task:0/device:TPU:0, TPU, 0, 0)\n"
          ],
          "name": "stderr"
        },
        {
          "output_type": "stream",
          "text": [
            "INFO:tensorflow:*** Available Device: _DeviceAttributes(/job:worker/replica:0/task:0/device:TPU:1, TPU, 0, 0)\n"
          ],
          "name": "stdout"
        },
        {
          "output_type": "stream",
          "text": [
            "INFO:tensorflow:*** Available Device: _DeviceAttributes(/job:worker/replica:0/task:0/device:TPU:1, TPU, 0, 0)\n"
          ],
          "name": "stderr"
        },
        {
          "output_type": "stream",
          "text": [
            "INFO:tensorflow:*** Available Device: _DeviceAttributes(/job:worker/replica:0/task:0/device:TPU:2, TPU, 0, 0)\n"
          ],
          "name": "stdout"
        },
        {
          "output_type": "stream",
          "text": [
            "INFO:tensorflow:*** Available Device: _DeviceAttributes(/job:worker/replica:0/task:0/device:TPU:2, TPU, 0, 0)\n"
          ],
          "name": "stderr"
        },
        {
          "output_type": "stream",
          "text": [
            "INFO:tensorflow:*** Available Device: _DeviceAttributes(/job:worker/replica:0/task:0/device:TPU:3, TPU, 0, 0)\n"
          ],
          "name": "stdout"
        },
        {
          "output_type": "stream",
          "text": [
            "INFO:tensorflow:*** Available Device: _DeviceAttributes(/job:worker/replica:0/task:0/device:TPU:3, TPU, 0, 0)\n"
          ],
          "name": "stderr"
        },
        {
          "output_type": "stream",
          "text": [
            "INFO:tensorflow:*** Available Device: _DeviceAttributes(/job:worker/replica:0/task:0/device:TPU:4, TPU, 0, 0)\n"
          ],
          "name": "stdout"
        },
        {
          "output_type": "stream",
          "text": [
            "INFO:tensorflow:*** Available Device: _DeviceAttributes(/job:worker/replica:0/task:0/device:TPU:4, TPU, 0, 0)\n"
          ],
          "name": "stderr"
        },
        {
          "output_type": "stream",
          "text": [
            "INFO:tensorflow:*** Available Device: _DeviceAttributes(/job:worker/replica:0/task:0/device:TPU:5, TPU, 0, 0)\n"
          ],
          "name": "stdout"
        },
        {
          "output_type": "stream",
          "text": [
            "INFO:tensorflow:*** Available Device: _DeviceAttributes(/job:worker/replica:0/task:0/device:TPU:5, TPU, 0, 0)\n"
          ],
          "name": "stderr"
        },
        {
          "output_type": "stream",
          "text": [
            "INFO:tensorflow:*** Available Device: _DeviceAttributes(/job:worker/replica:0/task:0/device:TPU:6, TPU, 0, 0)\n"
          ],
          "name": "stdout"
        },
        {
          "output_type": "stream",
          "text": [
            "INFO:tensorflow:*** Available Device: _DeviceAttributes(/job:worker/replica:0/task:0/device:TPU:6, TPU, 0, 0)\n"
          ],
          "name": "stderr"
        },
        {
          "output_type": "stream",
          "text": [
            "INFO:tensorflow:*** Available Device: _DeviceAttributes(/job:worker/replica:0/task:0/device:TPU:7, TPU, 0, 0)\n"
          ],
          "name": "stdout"
        },
        {
          "output_type": "stream",
          "text": [
            "INFO:tensorflow:*** Available Device: _DeviceAttributes(/job:worker/replica:0/task:0/device:TPU:7, TPU, 0, 0)\n"
          ],
          "name": "stderr"
        },
        {
          "output_type": "stream",
          "text": [
            "INFO:tensorflow:*** Available Device: _DeviceAttributes(/job:worker/replica:0/task:0/device:TPU_SYSTEM:0, TPU_SYSTEM, 0, 0)\n"
          ],
          "name": "stdout"
        },
        {
          "output_type": "stream",
          "text": [
            "INFO:tensorflow:*** Available Device: _DeviceAttributes(/job:worker/replica:0/task:0/device:TPU_SYSTEM:0, TPU_SYSTEM, 0, 0)\n"
          ],
          "name": "stderr"
        },
        {
          "output_type": "stream",
          "text": [
            "INFO:tensorflow:*** Available Device: _DeviceAttributes(/job:worker/replica:0/task:0/device:XLA_CPU:0, XLA_CPU, 0, 0)\n"
          ],
          "name": "stdout"
        },
        {
          "output_type": "stream",
          "text": [
            "INFO:tensorflow:*** Available Device: _DeviceAttributes(/job:worker/replica:0/task:0/device:XLA_CPU:0, XLA_CPU, 0, 0)\n"
          ],
          "name": "stderr"
        },
        {
          "output_type": "stream",
          "text": [
            "Number of accelerators:  8\n"
          ],
          "name": "stdout"
        }
      ]
    },
    {
      "cell_type": "code",
      "metadata": {
        "id": "8aYL0WCQ5Owl"
      },
      "source": [
        "batch_size = 64\n",
        "BATCH_SIZE = batch_size * strategy.num_replicas_in_sync # Gobal batch size.\n",
        "# The global batch size will be automatically sharded across all\n",
        "# replicas by the tf.data.Dataset API. A single TPU has 8 cores.\n",
        "# The best practice is to scale the batch size by the number of\n",
        "# replicas (cores). The learning rate should be increased as well."
      ],
      "execution_count": null,
      "outputs": []
    },
    {
      "cell_type": "code",
      "metadata": {
        "id": "3JGYzuG70ozS"
      },
      "source": [
        "# BATCH_SIZE = 128"
      ],
      "execution_count": null,
      "outputs": []
    },
    {
      "cell_type": "code",
      "metadata": {
        "colab": {
          "base_uri": "https://localhost:8080/"
        },
        "id": "HAIXHJw65ywA",
        "outputId": "863287ba-2637-4a8d-cba7-0c3b189362fe"
      },
      "source": [
        "(X_train, y_train), (X_test, y_test) = mnist.load_data()"
      ],
      "execution_count": null,
      "outputs": [
        {
          "output_type": "stream",
          "text": [
            "Downloading data from https://storage.googleapis.com/tensorflow/tf-keras-datasets/mnist.npz\n",
            "11493376/11490434 [==============================] - 0s 0us/step\n"
          ],
          "name": "stdout"
        }
      ]
    },
    {
      "cell_type": "code",
      "metadata": {
        "colab": {
          "base_uri": "https://localhost:8080/",
          "height": 282
        },
        "id": "z9EOzu_J-q1n",
        "outputId": "0741b641-a6ce-4f69-b5a5-f3dc80607c2d"
      },
      "source": [
        "def display_random_digit():\n",
        "    random = np.random.randint(len(X_train))\n",
        "    random_image = X_train[random]\n",
        "    plt.imshow(random_image, cmap = 'gray')\n",
        "    print(y_train[random])\n",
        "\n",
        "display_random_digit()"
      ],
      "execution_count": null,
      "outputs": [
        {
          "output_type": "stream",
          "text": [
            "6\n"
          ],
          "name": "stdout"
        },
        {
          "output_type": "display_data",
          "data": {
            "image/png": "[encoded data removed]",
            "text/plain": [
              "<Figure size 432x288 with 1 Axes>"
            ]
          },
          "metadata": {
            "tags": []
          }
        }
      ]
    },
    {
      "cell_type": "code",
      "metadata": {
        "colab": {
          "base_uri": "https://localhost:8080/"
        },
        "id": "-4X3kNzQ_Qec",
        "outputId": "a010217a-9062-420e-d7eb-c2a980f00337"
      },
      "source": [
        "def print_shape():\n",
        "    print('Shape of the training dataset:')\n",
        "    print(X_train.shape, y_train.shape)\n",
        "    print('\\nShape of the test dataset:')\n",
        "    print(X_test.shape, y_test.shape)\n",
        "\n",
        "print_shape()"
      ],
      "execution_count": null,
      "outputs": [
        {
          "output_type": "stream",
          "text": [
            "Shape of the training dataset:\n",
            "(60000, 28, 28) (60000,)\n",
            "\n",
            "Shape of the test dataset:\n",
            "(10000, 28, 28) (10000,)\n"
          ],
          "name": "stdout"
        }
      ]
    },
    {
      "cell_type": "code",
      "metadata": {
        "colab": {
          "base_uri": "https://localhost:8080/"
        },
        "id": "XhUIrvvXR22a",
        "outputId": "e0710352-95ca-4f6e-8945-2fc98118ac39"
      },
      "source": [
        "X_train = np.reshape(X_train, (30000, 2, 28, 28))/255.\n",
        "y_train = np.reshape(y_train, (30000, 2,))\n",
        "X_test = np.reshape(X_test, (5000, 2, 28, 28))/255.\n",
        "y_test = np.reshape(y_test, (5000, 2,))\n",
        "\n",
        "print_shape()"
      ],
      "execution_count": null,
      "outputs": [
        {
          "output_type": "stream",
          "text": [
            "Shape of the training dataset:\n",
            "(30000, 2, 28, 28) (30000, 2)\n",
            "\n",
            "Shape of the test dataset:\n",
            "(5000, 2, 28, 28) (5000, 2)\n"
          ],
          "name": "stdout"
        }
      ]
    },
    {
      "cell_type": "code",
      "metadata": {
        "colab": {
          "base_uri": "https://localhost:8080/"
        },
        "id": "TbSM9uliWoxY",
        "outputId": "9e785015-2a80-45ca-b4e0-897aa68490fc"
      },
      "source": [
        "ml = MultiLabelBinarizer()\n",
        "ml.fit([tuple(np.unique(y_train))])"
      ],
      "execution_count": null,
      "outputs": [
        {
          "output_type": "execute_result",
          "data": {
            "text/plain": [
              "MultiLabelBinarizer(classes=None, sparse_output=False)"
            ]
          },
          "metadata": {
            "tags": []
          },
          "execution_count": 11
        }
      ]
    },
    {
      "cell_type": "code",
      "metadata": {
        "id": "U_e_kq0Oh0Ve"
      },
      "source": [
        "def preprocess_dataset(images, labels):\n",
        "    '''\n",
        "    This function randomly places 2 28*28 image in 100*100 canvas and also saves the bounding box co-ordinates.\n",
        "    '''\n",
        "    w, h = images[0][0].shape, images[0][0].shape\n",
        "    image1 = images[0]\n",
        "    image2 = images[1]\n",
        "    ans1 = labels[0]\n",
        "    ans2 = labels[1]\n",
        "    desired_output = 100\n",
        "\n",
        "    canvas = np.zeros((desired_output, desired_output))\n",
        "\n",
        "    while(True):\n",
        "        rand_width1, rand_height1 = np.random.randint(72, size=2) # 100-28 = 72 x_min, y_min\n",
        "        rand_width2, rand_height2 = np.random.randint(72, size = 2)\n",
        "        if (abs(rand_width1 - rand_width2)>=30 or abs(rand_height1 - rand_height2) >= 30):  # avoid collision of images\n",
        "            break\n",
        "\n",
        "    div = float(desired_output) # to normalize the values\n",
        "    boxes = [[rand_width1/div, rand_height1/div, (rand_width1+28)/div, (rand_height1+28)/div],\n",
        "           [rand_width2/div, rand_height2/div, (rand_width2+28)/div, (rand_height2+28)/div]]   \n",
        "\n",
        "    canvas[rand_width1 : rand_width1+28, rand_height1 : rand_height1+28] = image1\n",
        "    canvas[rand_width2 : rand_width2+28, rand_height2 : rand_height2+28] = image2\n",
        "\n",
        "    canvas = np.expand_dims(canvas, axis = -1)\n",
        "    boxes = np.array(boxes, dtype = float)\n",
        "\n",
        "    y = [(ans1, ans2)]\n",
        "    label = ml.transform(y).flatten()\n",
        "\n",
        "    return canvas, (label, boxes)\n",
        "\n",
        "def display_bound_boxes(images, boxes, labels):\n",
        "    '''\n",
        "    Displays images with bounding boxes. Accepts 4D images, 3D boxes, 2D labels\n",
        "    '''\n",
        "    images = tf.image.grayscale_to_rgb(tf.convert_to_tensor(images)).numpy()\n",
        "    color = np.array([[1.0, 0.0, 0.0], [2.0, 0.0, 0.0]])\n",
        "\n",
        "    images = draw_bounding_boxes(images, boxes, colors=color)\n",
        "\n",
        "    \n",
        "    nrows = np.ceil(len(images)/10).astype(int)\n",
        "    fig, axes = plt.subplots(nrows, 10, figsize = (20, 3*nrows), sharex = True, sharey=True)\n",
        "    for ax, image, label in zip(axes.ravel(), images, labels):\n",
        "        # image = tf.cast(image*255, tf.uint8) # to remove the warnings but the colour of image changes\n",
        "        label = label.argsort()[-2:][::-1]\n",
        "        label = str(label[0]) + ', ' + str(label[1])\n",
        "\n",
        "        logger = logging.getLogger()\n",
        "        old_level = logger.level\n",
        "        logger.setLevel(100)\n",
        "\n",
        "        ax.imshow(image, cmap = 'gray')\n",
        "        ax.set_title(label)\n",
        "\n",
        "        logger.setLevel(old_level)\n",
        "\n",
        "\n",
        "def reshaping(X, Y):\n",
        "    ans = []\n",
        "    leng = X.shape[0]\n",
        "    for x, y in zip(X, Y):\n",
        "        ans.append(preprocess_dataset(x, y))\n",
        "    ans = np.asarray(ans)\n",
        "    ans = ans.flatten('F')\n",
        "    imgs = ans[:leng]\n",
        "    ys = ans[leng:]\n",
        "\n",
        "    imgs = np.concatenate(imgs).reshape((leng, 100, 100, 1)).astype('float32')\n",
        "    print('Images shape: ', imgs.shape)\n",
        "\n",
        "    labels = np.array([list(l[0]) for l in ys], dtype = 'float32')\n",
        "    print('Labels shape: ', labels.shape)\n",
        "\n",
        "    boxes = []\n",
        "    for i in range(len(ys)):\n",
        "        boxes.append(ys[i][1])\n",
        "\n",
        "    boxes = [[item for subsublist in box for item in subsublist] for box in boxes]\n",
        "    boxes = np.array(boxes).astype('float32')\n",
        "    print('Boxes shape: ', boxes.shape)\n",
        "\n",
        "    return imgs, (labels, boxes)"
      ],
      "execution_count": null,
      "outputs": []
    },
    {
      "cell_type": "code",
      "metadata": {
        "colab": {
          "base_uri": "https://localhost:8080/"
        },
        "id": "24Jn23WHyOhb",
        "outputId": "d2bca7cc-00ab-4c9a-8695-2e2a9a7eee41"
      },
      "source": [
        "train_dataset = tf.data.Dataset.from_tensor_slices(reshaping(X_train, y_train))\n",
        "train_dataset = train_dataset.shuffle(1024).batch(BATCH_SIZE).prefetch(-1)"
      ],
      "execution_count": null,
      "outputs": [
        {
          "output_type": "stream",
          "text": [
            "/usr/local/lib/python3.7/dist-packages/numpy/core/_asarray.py:83: VisibleDeprecationWarning: Creating an ndarray from ragged nested sequences (which is a list-or-tuple of lists-or-tuples-or ndarrays with different lengths or shapes) is deprecated. If you meant to do this, you must specify 'dtype=object' when creating the ndarray\n",
            "  return array(a, dtype, copy=False, order=order)\n"
          ],
          "name": "stderr"
        },
        {
          "output_type": "stream",
          "text": [
            "Images shape:  (30000, 100, 100, 1)\n",
            "Labels shape:  (30000, 10)\n",
            "Boxes shape:  (30000, 8)\n"
          ],
          "name": "stdout"
        }
      ]
    },
    {
      "cell_type": "code",
      "metadata": {
        "colab": {
          "base_uri": "https://localhost:8080/"
        },
        "id": "b7BfZl1czZLp",
        "outputId": "39136173-c4ee-4acd-b61b-0608d6aff034"
      },
      "source": [
        "valid_dataset = tf.data.Dataset.from_tensor_slices(reshaping(X_test, y_test))\n",
        "valid_dataset = valid_dataset.shuffle(1024).batch(BATCH_SIZE).prefetch(-1)"
      ],
      "execution_count": null,
      "outputs": [
        {
          "output_type": "stream",
          "text": [
            "/usr/local/lib/python3.7/dist-packages/numpy/core/_asarray.py:83: VisibleDeprecationWarning: Creating an ndarray from ragged nested sequences (which is a list-or-tuple of lists-or-tuples-or ndarrays with different lengths or shapes) is deprecated. If you meant to do this, you must specify 'dtype=object' when creating the ndarray\n",
            "  return array(a, dtype, copy=False, order=order)\n"
          ],
          "name": "stderr"
        },
        {
          "output_type": "stream",
          "text": [
            "Images shape:  (5000, 100, 100, 1)\n",
            "Labels shape:  (5000, 10)\n",
            "Boxes shape:  (5000, 8)\n"
          ],
          "name": "stdout"
        }
      ]
    },
    {
      "cell_type": "code",
      "metadata": {
        "colab": {
          "base_uri": "https://localhost:8080/",
          "height": 336
        },
        "id": "HP_KR4xkqAzi",
        "outputId": "4cc0c1bd-4056-4476-c2b9-7d3772d222e3"
      },
      "source": [
        "# Display random digits from both training and validation dataset with predictions and boxes\n",
        "\n",
        "dataset = train_dataset\n",
        "batches = 10\n",
        "batch_size = 2\n",
        "y = []\n",
        "train_images = []\n",
        "train_boxes = []\n",
        "train_labels = []\n",
        "for n, ex in enumerate(dataset.unbatch().batch(batch_size).shuffle(5).as_numpy_iterator()):\n",
        "    if n>=batches:\n",
        "        break\n",
        "    train_images.append(ex[0])\n",
        "    y.append(ex[1])\n",
        "train_images = np.array(train_images).reshape((batches*batch_size, 100, 100, 1))\n",
        "\n",
        "for batch in range(batches):\n",
        "    train_labels.append(y[batch][0])\n",
        "    train_boxes.append(y[batch][1])\n",
        "train_boxes = np.array(train_boxes).reshape(batches*batch_size,2, 4)\n",
        "train_labels = np.array(train_labels).reshape(batches*batch_size, 10)\n",
        "\n",
        "display_bound_boxes(train_images, train_boxes, train_labels)"
      ],
      "execution_count": null,
      "outputs": [
        {
          "output_type": "display_data",
          "data": {
            "image/png": "[encoded data removed]",
            "text/plain": [
              "<Figure size 1440x432 with 20 Axes>"
            ]
          },
          "metadata": {
            "tags": []
          }
        }
      ]
    },
    {
      "cell_type": "code",
      "metadata": {
        "colab": {
          "base_uri": "https://localhost:8080/"
        },
        "id": "cR09G0m5ZkLF",
        "outputId": "54c3f0fd-4ee0-4b3d-c2f5-c612d015101f"
      },
      "source": [
        "print(train_dataset)"
      ],
      "execution_count": null,
      "outputs": [
        {
          "output_type": "stream",
          "text": [
            "<PrefetchDataset shapes: ((None, 100, 100, 1), ((None, 10), (None, 8))), types: (tf.float32, (tf.float32, tf.float32))>\n"
          ],
          "name": "stdout"
        }
      ]
    },
    {
      "cell_type": "code",
      "metadata": {
        "id": "BM4yzNy2UJ61"
      },
      "source": [
        "# define model\n",
        "\n",
        "def feature_extractor(inputs):\n",
        "    x = Conv2D(32, 3, padding = 'same', activation='relu')(inputs)\n",
        "    x = MaxPooling2D()(x)\n",
        "\n",
        "    x = Conv2D(32, 3, activation='relu', padding = 'same')(x)\n",
        "    x = MaxPooling2D()(x)\n",
        "\n",
        "    x = Conv2D(64, 3, activation='relu', padding='same')(x)\n",
        "    x = MaxPooling2D()(x)\n",
        "\n",
        "    x = Conv2D(64, 3, activation='relu', padding='same')(x)\n",
        "    x = MaxPooling2D()(x)\n",
        "\n",
        "    x = Conv2D(128, 3, activation='relu', padding='same')(x)\n",
        "    x = MaxPooling2D()(x)\n",
        "\n",
        "    return x\n",
        "\n",
        "def dense_part(inputs):\n",
        "    x = Flatten()(inputs)\n",
        "    x = Dense(128, activation='relu')(x)\n",
        "    x = Dense(64, activation='relu')(x)\n",
        "\n",
        "    return x\n",
        "\n",
        "def classifier_output(inputs):\n",
        "    # x = Dense(64, activation = 'relu')(inputs)\n",
        "    x = Dense(32, activation = 'relu')(inputs)\n",
        "    output = Dense(10, activation='sigmoid', name = 'Classifier')(x)\n",
        "\n",
        "    return output\n",
        "\n",
        "def regressor_output(inputs):\n",
        "    # x = Dense(128, activation = 'relu')(inputs)\n",
        "    x = Dense(64, activation = 'relu')(inputs)\n",
        "    x = Dense(32, activation = 'relu')(x)\n",
        "    # x = Dense(32, activation = 'relu')(x)\n",
        "    x = Dense(10, activation = 'relu')(x)\n",
        "    output = Dense(8, name = 'Regressor')(x)\n",
        "\n",
        "    return output\n",
        "\n",
        "# @tf.function\n",
        "def myModel():\n",
        "    input = Input(shape = (100, 100, 1))\n",
        "\n",
        "    extractor_ouptput = feature_extractor(input)\n",
        "    dense_output = dense_part(extractor_ouptput)\n",
        "    output1 = classifier_output(dense_output)\n",
        "    output2 = regressor_output(dense_output)\n",
        "\n",
        "    model = Model(input, [output1, output2])\n",
        "\n",
        "    return model\n"
      ],
      "execution_count": null,
      "outputs": []
    },
    {
      "cell_type": "code",
      "metadata": {
        "id": "IOurblo2x5QF"
      },
      "source": [
        "with strategy.scope():\n",
        "    model = myModel()\n",
        "    model.compile(optimizer=tf.keras.optimizers.Adam(0.0001), \n",
        "                loss = {'Classifier' : 'binary_crossentropy',\n",
        "                        'Regressor' : 'mae'\n",
        "                        },\n",
        "                metrics = ['accuracy'])\n",
        "                #   metrics = {'Classifier' : 'accuracy',\n",
        "                #              'Regressor' : 'mse'\n",
        "                #             })"
      ],
      "execution_count": null,
      "outputs": []
    },
    {
      "cell_type": "code",
      "metadata": {
        "id": "UtI87Fpa0rqU"
      },
      "source": [
        "plot_model(model, show_shapes=True)"
      ],
      "execution_count": null,
      "outputs": []
    },
    {
      "cell_type": "code",
      "metadata": {
        "id": "z1qfdbPjuB0a"
      },
      "source": [
        "def print_evaluate():\n",
        "    train_c_acc = hist.history['Classifier_accuracy']\n",
        "    train_r_acc = hist.history['Regressor_accuracy']\n",
        "    train_loss = hist.history['loss']\n",
        "\n",
        "    valid_c_acc = hist.history['val_Classifier_accuracy']\n",
        "    valid_r_acc = hist.history['val_Regressor_accuracy']\n",
        "    valid_loss = hist.history['val_loss']\n",
        "    epochs = range(len(train_c_acc))\n",
        "\n",
        "    plt.plot(epochs, train_c_acc, 'r', label = 'Train Classifier Accuracy',)\n",
        "    plt.plot(epochs, valid_c_acc, 'b', label = 'Validation Classifier Accuracy')\n",
        "    # plt.plot(epochs, 0.75, 'y', label = 'Boundary')\n",
        "    plt.legend()\n",
        "    plt.title('Classifier Accuracy')\n",
        "    plt.show()\n",
        "\n",
        "    plt.plot(epochs, train_r_acc, 'r', label = 'Train Regressor Accuracy',)\n",
        "    plt.plot(epochs, valid_r_acc, 'b', label = 'Validation Regressor Accuracy')\n",
        "    # plt.plot(epochs, 0.75, 'y', label = 'Boundary')\n",
        "    plt.legend()\n",
        "    plt.title('Regressor Accuracy')\n",
        "    plt.show()\n",
        "\n",
        "    plt.plot(epochs, train_loss, 'r', label = 'Train Loss')\n",
        "    plt.plot(epochs, valid_loss, 'b', label = 'Validation Loss')\n",
        "    plt.legend()\n",
        "    plt.title('Loss')\n",
        "    plt.show()"
      ],
      "execution_count": null,
      "outputs": []
    },
    {
      "cell_type": "code",
      "metadata": {
        "id": "5PqRyhFzMzlL"
      },
      "source": [
        "es = tf.keras.callbacks.EarlyStopping(monitor='val_Regressor_accuracy', min_delta = 0.01, patience=30, verbose = 1, restore_best_weights=True)"
      ],
      "execution_count": null,
      "outputs": []
    },
    {
      "cell_type": "code",
      "metadata": {
        "colab": {
          "base_uri": "https://localhost:8080/"
        },
        "id": "Pf0i0GCW0Iyh",
        "outputId": "afbe303a-d12d-4082-b84b-bdb049c6bc0a"
      },
      "source": [
        "epochs = 500\n",
        "# steps_per_epoch = 30000//BATCH_SIZE\n",
        "# val_steps = 5000//BATCH_SIZE\n",
        "\n",
        "hist = model.fit(train_dataset, epochs = epochs, validation_data= valid_dataset)"
      ],
      "execution_count": null,
      "outputs": [
        {
          "output_type": "stream",
          "text": [
            "Epoch 1/500\n",
            "59/59 [==============================] - 17s 163ms/step - loss: 1.1619 - Classifier_loss: 0.6669 - Regressor_loss: 0.4950 - Classifier_accuracy: 0.1724 - Regressor_accuracy: 0.0245 - val_loss: 1.0046 - val_Classifier_loss: 0.5226 - val_Regressor_loss: 0.4821 - val_Classifier_accuracy: 0.0638 - val_Regressor_accuracy: 0.0026\n",
            "Epoch 2/500\n",
            "59/59 [==============================] - 4s 69ms/step - loss: 0.9906 - Classifier_loss: 0.5148 - Regressor_loss: 0.4758 - Classifier_accuracy: 0.0545 - Regressor_accuracy: 0.0027 - val_loss: 0.9726 - val_Classifier_loss: 0.5067 - val_Regressor_loss: 0.4659 - val_Classifier_accuracy: 0.0692 - val_Regressor_accuracy: 0.0034\n",
            "Epoch 3/500\n",
            "59/59 [==============================] - 4s 62ms/step - loss: 0.9662 - Classifier_loss: 0.5023 - Regressor_loss: 0.4639 - Classifier_accuracy: 0.0745 - Regressor_accuracy: 0.0043 - val_loss: 0.9579 - val_Classifier_loss: 0.5000 - val_Regressor_loss: 0.4579 - val_Classifier_accuracy: 0.0882 - val_Regressor_accuracy: 0.0168\n",
            "Epoch 4/500\n",
            "59/59 [==============================] - 4s 62ms/step - loss: 0.9523 - Classifier_loss: 0.4961 - Regressor_loss: 0.4562 - Classifier_accuracy: 0.0931 - Regressor_accuracy: 0.0229 - val_loss: 0.9457 - val_Classifier_loss: 0.4953 - val_Regressor_loss: 0.4504 - val_Classifier_accuracy: 0.0922 - val_Regressor_accuracy: 0.0438\n",
            "Epoch 5/500\n",
            "59/59 [==============================] - 4s 62ms/step - loss: 0.9400 - Classifier_loss: 0.4915 - Regressor_loss: 0.4485 - Classifier_accuracy: 0.0968 - Regressor_accuracy: 0.0646 - val_loss: 0.9323 - val_Classifier_loss: 0.4899 - val_Regressor_loss: 0.4424 - val_Classifier_accuracy: 0.1076 - val_Regressor_accuracy: 0.1390\n",
            "Epoch 6/500\n",
            "59/59 [==============================] - 4s 61ms/step - loss: 0.9230 - Classifier_loss: 0.4838 - Regressor_loss: 0.4392 - Classifier_accuracy: 0.1306 - Regressor_accuracy: 0.1622 - val_loss: 0.9043 - val_Classifier_loss: 0.4743 - val_Regressor_loss: 0.4299 - val_Classifier_accuracy: 0.1340 - val_Regressor_accuracy: 0.2528\n",
            "Epoch 7/500\n",
            "59/59 [==============================] - 4s 63ms/step - loss: 0.8890 - Classifier_loss: 0.4656 - Regressor_loss: 0.4233 - Classifier_accuracy: 0.1480 - Regressor_accuracy: 0.2484 - val_loss: 0.8719 - val_Classifier_loss: 0.4615 - val_Regressor_loss: 0.4104 - val_Classifier_accuracy: 0.1664 - val_Regressor_accuracy: 0.2630\n",
            "Epoch 8/500\n",
            "59/59 [==============================] - 4s 62ms/step - loss: 0.8562 - Classifier_loss: 0.4520 - Regressor_loss: 0.4042 - Classifier_accuracy: 0.1847 - Regressor_accuracy: 0.2592 - val_loss: 0.8460 - val_Classifier_loss: 0.4518 - val_Regressor_loss: 0.3942 - val_Classifier_accuracy: 0.2306 - val_Regressor_accuracy: 0.2756\n",
            "Epoch 9/500\n",
            "59/59 [==============================] - 4s 64ms/step - loss: 0.8312 - Classifier_loss: 0.4426 - Regressor_loss: 0.3886 - Classifier_accuracy: 0.2724 - Regressor_accuracy: 0.2823 - val_loss: 0.8271 - val_Classifier_loss: 0.4471 - val_Regressor_loss: 0.3800 - val_Classifier_accuracy: 0.2730 - val_Regressor_accuracy: 0.2696\n",
            "Epoch 10/500\n",
            "59/59 [==============================] - 4s 72ms/step - loss: 0.8097 - Classifier_loss: 0.4368 - Regressor_loss: 0.3729 - Classifier_accuracy: 0.3031 - Regressor_accuracy: 0.2981 - val_loss: 0.8049 - val_Classifier_loss: 0.4393 - val_Regressor_loss: 0.3656 - val_Classifier_accuracy: 0.3124 - val_Regressor_accuracy: 0.2844\n",
            "Epoch 11/500\n",
            "59/59 [==============================] - 4s 64ms/step - loss: 0.7890 - Classifier_loss: 0.4307 - Regressor_loss: 0.3583 - Classifier_accuracy: 0.3205 - Regressor_accuracy: 0.2994 - val_loss: 0.7858 - val_Classifier_loss: 0.4340 - val_Regressor_loss: 0.3517 - val_Classifier_accuracy: 0.3246 - val_Regressor_accuracy: 0.2802\n",
            "Epoch 12/500\n",
            "59/59 [==============================] - 4s 62ms/step - loss: 0.7689 - Classifier_loss: 0.4253 - Regressor_loss: 0.3436 - Classifier_accuracy: 0.3363 - Regressor_accuracy: 0.2988 - val_loss: 0.7660 - val_Classifier_loss: 0.4274 - val_Regressor_loss: 0.3387 - val_Classifier_accuracy: 0.3432 - val_Regressor_accuracy: 0.2800\n",
            "Epoch 13/500\n",
            "59/59 [==============================] - 4s 63ms/step - loss: 0.7485 - Classifier_loss: 0.4186 - Regressor_loss: 0.3299 - Classifier_accuracy: 0.3548 - Regressor_accuracy: 0.3091 - val_loss: 0.7484 - val_Classifier_loss: 0.4205 - val_Regressor_loss: 0.3279 - val_Classifier_accuracy: 0.3580 - val_Regressor_accuracy: 0.2928\n",
            "Epoch 14/500\n",
            "59/59 [==============================] - 4s 64ms/step - loss: 0.7274 - Classifier_loss: 0.4103 - Regressor_loss: 0.3171 - Classifier_accuracy: 0.3822 - Regressor_accuracy: 0.3148 - val_loss: 0.7287 - val_Classifier_loss: 0.4109 - val_Regressor_loss: 0.3178 - val_Classifier_accuracy: 0.3870 - val_Regressor_accuracy: 0.2916\n",
            "Epoch 15/500\n",
            "59/59 [==============================] - 4s 62ms/step - loss: 0.7039 - Classifier_loss: 0.3998 - Regressor_loss: 0.3040 - Classifier_accuracy: 0.4038 - Regressor_accuracy: 0.3183 - val_loss: 0.7051 - val_Classifier_loss: 0.3975 - val_Regressor_loss: 0.3076 - val_Classifier_accuracy: 0.4112 - val_Regressor_accuracy: 0.2862\n",
            "Epoch 16/500\n",
            "59/59 [==============================] - 4s 63ms/step - loss: 0.6814 - Classifier_loss: 0.3903 - Regressor_loss: 0.2911 - Classifier_accuracy: 0.4231 - Regressor_accuracy: 0.3174 - val_loss: 0.6834 - val_Classifier_loss: 0.3862 - val_Regressor_loss: 0.2972 - val_Classifier_accuracy: 0.4304 - val_Regressor_accuracy: 0.2622\n",
            "Epoch 17/500\n",
            "59/59 [==============================] - 4s 62ms/step - loss: 0.6592 - Classifier_loss: 0.3801 - Regressor_loss: 0.2791 - Classifier_accuracy: 0.4429 - Regressor_accuracy: 0.3169 - val_loss: 0.6648 - val_Classifier_loss: 0.3762 - val_Regressor_loss: 0.2886 - val_Classifier_accuracy: 0.4502 - val_Regressor_accuracy: 0.2822\n",
            "Epoch 18/500\n",
            "59/59 [==============================] - 4s 63ms/step - loss: 0.6390 - Classifier_loss: 0.3720 - Regressor_loss: 0.2671 - Classifier_accuracy: 0.4574 - Regressor_accuracy: 0.3188 - val_loss: 0.6449 - val_Classifier_loss: 0.3651 - val_Regressor_loss: 0.2798 - val_Classifier_accuracy: 0.4716 - val_Regressor_accuracy: 0.2754\n",
            "Epoch 19/500\n",
            "59/59 [==============================] - 4s 72ms/step - loss: 0.6194 - Classifier_loss: 0.3626 - Regressor_loss: 0.2567 - Classifier_accuracy: 0.4740 - Regressor_accuracy: 0.3226 - val_loss: 0.6303 - val_Classifier_loss: 0.3585 - val_Regressor_loss: 0.2718 - val_Classifier_accuracy: 0.4530 - val_Regressor_accuracy: 0.2682\n",
            "Epoch 20/500\n",
            "59/59 [==============================] - 4s 62ms/step - loss: 0.6006 - Classifier_loss: 0.3535 - Regressor_loss: 0.2472 - Classifier_accuracy: 0.4872 - Regressor_accuracy: 0.3482 - val_loss: 0.6101 - val_Classifier_loss: 0.3467 - val_Regressor_loss: 0.2634 - val_Classifier_accuracy: 0.4696 - val_Regressor_accuracy: 0.2892\n",
            "Epoch 21/500\n",
            "59/59 [==============================] - 4s 63ms/step - loss: 0.5822 - Classifier_loss: 0.3444 - Regressor_loss: 0.2377 - Classifier_accuracy: 0.5012 - Regressor_accuracy: 0.3863 - val_loss: 0.5933 - val_Classifier_loss: 0.3368 - val_Regressor_loss: 0.2565 - val_Classifier_accuracy: 0.4978 - val_Regressor_accuracy: 0.3002\n",
            "Epoch 22/500\n",
            "59/59 [==============================] - 4s 62ms/step - loss: 0.5644 - Classifier_loss: 0.3353 - Regressor_loss: 0.2291 - Classifier_accuracy: 0.5095 - Regressor_accuracy: 0.4138 - val_loss: 0.5789 - val_Classifier_loss: 0.3297 - val_Regressor_loss: 0.2492 - val_Classifier_accuracy: 0.4998 - val_Regressor_accuracy: 0.3006\n",
            "Epoch 23/500\n",
            "59/59 [==============================] - 4s 62ms/step - loss: 0.5481 - Classifier_loss: 0.3265 - Regressor_loss: 0.2216 - Classifier_accuracy: 0.5189 - Regressor_accuracy: 0.4237 - val_loss: 0.5612 - val_Classifier_loss: 0.3186 - val_Regressor_loss: 0.2426 - val_Classifier_accuracy: 0.5156 - val_Regressor_accuracy: 0.3084\n",
            "Epoch 24/500\n",
            "59/59 [==============================] - 4s 63ms/step - loss: 0.5310 - Classifier_loss: 0.3175 - Regressor_loss: 0.2135 - Classifier_accuracy: 0.5307 - Regressor_accuracy: 0.4297 - val_loss: 0.5456 - val_Classifier_loss: 0.3093 - val_Regressor_loss: 0.2363 - val_Classifier_accuracy: 0.5312 - val_Regressor_accuracy: 0.3084\n",
            "Epoch 25/500\n",
            "59/59 [==============================] - 4s 63ms/step - loss: 0.5157 - Classifier_loss: 0.3091 - Regressor_loss: 0.2066 - Classifier_accuracy: 0.5428 - Regressor_accuracy: 0.4346 - val_loss: 0.5317 - val_Classifier_loss: 0.3018 - val_Regressor_loss: 0.2299 - val_Classifier_accuracy: 0.5430 - val_Regressor_accuracy: 0.3126\n",
            "Epoch 26/500\n",
            "59/59 [==============================] - 4s 64ms/step - loss: 0.4991 - Classifier_loss: 0.2989 - Regressor_loss: 0.2002 - Classifier_accuracy: 0.5515 - Regressor_accuracy: 0.4365 - val_loss: 0.5173 - val_Classifier_loss: 0.2940 - val_Regressor_loss: 0.2233 - val_Classifier_accuracy: 0.5472 - val_Regressor_accuracy: 0.3082\n",
            "Epoch 27/500\n",
            "59/59 [==============================] - 4s 71ms/step - loss: 0.4856 - Classifier_loss: 0.2920 - Regressor_loss: 0.1936 - Classifier_accuracy: 0.5596 - Regressor_accuracy: 0.4396 - val_loss: 0.5045 - val_Classifier_loss: 0.2864 - val_Regressor_loss: 0.2181 - val_Classifier_accuracy: 0.5488 - val_Regressor_accuracy: 0.3082\n",
            "Epoch 28/500\n",
            "59/59 [==============================] - 4s 63ms/step - loss: 0.4716 - Classifier_loss: 0.2841 - Regressor_loss: 0.1875 - Classifier_accuracy: 0.5691 - Regressor_accuracy: 0.4406 - val_loss: 0.4934 - val_Classifier_loss: 0.2807 - val_Regressor_loss: 0.2127 - val_Classifier_accuracy: 0.5450 - val_Regressor_accuracy: 0.3022\n",
            "Epoch 29/500\n",
            "59/59 [==============================] - 4s 63ms/step - loss: 0.4584 - Classifier_loss: 0.2761 - Regressor_loss: 0.1823 - Classifier_accuracy: 0.5757 - Regressor_accuracy: 0.4426 - val_loss: 0.4827 - val_Classifier_loss: 0.2748 - val_Regressor_loss: 0.2078 - val_Classifier_accuracy: 0.5630 - val_Regressor_accuracy: 0.3010\n",
            "Epoch 30/500\n",
            "59/59 [==============================] - 4s 64ms/step - loss: 0.4460 - Classifier_loss: 0.2689 - Regressor_loss: 0.1770 - Classifier_accuracy: 0.5820 - Regressor_accuracy: 0.4415 - val_loss: 0.4719 - val_Classifier_loss: 0.2682 - val_Regressor_loss: 0.2038 - val_Classifier_accuracy: 0.5660 - val_Regressor_accuracy: 0.3068\n",
            "Epoch 31/500\n",
            "59/59 [==============================] - 4s 65ms/step - loss: 0.4353 - Classifier_loss: 0.2633 - Regressor_loss: 0.1720 - Classifier_accuracy: 0.5842 - Regressor_accuracy: 0.4450 - val_loss: 0.4611 - val_Classifier_loss: 0.2617 - val_Regressor_loss: 0.1994 - val_Classifier_accuracy: 0.5588 - val_Regressor_accuracy: 0.3016\n",
            "Epoch 32/500\n",
            "59/59 [==============================] - 4s 64ms/step - loss: 0.4247 - Classifier_loss: 0.2568 - Regressor_loss: 0.1680 - Classifier_accuracy: 0.5886 - Regressor_accuracy: 0.4437 - val_loss: 0.4516 - val_Classifier_loss: 0.2558 - val_Regressor_loss: 0.1958 - val_Classifier_accuracy: 0.5692 - val_Regressor_accuracy: 0.3026\n",
            "Epoch 33/500\n",
            "59/59 [==============================] - 4s 64ms/step - loss: 0.4129 - Classifier_loss: 0.2494 - Regressor_loss: 0.1635 - Classifier_accuracy: 0.5941 - Regressor_accuracy: 0.4452 - val_loss: 0.4423 - val_Classifier_loss: 0.2496 - val_Regressor_loss: 0.1927 - val_Classifier_accuracy: 0.5746 - val_Regressor_accuracy: 0.3022\n",
            "Epoch 34/500\n",
            "59/59 [==============================] - 4s 64ms/step - loss: 0.4029 - Classifier_loss: 0.2432 - Regressor_loss: 0.1598 - Classifier_accuracy: 0.6012 - Regressor_accuracy: 0.4499 - val_loss: 0.4339 - val_Classifier_loss: 0.2441 - val_Regressor_loss: 0.1898 - val_Classifier_accuracy: 0.5776 - val_Regressor_accuracy: 0.2988\n",
            "Epoch 35/500\n",
            "59/59 [==============================] - 4s 64ms/step - loss: 0.3943 - Classifier_loss: 0.2376 - Regressor_loss: 0.1567 - Classifier_accuracy: 0.6042 - Regressor_accuracy: 0.4526 - val_loss: 0.4279 - val_Classifier_loss: 0.2404 - val_Regressor_loss: 0.1875 - val_Classifier_accuracy: 0.5704 - val_Regressor_accuracy: 0.3080\n",
            "Epoch 36/500\n",
            "59/59 [==============================] - 4s 73ms/step - loss: 0.3846 - Classifier_loss: 0.2306 - Regressor_loss: 0.1540 - Classifier_accuracy: 0.6087 - Regressor_accuracy: 0.4613 - val_loss: 0.4228 - val_Classifier_loss: 0.2373 - val_Regressor_loss: 0.1855 - val_Classifier_accuracy: 0.5818 - val_Regressor_accuracy: 0.3038\n",
            "Epoch 37/500\n",
            "59/59 [==============================] - 4s 64ms/step - loss: 0.3772 - Classifier_loss: 0.2259 - Regressor_loss: 0.1513 - Classifier_accuracy: 0.6097 - Regressor_accuracy: 0.4647 - val_loss: 0.4128 - val_Classifier_loss: 0.2283 - val_Regressor_loss: 0.1845 - val_Classifier_accuracy: 0.5918 - val_Regressor_accuracy: 0.3232\n",
            "Epoch 38/500\n",
            "59/59 [==============================] - 4s 63ms/step - loss: 0.3682 - Classifier_loss: 0.2195 - Regressor_loss: 0.1487 - Classifier_accuracy: 0.6137 - Regressor_accuracy: 0.4714 - val_loss: 0.4078 - val_Classifier_loss: 0.2249 - val_Regressor_loss: 0.1828 - val_Classifier_accuracy: 0.5848 - val_Regressor_accuracy: 0.3116\n",
            "Epoch 39/500\n",
            "59/59 [==============================] - 4s 64ms/step - loss: 0.3620 - Classifier_loss: 0.2150 - Regressor_loss: 0.1469 - Classifier_accuracy: 0.6111 - Regressor_accuracy: 0.4795 - val_loss: 0.4007 - val_Classifier_loss: 0.2189 - val_Regressor_loss: 0.1818 - val_Classifier_accuracy: 0.5944 - val_Regressor_accuracy: 0.3212\n",
            "Epoch 40/500\n",
            "59/59 [==============================] - 4s 63ms/step - loss: 0.3548 - Classifier_loss: 0.2086 - Regressor_loss: 0.1462 - Classifier_accuracy: 0.6191 - Regressor_accuracy: 0.4813 - val_loss: 0.3918 - val_Classifier_loss: 0.2111 - val_Regressor_loss: 0.1807 - val_Classifier_accuracy: 0.6122 - val_Regressor_accuracy: 0.3262\n",
            "Epoch 41/500\n",
            "59/59 [==============================] - 4s 63ms/step - loss: 0.3465 - Classifier_loss: 0.2024 - Regressor_loss: 0.1441 - Classifier_accuracy: 0.6234 - Regressor_accuracy: 0.4880 - val_loss: 0.3864 - val_Classifier_loss: 0.2059 - val_Regressor_loss: 0.1805 - val_Classifier_accuracy: 0.6076 - val_Regressor_accuracy: 0.3214\n",
            "Epoch 42/500\n",
            "59/59 [==============================] - 4s 62ms/step - loss: 0.3413 - Classifier_loss: 0.1984 - Regressor_loss: 0.1429 - Classifier_accuracy: 0.6257 - Regressor_accuracy: 0.4961 - val_loss: 0.3820 - val_Classifier_loss: 0.2025 - val_Regressor_loss: 0.1795 - val_Classifier_accuracy: 0.5940 - val_Regressor_accuracy: 0.3190\n",
            "Epoch 43/500\n",
            "59/59 [==============================] - 4s 62ms/step - loss: 0.3343 - Classifier_loss: 0.1928 - Regressor_loss: 0.1415 - Classifier_accuracy: 0.6274 - Regressor_accuracy: 0.5031 - val_loss: 0.3751 - val_Classifier_loss: 0.1961 - val_Regressor_loss: 0.1790 - val_Classifier_accuracy: 0.6172 - val_Regressor_accuracy: 0.3182\n",
            "Epoch 44/500\n",
            "59/59 [==============================] - 4s 71ms/step - loss: 0.3280 - Classifier_loss: 0.1872 - Regressor_loss: 0.1408 - Classifier_accuracy: 0.6327 - Regressor_accuracy: 0.5054 - val_loss: 0.3714 - val_Classifier_loss: 0.1922 - val_Regressor_loss: 0.1792 - val_Classifier_accuracy: 0.6174 - val_Regressor_accuracy: 0.3200\n",
            "Epoch 45/500\n",
            "59/59 [==============================] - 4s 64ms/step - loss: 0.3230 - Classifier_loss: 0.1829 - Regressor_loss: 0.1401 - Classifier_accuracy: 0.6364 - Regressor_accuracy: 0.5086 - val_loss: 0.3669 - val_Classifier_loss: 0.1882 - val_Regressor_loss: 0.1787 - val_Classifier_accuracy: 0.6138 - val_Regressor_accuracy: 0.3236\n",
            "Epoch 46/500\n",
            "59/59 [==============================] - 4s 64ms/step - loss: 0.3181 - Classifier_loss: 0.1787 - Regressor_loss: 0.1394 - Classifier_accuracy: 0.6372 - Regressor_accuracy: 0.5100 - val_loss: 0.3626 - val_Classifier_loss: 0.1837 - val_Regressor_loss: 0.1789 - val_Classifier_accuracy: 0.6228 - val_Regressor_accuracy: 0.3042\n",
            "Epoch 47/500\n",
            "59/59 [==============================] - 4s 64ms/step - loss: 0.3135 - Classifier_loss: 0.1743 - Regressor_loss: 0.1391 - Classifier_accuracy: 0.6455 - Regressor_accuracy: 0.5099 - val_loss: 0.3589 - val_Classifier_loss: 0.1806 - val_Regressor_loss: 0.1783 - val_Classifier_accuracy: 0.6314 - val_Regressor_accuracy: 0.3206\n",
            "Epoch 48/500\n",
            "59/59 [==============================] - 4s 63ms/step - loss: 0.3088 - Classifier_loss: 0.1703 - Regressor_loss: 0.1386 - Classifier_accuracy: 0.6473 - Regressor_accuracy: 0.5169 - val_loss: 0.3566 - val_Classifier_loss: 0.1786 - val_Regressor_loss: 0.1781 - val_Classifier_accuracy: 0.6124 - val_Regressor_accuracy: 0.3140\n",
            "Epoch 49/500\n",
            "59/59 [==============================] - 4s 63ms/step - loss: 0.3049 - Classifier_loss: 0.1668 - Regressor_loss: 0.1381 - Classifier_accuracy: 0.6500 - Regressor_accuracy: 0.5190 - val_loss: 0.3498 - val_Classifier_loss: 0.1715 - val_Regressor_loss: 0.1783 - val_Classifier_accuracy: 0.6302 - val_Regressor_accuracy: 0.2998\n",
            "Epoch 50/500\n",
            "59/59 [==============================] - 4s 63ms/step - loss: 0.3003 - Classifier_loss: 0.1627 - Regressor_loss: 0.1376 - Classifier_accuracy: 0.6555 - Regressor_accuracy: 0.5147 - val_loss: 0.3479 - val_Classifier_loss: 0.1698 - val_Regressor_loss: 0.1781 - val_Classifier_accuracy: 0.6294 - val_Regressor_accuracy: 0.3118\n",
            "Epoch 51/500\n",
            "59/59 [==============================] - 4s 63ms/step - loss: 0.2959 - Classifier_loss: 0.1584 - Regressor_loss: 0.1375 - Classifier_accuracy: 0.6560 - Regressor_accuracy: 0.5199 - val_loss: 0.3430 - val_Classifier_loss: 0.1651 - val_Regressor_loss: 0.1779 - val_Classifier_accuracy: 0.6466 - val_Regressor_accuracy: 0.3160\n",
            "Epoch 52/500\n",
            "59/59 [==============================] - 4s 63ms/step - loss: 0.2914 - Classifier_loss: 0.1544 - Regressor_loss: 0.1370 - Classifier_accuracy: 0.6574 - Regressor_accuracy: 0.5168 - val_loss: 0.3385 - val_Classifier_loss: 0.1607 - val_Regressor_loss: 0.1778 - val_Classifier_accuracy: 0.6394 - val_Regressor_accuracy: 0.3094\n",
            "Epoch 53/500\n",
            "59/59 [==============================] - 4s 73ms/step - loss: 0.2894 - Classifier_loss: 0.1524 - Regressor_loss: 0.1370 - Classifier_accuracy: 0.6639 - Regressor_accuracy: 0.5187 - val_loss: 0.3369 - val_Classifier_loss: 0.1587 - val_Regressor_loss: 0.1781 - val_Classifier_accuracy: 0.6342 - val_Regressor_accuracy: 0.3070\n",
            "Epoch 54/500\n",
            "59/59 [==============================] - 4s 63ms/step - loss: 0.2842 - Classifier_loss: 0.1475 - Regressor_loss: 0.1366 - Classifier_accuracy: 0.6629 - Regressor_accuracy: 0.5193 - val_loss: 0.3315 - val_Classifier_loss: 0.1538 - val_Regressor_loss: 0.1777 - val_Classifier_accuracy: 0.6420 - val_Regressor_accuracy: 0.3046\n",
            "Epoch 55/500\n",
            "59/59 [==============================] - 4s 63ms/step - loss: 0.2791 - Classifier_loss: 0.1432 - Regressor_loss: 0.1359 - Classifier_accuracy: 0.6651 - Regressor_accuracy: 0.5212 - val_loss: 0.3284 - val_Classifier_loss: 0.1506 - val_Regressor_loss: 0.1778 - val_Classifier_accuracy: 0.6538 - val_Regressor_accuracy: 0.3034\n",
            "Epoch 56/500\n",
            "59/59 [==============================] - 4s 63ms/step - loss: 0.2757 - Classifier_loss: 0.1402 - Regressor_loss: 0.1355 - Classifier_accuracy: 0.6703 - Regressor_accuracy: 0.5241 - val_loss: 0.3254 - val_Classifier_loss: 0.1470 - val_Regressor_loss: 0.1784 - val_Classifier_accuracy: 0.6430 - val_Regressor_accuracy: 0.3072\n",
            "Epoch 57/500\n",
            "59/59 [==============================] - 4s 63ms/step - loss: 0.2718 - Classifier_loss: 0.1366 - Regressor_loss: 0.1352 - Classifier_accuracy: 0.6722 - Regressor_accuracy: 0.5264 - val_loss: 0.3221 - val_Classifier_loss: 0.1442 - val_Regressor_loss: 0.1779 - val_Classifier_accuracy: 0.6564 - val_Regressor_accuracy: 0.3156\n",
            "Epoch 58/500\n",
            "59/59 [==============================] - 4s 63ms/step - loss: 0.2684 - Classifier_loss: 0.1336 - Regressor_loss: 0.1348 - Classifier_accuracy: 0.6721 - Regressor_accuracy: 0.5289 - val_loss: 0.3175 - val_Classifier_loss: 0.1405 - val_Regressor_loss: 0.1770 - val_Classifier_accuracy: 0.6542 - val_Regressor_accuracy: 0.3042\n",
            "Epoch 59/500\n",
            "59/59 [==============================] - 4s 64ms/step - loss: 0.2661 - Classifier_loss: 0.1313 - Regressor_loss: 0.1348 - Classifier_accuracy: 0.6754 - Regressor_accuracy: 0.5303 - val_loss: 0.3192 - val_Classifier_loss: 0.1413 - val_Regressor_loss: 0.1779 - val_Classifier_accuracy: 0.6416 - val_Regressor_accuracy: 0.3064\n",
            "Epoch 60/500\n",
            "59/59 [==============================] - 4s 63ms/step - loss: 0.2630 - Classifier_loss: 0.1291 - Regressor_loss: 0.1340 - Classifier_accuracy: 0.6712 - Regressor_accuracy: 0.5310 - val_loss: 0.3140 - val_Classifier_loss: 0.1369 - val_Regressor_loss: 0.1771 - val_Classifier_accuracy: 0.6482 - val_Regressor_accuracy: 0.3070\n",
            "Epoch 61/500\n",
            "59/59 [==============================] - 4s 73ms/step - loss: 0.2591 - Classifier_loss: 0.1253 - Regressor_loss: 0.1338 - Classifier_accuracy: 0.6726 - Regressor_accuracy: 0.5332 - val_loss: 0.3148 - val_Classifier_loss: 0.1374 - val_Regressor_loss: 0.1774 - val_Classifier_accuracy: 0.6568 - val_Regressor_accuracy: 0.3046\n",
            "Epoch 62/500\n",
            "59/59 [==============================] - 4s 64ms/step - loss: 0.2569 - Classifier_loss: 0.1235 - Regressor_loss: 0.1335 - Classifier_accuracy: 0.6756 - Regressor_accuracy: 0.5334 - val_loss: 0.3119 - val_Classifier_loss: 0.1346 - val_Regressor_loss: 0.1773 - val_Classifier_accuracy: 0.6214 - val_Regressor_accuracy: 0.3010\n",
            "Epoch 63/500\n",
            "59/59 [==============================] - 4s 63ms/step - loss: 0.2540 - Classifier_loss: 0.1206 - Regressor_loss: 0.1334 - Classifier_accuracy: 0.6722 - Regressor_accuracy: 0.5338 - val_loss: 0.3078 - val_Classifier_loss: 0.1298 - val_Regressor_loss: 0.1780 - val_Classifier_accuracy: 0.6404 - val_Regressor_accuracy: 0.3154\n",
            "Epoch 64/500\n",
            "59/59 [==============================] - 4s 64ms/step - loss: 0.2504 - Classifier_loss: 0.1176 - Regressor_loss: 0.1329 - Classifier_accuracy: 0.6749 - Regressor_accuracy: 0.5384 - val_loss: 0.3085 - val_Classifier_loss: 0.1305 - val_Regressor_loss: 0.1780 - val_Classifier_accuracy: 0.6282 - val_Regressor_accuracy: 0.3082\n",
            "Epoch 65/500\n",
            "59/59 [==============================] - 4s 63ms/step - loss: 0.2483 - Classifier_loss: 0.1159 - Regressor_loss: 0.1325 - Classifier_accuracy: 0.6742 - Regressor_accuracy: 0.5395 - val_loss: 0.3042 - val_Classifier_loss: 0.1269 - val_Regressor_loss: 0.1773 - val_Classifier_accuracy: 0.6458 - val_Regressor_accuracy: 0.3012\n",
            "Epoch 66/500\n",
            "59/59 [==============================] - 4s 63ms/step - loss: 0.2467 - Classifier_loss: 0.1148 - Regressor_loss: 0.1319 - Classifier_accuracy: 0.6776 - Regressor_accuracy: 0.5401 - val_loss: 0.3003 - val_Classifier_loss: 0.1234 - val_Regressor_loss: 0.1769 - val_Classifier_accuracy: 0.6496 - val_Regressor_accuracy: 0.3070\n",
            "Epoch 67/500\n",
            "59/59 [==============================] - 4s 64ms/step - loss: 0.2431 - Classifier_loss: 0.1110 - Regressor_loss: 0.1321 - Classifier_accuracy: 0.6762 - Regressor_accuracy: 0.5385 - val_loss: 0.3016 - val_Classifier_loss: 0.1240 - val_Regressor_loss: 0.1776 - val_Classifier_accuracy: 0.6442 - val_Regressor_accuracy: 0.3156\n",
            "Epoch 68/500\n",
            "59/59 [==============================] - 4s 63ms/step - loss: 0.2405 - Classifier_loss: 0.1093 - Regressor_loss: 0.1312 - Classifier_accuracy: 0.6769 - Regressor_accuracy: 0.5434 - val_loss: 0.2974 - val_Classifier_loss: 0.1205 - val_Regressor_loss: 0.1769 - val_Classifier_accuracy: 0.6528 - val_Regressor_accuracy: 0.3204\n",
            "Epoch 69/500\n",
            "59/59 [==============================] - 4s 63ms/step - loss: 0.2385 - Classifier_loss: 0.1076 - Regressor_loss: 0.1309 - Classifier_accuracy: 0.6779 - Regressor_accuracy: 0.5438 - val_loss: 0.2956 - val_Classifier_loss: 0.1186 - val_Regressor_loss: 0.1770 - val_Classifier_accuracy: 0.6460 - val_Regressor_accuracy: 0.3110\n",
            "Epoch 70/500\n",
            "59/59 [==============================] - 4s 73ms/step - loss: 0.2355 - Classifier_loss: 0.1052 - Regressor_loss: 0.1302 - Classifier_accuracy: 0.6792 - Regressor_accuracy: 0.5503 - val_loss: 0.2925 - val_Classifier_loss: 0.1155 - val_Regressor_loss: 0.1770 - val_Classifier_accuracy: 0.6562 - val_Regressor_accuracy: 0.3110\n",
            "Epoch 71/500\n",
            "59/59 [==============================] - 4s 64ms/step - loss: 0.2333 - Classifier_loss: 0.1034 - Regressor_loss: 0.1299 - Classifier_accuracy: 0.6802 - Regressor_accuracy: 0.5488 - val_loss: 0.2927 - val_Classifier_loss: 0.1156 - val_Regressor_loss: 0.1771 - val_Classifier_accuracy: 0.6404 - val_Regressor_accuracy: 0.3164\n",
            "Epoch 72/500\n",
            "59/59 [==============================] - 4s 65ms/step - loss: 0.2317 - Classifier_loss: 0.1019 - Regressor_loss: 0.1297 - Classifier_accuracy: 0.6809 - Regressor_accuracy: 0.5446 - val_loss: 0.2897 - val_Classifier_loss: 0.1127 - val_Regressor_loss: 0.1770 - val_Classifier_accuracy: 0.6472 - val_Regressor_accuracy: 0.3172\n",
            "Epoch 73/500\n",
            "59/59 [==============================] - 4s 64ms/step - loss: 0.2291 - Classifier_loss: 0.0997 - Regressor_loss: 0.1294 - Classifier_accuracy: 0.6789 - Regressor_accuracy: 0.5515 - val_loss: 0.2921 - val_Classifier_loss: 0.1152 - val_Regressor_loss: 0.1769 - val_Classifier_accuracy: 0.6352 - val_Regressor_accuracy: 0.3172\n",
            "Epoch 74/500\n",
            "59/59 [==============================] - 4s 63ms/step - loss: 0.2278 - Classifier_loss: 0.0991 - Regressor_loss: 0.1287 - Classifier_accuracy: 0.6795 - Regressor_accuracy: 0.5538 - val_loss: 0.2871 - val_Classifier_loss: 0.1096 - val_Regressor_loss: 0.1775 - val_Classifier_accuracy: 0.6524 - val_Regressor_accuracy: 0.3162\n",
            "Epoch 75/500\n",
            "59/59 [==============================] - 4s 63ms/step - loss: 0.2241 - Classifier_loss: 0.0956 - Regressor_loss: 0.1285 - Classifier_accuracy: 0.6809 - Regressor_accuracy: 0.5536 - val_loss: 0.2866 - val_Classifier_loss: 0.1099 - val_Regressor_loss: 0.1768 - val_Classifier_accuracy: 0.6436 - val_Regressor_accuracy: 0.3144\n",
            "Epoch 76/500\n",
            "59/59 [==============================] - 4s 63ms/step - loss: 0.2224 - Classifier_loss: 0.0944 - Regressor_loss: 0.1280 - Classifier_accuracy: 0.6800 - Regressor_accuracy: 0.5559 - val_loss: 0.2840 - val_Classifier_loss: 0.1066 - val_Regressor_loss: 0.1774 - val_Classifier_accuracy: 0.6460 - val_Regressor_accuracy: 0.3102\n",
            "Epoch 77/500\n",
            "59/59 [==============================] - 4s 63ms/step - loss: 0.2206 - Classifier_loss: 0.0930 - Regressor_loss: 0.1276 - Classifier_accuracy: 0.6811 - Regressor_accuracy: 0.5574 - val_loss: 0.2820 - val_Classifier_loss: 0.1052 - val_Regressor_loss: 0.1768 - val_Classifier_accuracy: 0.6542 - val_Regressor_accuracy: 0.3238\n",
            "Epoch 78/500\n",
            "59/59 [==============================] - 4s 72ms/step - loss: 0.2178 - Classifier_loss: 0.0908 - Regressor_loss: 0.1270 - Classifier_accuracy: 0.6815 - Regressor_accuracy: 0.5624 - val_loss: 0.2823 - val_Classifier_loss: 0.1053 - val_Regressor_loss: 0.1770 - val_Classifier_accuracy: 0.6462 - val_Regressor_accuracy: 0.3206\n",
            "Epoch 79/500\n",
            "59/59 [==============================] - 4s 64ms/step - loss: 0.2171 - Classifier_loss: 0.0899 - Regressor_loss: 0.1271 - Classifier_accuracy: 0.6792 - Regressor_accuracy: 0.5582 - val_loss: 0.2800 - val_Classifier_loss: 0.1025 - val_Regressor_loss: 0.1775 - val_Classifier_accuracy: 0.6502 - val_Regressor_accuracy: 0.3276\n",
            "Epoch 80/500\n",
            "59/59 [==============================] - 4s 64ms/step - loss: 0.2142 - Classifier_loss: 0.0872 - Regressor_loss: 0.1270 - Classifier_accuracy: 0.6797 - Regressor_accuracy: 0.5596 - val_loss: 0.2828 - val_Classifier_loss: 0.1058 - val_Regressor_loss: 0.1769 - val_Classifier_accuracy: 0.6456 - val_Regressor_accuracy: 0.3182\n",
            "Epoch 81/500\n",
            "59/59 [==============================] - 4s 64ms/step - loss: 0.2142 - Classifier_loss: 0.0876 - Regressor_loss: 0.1267 - Classifier_accuracy: 0.6791 - Regressor_accuracy: 0.5579 - val_loss: 0.2770 - val_Classifier_loss: 0.1003 - val_Regressor_loss: 0.1767 - val_Classifier_accuracy: 0.6542 - val_Regressor_accuracy: 0.3276\n",
            "Epoch 82/500\n",
            "59/59 [==============================] - 4s 64ms/step - loss: 0.2107 - Classifier_loss: 0.0846 - Regressor_loss: 0.1262 - Classifier_accuracy: 0.6821 - Regressor_accuracy: 0.5652 - val_loss: 0.2769 - val_Classifier_loss: 0.0998 - val_Regressor_loss: 0.1771 - val_Classifier_accuracy: 0.6590 - val_Regressor_accuracy: 0.3096\n",
            "Epoch 83/500\n",
            "59/59 [==============================] - 4s 64ms/step - loss: 0.2084 - Classifier_loss: 0.0829 - Regressor_loss: 0.1255 - Classifier_accuracy: 0.6798 - Regressor_accuracy: 0.5639 - val_loss: 0.2800 - val_Classifier_loss: 0.1036 - val_Regressor_loss: 0.1764 - val_Classifier_accuracy: 0.6178 - val_Regressor_accuracy: 0.3196\n",
            "Epoch 84/500\n",
            "59/59 [==============================] - 4s 64ms/step - loss: 0.2079 - Classifier_loss: 0.0828 - Regressor_loss: 0.1251 - Classifier_accuracy: 0.6801 - Regressor_accuracy: 0.5665 - val_loss: 0.2747 - val_Classifier_loss: 0.0980 - val_Regressor_loss: 0.1767 - val_Classifier_accuracy: 0.6740 - val_Regressor_accuracy: 0.3138\n",
            "Epoch 85/500\n",
            "59/59 [==============================] - 4s 64ms/step - loss: 0.2055 - Classifier_loss: 0.0806 - Regressor_loss: 0.1249 - Classifier_accuracy: 0.6799 - Regressor_accuracy: 0.5670 - val_loss: 0.2738 - val_Classifier_loss: 0.0963 - val_Regressor_loss: 0.1776 - val_Classifier_accuracy: 0.6484 - val_Regressor_accuracy: 0.3276\n",
            "Epoch 86/500\n",
            "59/59 [==============================] - 4s 64ms/step - loss: 0.2036 - Classifier_loss: 0.0788 - Regressor_loss: 0.1248 - Classifier_accuracy: 0.6802 - Regressor_accuracy: 0.5693 - val_loss: 0.2707 - val_Classifier_loss: 0.0936 - val_Regressor_loss: 0.1771 - val_Classifier_accuracy: 0.6516 - val_Regressor_accuracy: 0.3220\n",
            "Epoch 87/500\n",
            "59/59 [==============================] - 4s 72ms/step - loss: 0.2015 - Classifier_loss: 0.0773 - Regressor_loss: 0.1242 - Classifier_accuracy: 0.6798 - Regressor_accuracy: 0.5703 - val_loss: 0.2705 - val_Classifier_loss: 0.0943 - val_Regressor_loss: 0.1762 - val_Classifier_accuracy: 0.6402 - val_Regressor_accuracy: 0.3268\n",
            "Epoch 88/500\n",
            "59/59 [==============================] - 4s 64ms/step - loss: 0.1995 - Classifier_loss: 0.0762 - Regressor_loss: 0.1234 - Classifier_accuracy: 0.6786 - Regressor_accuracy: 0.5746 - val_loss: 0.2691 - val_Classifier_loss: 0.0924 - val_Regressor_loss: 0.1768 - val_Classifier_accuracy: 0.6498 - val_Regressor_accuracy: 0.3318\n",
            "Epoch 89/500\n",
            "59/59 [==============================] - 4s 63ms/step - loss: 0.1983 - Classifier_loss: 0.0749 - Regressor_loss: 0.1234 - Classifier_accuracy: 0.6780 - Regressor_accuracy: 0.5735 - val_loss: 0.2738 - val_Classifier_loss: 0.0971 - val_Regressor_loss: 0.1767 - val_Classifier_accuracy: 0.6370 - val_Regressor_accuracy: 0.3352\n",
            "Epoch 90/500\n",
            "59/59 [==============================] - 4s 65ms/step - loss: 0.1970 - Classifier_loss: 0.0746 - Regressor_loss: 0.1224 - Classifier_accuracy: 0.6760 - Regressor_accuracy: 0.5742 - val_loss: 0.2665 - val_Classifier_loss: 0.0901 - val_Regressor_loss: 0.1765 - val_Classifier_accuracy: 0.6436 - val_Regressor_accuracy: 0.3326\n",
            "Epoch 91/500\n",
            "59/59 [==============================] - 4s 63ms/step - loss: 0.1941 - Classifier_loss: 0.0718 - Regressor_loss: 0.1223 - Classifier_accuracy: 0.6771 - Regressor_accuracy: 0.5793 - val_loss: 0.2651 - val_Classifier_loss: 0.0891 - val_Regressor_loss: 0.1760 - val_Classifier_accuracy: 0.6398 - val_Regressor_accuracy: 0.3298\n",
            "Epoch 92/500\n",
            "59/59 [==============================] - 4s 65ms/step - loss: 0.1928 - Classifier_loss: 0.0708 - Regressor_loss: 0.1220 - Classifier_accuracy: 0.6797 - Regressor_accuracy: 0.5759 - val_loss: 0.2652 - val_Classifier_loss: 0.0888 - val_Regressor_loss: 0.1765 - val_Classifier_accuracy: 0.6564 - val_Regressor_accuracy: 0.3262\n",
            "Epoch 93/500\n",
            "59/59 [==============================] - 4s 63ms/step - loss: 0.1917 - Classifier_loss: 0.0699 - Regressor_loss: 0.1218 - Classifier_accuracy: 0.6816 - Regressor_accuracy: 0.5762 - val_loss: 0.2639 - val_Classifier_loss: 0.0870 - val_Regressor_loss: 0.1769 - val_Classifier_accuracy: 0.6394 - val_Regressor_accuracy: 0.3338\n",
            "Epoch 94/500\n",
            "59/59 [==============================] - 4s 64ms/step - loss: 0.1897 - Classifier_loss: 0.0688 - Regressor_loss: 0.1210 - Classifier_accuracy: 0.6774 - Regressor_accuracy: 0.5789 - val_loss: 0.2633 - val_Classifier_loss: 0.0871 - val_Regressor_loss: 0.1762 - val_Classifier_accuracy: 0.6388 - val_Regressor_accuracy: 0.3286\n",
            "Epoch 95/500\n",
            "59/59 [==============================] - 4s 72ms/step - loss: 0.1887 - Classifier_loss: 0.0676 - Regressor_loss: 0.1210 - Classifier_accuracy: 0.6778 - Regressor_accuracy: 0.5816 - val_loss: 0.2608 - val_Classifier_loss: 0.0847 - val_Regressor_loss: 0.1761 - val_Classifier_accuracy: 0.6574 - val_Regressor_accuracy: 0.3354\n",
            "Epoch 96/500\n",
            "59/59 [==============================] - 4s 63ms/step - loss: 0.1862 - Classifier_loss: 0.0657 - Regressor_loss: 0.1205 - Classifier_accuracy: 0.6807 - Regressor_accuracy: 0.5812 - val_loss: 0.2613 - val_Classifier_loss: 0.0853 - val_Regressor_loss: 0.1760 - val_Classifier_accuracy: 0.6174 - val_Regressor_accuracy: 0.3320\n",
            "Epoch 97/500\n",
            "59/59 [==============================] - 4s 64ms/step - loss: 0.1857 - Classifier_loss: 0.0650 - Regressor_loss: 0.1207 - Classifier_accuracy: 0.6755 - Regressor_accuracy: 0.5802 - val_loss: 0.2641 - val_Classifier_loss: 0.0869 - val_Regressor_loss: 0.1773 - val_Classifier_accuracy: 0.6204 - val_Regressor_accuracy: 0.3312\n",
            "Epoch 98/500\n",
            "59/59 [==============================] - 5s 84ms/step - loss: 0.1846 - Classifier_loss: 0.0647 - Regressor_loss: 0.1199 - Classifier_accuracy: 0.6733 - Regressor_accuracy: 0.5850 - val_loss: 0.2596 - val_Classifier_loss: 0.0824 - val_Regressor_loss: 0.1772 - val_Classifier_accuracy: 0.6380 - val_Regressor_accuracy: 0.3386\n",
            "Epoch 99/500\n",
            "59/59 [==============================] - 5s 82ms/step - loss: 0.1811 - Classifier_loss: 0.0618 - Regressor_loss: 0.1194 - Classifier_accuracy: 0.6778 - Regressor_accuracy: 0.5841 - val_loss: 0.2570 - val_Classifier_loss: 0.0808 - val_Regressor_loss: 0.1762 - val_Classifier_accuracy: 0.6482 - val_Regressor_accuracy: 0.3378\n",
            "Epoch 100/500\n",
            "59/59 [==============================] - 4s 63ms/step - loss: 0.1801 - Classifier_loss: 0.0611 - Regressor_loss: 0.1190 - Classifier_accuracy: 0.6761 - Regressor_accuracy: 0.5850 - val_loss: 0.2580 - val_Classifier_loss: 0.0820 - val_Regressor_loss: 0.1760 - val_Classifier_accuracy: 0.6290 - val_Regressor_accuracy: 0.3396\n",
            "Epoch 101/500\n",
            "59/59 [==============================] - 4s 64ms/step - loss: 0.1794 - Classifier_loss: 0.0608 - Regressor_loss: 0.1187 - Classifier_accuracy: 0.6727 - Regressor_accuracy: 0.5880 - val_loss: 0.2571 - val_Classifier_loss: 0.0799 - val_Regressor_loss: 0.1773 - val_Classifier_accuracy: 0.6450 - val_Regressor_accuracy: 0.3398\n",
            "Epoch 102/500\n",
            "59/59 [==============================] - 4s 63ms/step - loss: 0.1775 - Classifier_loss: 0.0591 - Regressor_loss: 0.1183 - Classifier_accuracy: 0.6748 - Regressor_accuracy: 0.5885 - val_loss: 0.2540 - val_Classifier_loss: 0.0783 - val_Regressor_loss: 0.1757 - val_Classifier_accuracy: 0.6540 - val_Regressor_accuracy: 0.3392\n",
            "Epoch 103/500\n",
            "59/59 [==============================] - 4s 64ms/step - loss: 0.1758 - Classifier_loss: 0.0576 - Regressor_loss: 0.1182 - Classifier_accuracy: 0.6764 - Regressor_accuracy: 0.5881 - val_loss: 0.2545 - val_Classifier_loss: 0.0784 - val_Regressor_loss: 0.1762 - val_Classifier_accuracy: 0.6314 - val_Regressor_accuracy: 0.3326\n",
            "Epoch 104/500\n",
            "59/59 [==============================] - 4s 73ms/step - loss: 0.1743 - Classifier_loss: 0.0564 - Regressor_loss: 0.1180 - Classifier_accuracy: 0.6701 - Regressor_accuracy: 0.5913 - val_loss: 0.2560 - val_Classifier_loss: 0.0797 - val_Regressor_loss: 0.1763 - val_Classifier_accuracy: 0.6290 - val_Regressor_accuracy: 0.3338\n",
            "Epoch 105/500\n",
            "59/59 [==============================] - 4s 63ms/step - loss: 0.1729 - Classifier_loss: 0.0553 - Regressor_loss: 0.1176 - Classifier_accuracy: 0.6755 - Regressor_accuracy: 0.5910 - val_loss: 0.2509 - val_Classifier_loss: 0.0750 - val_Regressor_loss: 0.1759 - val_Classifier_accuracy: 0.6398 - val_Regressor_accuracy: 0.3426\n",
            "Epoch 106/500\n",
            "59/59 [==============================] - 4s 64ms/step - loss: 0.1721 - Classifier_loss: 0.0549 - Regressor_loss: 0.1172 - Classifier_accuracy: 0.6752 - Regressor_accuracy: 0.5904 - val_loss: 0.2516 - val_Classifier_loss: 0.0758 - val_Regressor_loss: 0.1758 - val_Classifier_accuracy: 0.6280 - val_Regressor_accuracy: 0.3412\n",
            "Epoch 107/500\n",
            "59/59 [==============================] - 4s 63ms/step - loss: 0.1706 - Classifier_loss: 0.0536 - Regressor_loss: 0.1170 - Classifier_accuracy: 0.6705 - Regressor_accuracy: 0.5917 - val_loss: 0.2514 - val_Classifier_loss: 0.0744 - val_Regressor_loss: 0.1770 - val_Classifier_accuracy: 0.6376 - val_Regressor_accuracy: 0.3490\n",
            "Epoch 108/500\n",
            "59/59 [==============================] - 4s 66ms/step - loss: 0.1694 - Classifier_loss: 0.0522 - Regressor_loss: 0.1172 - Classifier_accuracy: 0.6753 - Regressor_accuracy: 0.5904 - val_loss: 0.2506 - val_Classifier_loss: 0.0748 - val_Regressor_loss: 0.1758 - val_Classifier_accuracy: 0.6504 - val_Regressor_accuracy: 0.3412\n",
            "Epoch 109/500\n",
            "59/59 [==============================] - 4s 64ms/step - loss: 0.1679 - Classifier_loss: 0.0513 - Regressor_loss: 0.1166 - Classifier_accuracy: 0.6727 - Regressor_accuracy: 0.5925 - val_loss: 0.2531 - val_Classifier_loss: 0.0751 - val_Regressor_loss: 0.1780 - val_Classifier_accuracy: 0.6360 - val_Regressor_accuracy: 0.3280\n",
            "Epoch 110/500\n",
            "59/59 [==============================] - 4s 64ms/step - loss: 0.1681 - Classifier_loss: 0.0510 - Regressor_loss: 0.1171 - Classifier_accuracy: 0.6720 - Regressor_accuracy: 0.5915 - val_loss: 0.2480 - val_Classifier_loss: 0.0722 - val_Regressor_loss: 0.1758 - val_Classifier_accuracy: 0.6332 - val_Regressor_accuracy: 0.3478\n",
            "Epoch 111/500\n",
            "59/59 [==============================] - 4s 65ms/step - loss: 0.1651 - Classifier_loss: 0.0500 - Regressor_loss: 0.1151 - Classifier_accuracy: 0.6711 - Regressor_accuracy: 0.5985 - val_loss: 0.2473 - val_Classifier_loss: 0.0713 - val_Regressor_loss: 0.1760 - val_Classifier_accuracy: 0.6344 - val_Regressor_accuracy: 0.3506\n",
            "Epoch 112/500\n",
            "59/59 [==============================] - 4s 74ms/step - loss: 0.1640 - Classifier_loss: 0.0485 - Regressor_loss: 0.1155 - Classifier_accuracy: 0.6708 - Regressor_accuracy: 0.5973 - val_loss: 0.2468 - val_Classifier_loss: 0.0711 - val_Regressor_loss: 0.1757 - val_Classifier_accuracy: 0.6400 - val_Regressor_accuracy: 0.3450\n",
            "Epoch 113/500\n",
            "59/59 [==============================] - 4s 66ms/step - loss: 0.1626 - Classifier_loss: 0.0475 - Regressor_loss: 0.1150 - Classifier_accuracy: 0.6725 - Regressor_accuracy: 0.6014 - val_loss: 0.2455 - val_Classifier_loss: 0.0701 - val_Regressor_loss: 0.1754 - val_Classifier_accuracy: 0.6344 - val_Regressor_accuracy: 0.3472\n",
            "Epoch 114/500\n",
            "59/59 [==============================] - 4s 66ms/step - loss: 0.1611 - Classifier_loss: 0.0468 - Regressor_loss: 0.1143 - Classifier_accuracy: 0.6675 - Regressor_accuracy: 0.5974 - val_loss: 0.2456 - val_Classifier_loss: 0.0695 - val_Regressor_loss: 0.1761 - val_Classifier_accuracy: 0.6500 - val_Regressor_accuracy: 0.3474\n",
            "Epoch 115/500\n",
            "59/59 [==============================] - 4s 64ms/step - loss: 0.1607 - Classifier_loss: 0.0466 - Regressor_loss: 0.1141 - Classifier_accuracy: 0.6725 - Regressor_accuracy: 0.6012 - val_loss: 0.2448 - val_Classifier_loss: 0.0690 - val_Regressor_loss: 0.1758 - val_Classifier_accuracy: 0.6324 - val_Regressor_accuracy: 0.3444\n",
            "Epoch 116/500\n",
            "59/59 [==============================] - 4s 65ms/step - loss: 0.1590 - Classifier_loss: 0.0451 - Regressor_loss: 0.1140 - Classifier_accuracy: 0.6688 - Regressor_accuracy: 0.6023 - val_loss: 0.2456 - val_Classifier_loss: 0.0699 - val_Regressor_loss: 0.1756 - val_Classifier_accuracy: 0.6428 - val_Regressor_accuracy: 0.3494\n",
            "Epoch 117/500\n",
            "59/59 [==============================] - 4s 65ms/step - loss: 0.1580 - Classifier_loss: 0.0440 - Regressor_loss: 0.1140 - Classifier_accuracy: 0.6689 - Regressor_accuracy: 0.5997 - val_loss: 0.2452 - val_Classifier_loss: 0.0692 - val_Regressor_loss: 0.1760 - val_Classifier_accuracy: 0.6556 - val_Regressor_accuracy: 0.3456\n",
            "Epoch 118/500\n",
            "59/59 [==============================] - 4s 65ms/step - loss: 0.1572 - Classifier_loss: 0.0437 - Regressor_loss: 0.1136 - Classifier_accuracy: 0.6717 - Regressor_accuracy: 0.6035 - val_loss: 0.2419 - val_Classifier_loss: 0.0664 - val_Regressor_loss: 0.1755 - val_Classifier_accuracy: 0.6488 - val_Regressor_accuracy: 0.3526\n",
            "Epoch 119/500\n",
            "59/59 [==============================] - 4s 66ms/step - loss: 0.1566 - Classifier_loss: 0.0428 - Regressor_loss: 0.1138 - Classifier_accuracy: 0.6693 - Regressor_accuracy: 0.6038 - val_loss: 0.2427 - val_Classifier_loss: 0.0665 - val_Regressor_loss: 0.1761 - val_Classifier_accuracy: 0.6424 - val_Regressor_accuracy: 0.3568\n",
            "Epoch 120/500\n",
            "59/59 [==============================] - 4s 66ms/step - loss: 0.1552 - Classifier_loss: 0.0423 - Regressor_loss: 0.1130 - Classifier_accuracy: 0.6663 - Regressor_accuracy: 0.6034 - val_loss: 0.2419 - val_Classifier_loss: 0.0659 - val_Regressor_loss: 0.1760 - val_Classifier_accuracy: 0.6548 - val_Regressor_accuracy: 0.3482\n",
            "Epoch 121/500\n",
            "59/59 [==============================] - 4s 74ms/step - loss: 0.1538 - Classifier_loss: 0.0413 - Regressor_loss: 0.1125 - Classifier_accuracy: 0.6699 - Regressor_accuracy: 0.6063 - val_loss: 0.2439 - val_Classifier_loss: 0.0679 - val_Regressor_loss: 0.1760 - val_Classifier_accuracy: 0.6492 - val_Regressor_accuracy: 0.3560\n",
            "Epoch 122/500\n",
            "59/59 [==============================] - 4s 65ms/step - loss: 0.1552 - Classifier_loss: 0.0416 - Regressor_loss: 0.1136 - Classifier_accuracy: 0.6681 - Regressor_accuracy: 0.6024 - val_loss: 0.2414 - val_Classifier_loss: 0.0657 - val_Regressor_loss: 0.1758 - val_Classifier_accuracy: 0.6410 - val_Regressor_accuracy: 0.3522\n",
            "Epoch 123/500\n",
            "59/59 [==============================] - 4s 65ms/step - loss: 0.1530 - Classifier_loss: 0.0402 - Regressor_loss: 0.1127 - Classifier_accuracy: 0.6665 - Regressor_accuracy: 0.6046 - val_loss: 0.2395 - val_Classifier_loss: 0.0637 - val_Regressor_loss: 0.1759 - val_Classifier_accuracy: 0.6462 - val_Regressor_accuracy: 0.3558\n",
            "Epoch 124/500\n",
            "59/59 [==============================] - 4s 64ms/step - loss: 0.1516 - Classifier_loss: 0.0388 - Regressor_loss: 0.1127 - Classifier_accuracy: 0.6701 - Regressor_accuracy: 0.6061 - val_loss: 0.2415 - val_Classifier_loss: 0.0647 - val_Regressor_loss: 0.1768 - val_Classifier_accuracy: 0.6296 - val_Regressor_accuracy: 0.3398\n",
            "Epoch 125/500\n",
            "59/59 [==============================] - 4s 64ms/step - loss: 0.1505 - Classifier_loss: 0.0385 - Regressor_loss: 0.1121 - Classifier_accuracy: 0.6669 - Regressor_accuracy: 0.6055 - val_loss: 0.2396 - val_Classifier_loss: 0.0639 - val_Regressor_loss: 0.1757 - val_Classifier_accuracy: 0.6476 - val_Regressor_accuracy: 0.3554\n",
            "Epoch 126/500\n",
            "59/59 [==============================] - 4s 65ms/step - loss: 0.1486 - Classifier_loss: 0.0374 - Regressor_loss: 0.1112 - Classifier_accuracy: 0.6675 - Regressor_accuracy: 0.6092 - val_loss: 0.2392 - val_Classifier_loss: 0.0633 - val_Regressor_loss: 0.1759 - val_Classifier_accuracy: 0.6372 - val_Regressor_accuracy: 0.3600\n",
            "Epoch 127/500\n",
            "59/59 [==============================] - 4s 66ms/step - loss: 0.1490 - Classifier_loss: 0.0372 - Regressor_loss: 0.1119 - Classifier_accuracy: 0.6669 - Regressor_accuracy: 0.6048 - val_loss: 0.2392 - val_Classifier_loss: 0.0629 - val_Regressor_loss: 0.1763 - val_Classifier_accuracy: 0.6352 - val_Regressor_accuracy: 0.3540\n",
            "Epoch 128/500\n",
            "59/59 [==============================] - 4s 67ms/step - loss: 0.1478 - Classifier_loss: 0.0368 - Regressor_loss: 0.1110 - Classifier_accuracy: 0.6657 - Regressor_accuracy: 0.6126 - val_loss: 0.2387 - val_Classifier_loss: 0.0628 - val_Regressor_loss: 0.1759 - val_Classifier_accuracy: 0.6348 - val_Regressor_accuracy: 0.3588\n",
            "Epoch 129/500\n",
            "59/59 [==============================] - 5s 77ms/step - loss: 0.1468 - Classifier_loss: 0.0358 - Regressor_loss: 0.1110 - Classifier_accuracy: 0.6627 - Regressor_accuracy: 0.6107 - val_loss: 0.2377 - val_Classifier_loss: 0.0617 - val_Regressor_loss: 0.1760 - val_Classifier_accuracy: 0.6450 - val_Regressor_accuracy: 0.3540\n",
            "Epoch 130/500\n",
            "59/59 [==============================] - 4s 66ms/step - loss: 0.1454 - Classifier_loss: 0.0346 - Regressor_loss: 0.1107 - Classifier_accuracy: 0.6675 - Regressor_accuracy: 0.6119 - val_loss: 0.2387 - val_Classifier_loss: 0.0630 - val_Regressor_loss: 0.1757 - val_Classifier_accuracy: 0.6270 - val_Regressor_accuracy: 0.3560\n",
            "Epoch 131/500\n",
            "59/59 [==============================] - 4s 66ms/step - loss: 0.1447 - Classifier_loss: 0.0349 - Regressor_loss: 0.1099 - Classifier_accuracy: 0.6616 - Regressor_accuracy: 0.6120 - val_loss: 0.2396 - val_Classifier_loss: 0.0637 - val_Regressor_loss: 0.1759 - val_Classifier_accuracy: 0.6174 - val_Regressor_accuracy: 0.3594\n",
            "Epoch 132/500\n",
            "59/59 [==============================] - 4s 65ms/step - loss: 0.1451 - Classifier_loss: 0.0345 - Regressor_loss: 0.1106 - Classifier_accuracy: 0.6640 - Regressor_accuracy: 0.6088 - val_loss: 0.2362 - val_Classifier_loss: 0.0601 - val_Regressor_loss: 0.1762 - val_Classifier_accuracy: 0.6318 - val_Regressor_accuracy: 0.3544\n",
            "Epoch 133/500\n",
            "59/59 [==============================] - 4s 67ms/step - loss: 0.1429 - Classifier_loss: 0.0332 - Regressor_loss: 0.1097 - Classifier_accuracy: 0.6637 - Regressor_accuracy: 0.6113 - val_loss: 0.2398 - val_Classifier_loss: 0.0639 - val_Regressor_loss: 0.1759 - val_Classifier_accuracy: 0.6348 - val_Regressor_accuracy: 0.3596\n",
            "Epoch 134/500\n",
            "59/59 [==============================] - 4s 66ms/step - loss: 0.1433 - Classifier_loss: 0.0336 - Regressor_loss: 0.1097 - Classifier_accuracy: 0.6637 - Regressor_accuracy: 0.6121 - val_loss: 0.2378 - val_Classifier_loss: 0.0613 - val_Regressor_loss: 0.1766 - val_Classifier_accuracy: 0.6414 - val_Regressor_accuracy: 0.3600\n",
            "Epoch 135/500\n",
            "59/59 [==============================] - 4s 65ms/step - loss: 0.1418 - Classifier_loss: 0.0324 - Regressor_loss: 0.1094 - Classifier_accuracy: 0.6650 - Regressor_accuracy: 0.6145 - val_loss: 0.2361 - val_Classifier_loss: 0.0599 - val_Regressor_loss: 0.1761 - val_Classifier_accuracy: 0.6298 - val_Regressor_accuracy: 0.3554\n",
            "Epoch 136/500\n",
            "59/59 [==============================] - 4s 65ms/step - loss: 0.1409 - Classifier_loss: 0.0320 - Regressor_loss: 0.1089 - Classifier_accuracy: 0.6627 - Regressor_accuracy: 0.6153 - val_loss: 0.2349 - val_Classifier_loss: 0.0596 - val_Regressor_loss: 0.1753 - val_Classifier_accuracy: 0.6420 - val_Regressor_accuracy: 0.3612\n",
            "Epoch 137/500\n",
            "59/59 [==============================] - 4s 65ms/step - loss: 0.1404 - Classifier_loss: 0.0312 - Regressor_loss: 0.1092 - Classifier_accuracy: 0.6650 - Regressor_accuracy: 0.6122 - val_loss: 0.2386 - val_Classifier_loss: 0.0626 - val_Regressor_loss: 0.1761 - val_Classifier_accuracy: 0.6452 - val_Regressor_accuracy: 0.3580\n",
            "Epoch 138/500\n",
            "59/59 [==============================] - 4s 75ms/step - loss: 0.1406 - Classifier_loss: 0.0313 - Regressor_loss: 0.1093 - Classifier_accuracy: 0.6652 - Regressor_accuracy: 0.6141 - val_loss: 0.2369 - val_Classifier_loss: 0.0610 - val_Regressor_loss: 0.1759 - val_Classifier_accuracy: 0.6374 - val_Regressor_accuracy: 0.3590\n",
            "Epoch 139/500\n",
            "59/59 [==============================] - 4s 66ms/step - loss: 0.1394 - Classifier_loss: 0.0306 - Regressor_loss: 0.1088 - Classifier_accuracy: 0.6632 - Regressor_accuracy: 0.6171 - val_loss: 0.2359 - val_Classifier_loss: 0.0596 - val_Regressor_loss: 0.1763 - val_Classifier_accuracy: 0.6228 - val_Regressor_accuracy: 0.3632\n",
            "Epoch 140/500\n",
            "59/59 [==============================] - 4s 65ms/step - loss: 0.1376 - Classifier_loss: 0.0296 - Regressor_loss: 0.1080 - Classifier_accuracy: 0.6584 - Regressor_accuracy: 0.6177 - val_loss: 0.2345 - val_Classifier_loss: 0.0585 - val_Regressor_loss: 0.1760 - val_Classifier_accuracy: 0.6378 - val_Regressor_accuracy: 0.3588\n",
            "Epoch 141/500\n",
            "59/59 [==============================] - 4s 65ms/step - loss: 0.1366 - Classifier_loss: 0.0290 - Regressor_loss: 0.1076 - Classifier_accuracy: 0.6604 - Regressor_accuracy: 0.6155 - val_loss: 0.2379 - val_Classifier_loss: 0.0618 - val_Regressor_loss: 0.1761 - val_Classifier_accuracy: 0.6512 - val_Regressor_accuracy: 0.3590\n",
            "Epoch 142/500\n",
            "59/59 [==============================] - 4s 67ms/step - loss: 0.1374 - Classifier_loss: 0.0294 - Regressor_loss: 0.1080 - Classifier_accuracy: 0.6640 - Regressor_accuracy: 0.6167 - val_loss: 0.2409 - val_Classifier_loss: 0.0650 - val_Regressor_loss: 0.1760 - val_Classifier_accuracy: 0.6408 - val_Regressor_accuracy: 0.3564\n",
            "Epoch 143/500\n",
            "59/59 [==============================] - 4s 65ms/step - loss: 0.1371 - Classifier_loss: 0.0295 - Regressor_loss: 0.1076 - Classifier_accuracy: 0.6589 - Regressor_accuracy: 0.6190 - val_loss: 0.2353 - val_Classifier_loss: 0.0590 - val_Regressor_loss: 0.1763 - val_Classifier_accuracy: 0.6478 - val_Regressor_accuracy: 0.3606\n",
            "Epoch 144/500\n",
            "59/59 [==============================] - 4s 65ms/step - loss: 0.1345 - Classifier_loss: 0.0273 - Regressor_loss: 0.1072 - Classifier_accuracy: 0.6651 - Regressor_accuracy: 0.6197 - val_loss: 0.2360 - val_Classifier_loss: 0.0599 - val_Regressor_loss: 0.1762 - val_Classifier_accuracy: 0.6374 - val_Regressor_accuracy: 0.3638\n",
            "Epoch 145/500\n",
            "59/59 [==============================] - 4s 66ms/step - loss: 0.1341 - Classifier_loss: 0.0273 - Regressor_loss: 0.1068 - Classifier_accuracy: 0.6618 - Regressor_accuracy: 0.6228 - val_loss: 0.2350 - val_Classifier_loss: 0.0586 - val_Regressor_loss: 0.1764 - val_Classifier_accuracy: 0.6320 - val_Regressor_accuracy: 0.3594\n",
            "Epoch 146/500\n",
            "59/59 [==============================] - 4s 74ms/step - loss: 0.1349 - Classifier_loss: 0.0271 - Regressor_loss: 0.1079 - Classifier_accuracy: 0.6613 - Regressor_accuracy: 0.6174 - val_loss: 0.2363 - val_Classifier_loss: 0.0596 - val_Regressor_loss: 0.1767 - val_Classifier_accuracy: 0.6390 - val_Regressor_accuracy: 0.3622\n",
            "Epoch 147/500\n",
            "59/59 [==============================] - 4s 67ms/step - loss: 0.1340 - Classifier_loss: 0.0267 - Regressor_loss: 0.1072 - Classifier_accuracy: 0.6562 - Regressor_accuracy: 0.6175 - val_loss: 0.2346 - val_Classifier_loss: 0.0585 - val_Regressor_loss: 0.1761 - val_Classifier_accuracy: 0.6184 - val_Regressor_accuracy: 0.3656\n",
            "Epoch 148/500\n",
            "59/59 [==============================] - 4s 66ms/step - loss: 0.1334 - Classifier_loss: 0.0266 - Regressor_loss: 0.1067 - Classifier_accuracy: 0.6611 - Regressor_accuracy: 0.6195 - val_loss: 0.2372 - val_Classifier_loss: 0.0610 - val_Regressor_loss: 0.1762 - val_Classifier_accuracy: 0.6374 - val_Regressor_accuracy: 0.3650\n",
            "Epoch 149/500\n",
            "59/59 [==============================] - 4s 66ms/step - loss: 0.1323 - Classifier_loss: 0.0256 - Regressor_loss: 0.1066 - Classifier_accuracy: 0.6597 - Regressor_accuracy: 0.6198 - val_loss: 0.2349 - val_Classifier_loss: 0.0589 - val_Regressor_loss: 0.1760 - val_Classifier_accuracy: 0.6290 - val_Regressor_accuracy: 0.3616\n",
            "Epoch 150/500\n",
            "59/59 [==============================] - 4s 66ms/step - loss: 0.1325 - Classifier_loss: 0.0258 - Regressor_loss: 0.1066 - Classifier_accuracy: 0.6581 - Regressor_accuracy: 0.6191 - val_loss: 0.2340 - val_Classifier_loss: 0.0576 - val_Regressor_loss: 0.1764 - val_Classifier_accuracy: 0.6380 - val_Regressor_accuracy: 0.3636\n",
            "Epoch 151/500\n",
            "59/59 [==============================] - 4s 65ms/step - loss: 0.1310 - Classifier_loss: 0.0248 - Regressor_loss: 0.1062 - Classifier_accuracy: 0.6592 - Regressor_accuracy: 0.6222 - val_loss: 0.2340 - val_Classifier_loss: 0.0577 - val_Regressor_loss: 0.1763 - val_Classifier_accuracy: 0.6212 - val_Regressor_accuracy: 0.3678\n",
            "Epoch 152/500\n",
            "59/59 [==============================] - 4s 67ms/step - loss: 0.1303 - Classifier_loss: 0.0244 - Regressor_loss: 0.1059 - Classifier_accuracy: 0.6604 - Regressor_accuracy: 0.6206 - val_loss: 0.2353 - val_Classifier_loss: 0.0583 - val_Regressor_loss: 0.1769 - val_Classifier_accuracy: 0.6374 - val_Regressor_accuracy: 0.3660\n",
            "Epoch 153/500\n",
            "59/59 [==============================] - 4s 67ms/step - loss: 0.1297 - Classifier_loss: 0.0238 - Regressor_loss: 0.1059 - Classifier_accuracy: 0.6618 - Regressor_accuracy: 0.6229 - val_loss: 0.2365 - val_Classifier_loss: 0.0593 - val_Regressor_loss: 0.1772 - val_Classifier_accuracy: 0.6178 - val_Regressor_accuracy: 0.3602\n",
            "Epoch 154/500\n",
            "59/59 [==============================] - 4s 66ms/step - loss: 0.1299 - Classifier_loss: 0.0242 - Regressor_loss: 0.1057 - Classifier_accuracy: 0.6595 - Regressor_accuracy: 0.6222 - val_loss: 0.2340 - val_Classifier_loss: 0.0576 - val_Regressor_loss: 0.1764 - val_Classifier_accuracy: 0.6330 - val_Regressor_accuracy: 0.3670\n",
            "Epoch 155/500\n",
            "59/59 [==============================] - 4s 76ms/step - loss: 0.1289 - Classifier_loss: 0.0234 - Regressor_loss: 0.1055 - Classifier_accuracy: 0.6604 - Regressor_accuracy: 0.6219 - val_loss: 0.2353 - val_Classifier_loss: 0.0590 - val_Regressor_loss: 0.1763 - val_Classifier_accuracy: 0.6118 - val_Regressor_accuracy: 0.3652\n",
            "Epoch 156/500\n",
            "59/59 [==============================] - 4s 67ms/step - loss: 0.1281 - Classifier_loss: 0.0228 - Regressor_loss: 0.1052 - Classifier_accuracy: 0.6590 - Regressor_accuracy: 0.6235 - val_loss: 0.2333 - val_Classifier_loss: 0.0569 - val_Regressor_loss: 0.1765 - val_Classifier_accuracy: 0.6210 - val_Regressor_accuracy: 0.3658\n",
            "Epoch 157/500\n",
            "59/59 [==============================] - 4s 67ms/step - loss: 0.1270 - Classifier_loss: 0.0222 - Regressor_loss: 0.1048 - Classifier_accuracy: 0.6565 - Regressor_accuracy: 0.6250 - val_loss: 0.2370 - val_Classifier_loss: 0.0594 - val_Regressor_loss: 0.1776 - val_Classifier_accuracy: 0.6408 - val_Regressor_accuracy: 0.3704\n",
            "Epoch 158/500\n",
            "59/59 [==============================] - 4s 67ms/step - loss: 0.1268 - Classifier_loss: 0.0223 - Regressor_loss: 0.1045 - Classifier_accuracy: 0.6623 - Regressor_accuracy: 0.6263 - val_loss: 0.2329 - val_Classifier_loss: 0.0569 - val_Regressor_loss: 0.1760 - val_Classifier_accuracy: 0.6410 - val_Regressor_accuracy: 0.3662\n",
            "Epoch 159/500\n",
            "59/59 [==============================] - 4s 66ms/step - loss: 0.1260 - Classifier_loss: 0.0217 - Regressor_loss: 0.1042 - Classifier_accuracy: 0.6597 - Regressor_accuracy: 0.6264 - val_loss: 0.2344 - val_Classifier_loss: 0.0578 - val_Regressor_loss: 0.1766 - val_Classifier_accuracy: 0.6422 - val_Regressor_accuracy: 0.3652\n",
            "Epoch 160/500\n",
            "59/59 [==============================] - 4s 68ms/step - loss: 0.1264 - Classifier_loss: 0.0218 - Regressor_loss: 0.1046 - Classifier_accuracy: 0.6563 - Regressor_accuracy: 0.6250 - val_loss: 0.2334 - val_Classifier_loss: 0.0564 - val_Regressor_loss: 0.1770 - val_Classifier_accuracy: 0.6430 - val_Regressor_accuracy: 0.3654\n",
            "Epoch 161/500\n",
            "59/59 [==============================] - 4s 66ms/step - loss: 0.1251 - Classifier_loss: 0.0208 - Regressor_loss: 0.1043 - Classifier_accuracy: 0.6606 - Regressor_accuracy: 0.6279 - val_loss: 0.2350 - val_Classifier_loss: 0.0572 - val_Regressor_loss: 0.1778 - val_Classifier_accuracy: 0.6304 - val_Regressor_accuracy: 0.3688\n",
            "Epoch 162/500\n",
            "59/59 [==============================] - 4s 67ms/step - loss: 0.1245 - Classifier_loss: 0.0206 - Regressor_loss: 0.1040 - Classifier_accuracy: 0.6598 - Regressor_accuracy: 0.6278 - val_loss: 0.2357 - val_Classifier_loss: 0.0588 - val_Regressor_loss: 0.1769 - val_Classifier_accuracy: 0.6296 - val_Regressor_accuracy: 0.3698\n",
            "Epoch 163/500\n",
            "59/59 [==============================] - 4s 75ms/step - loss: 0.1242 - Classifier_loss: 0.0204 - Regressor_loss: 0.1038 - Classifier_accuracy: 0.6589 - Regressor_accuracy: 0.6295 - val_loss: 0.2331 - val_Classifier_loss: 0.0567 - val_Regressor_loss: 0.1763 - val_Classifier_accuracy: 0.6216 - val_Regressor_accuracy: 0.3724\n",
            "Epoch 164/500\n",
            "59/59 [==============================] - 4s 67ms/step - loss: 0.1237 - Classifier_loss: 0.0200 - Regressor_loss: 0.1037 - Classifier_accuracy: 0.6603 - Regressor_accuracy: 0.6290 - val_loss: 0.2346 - val_Classifier_loss: 0.0575 - val_Regressor_loss: 0.1771 - val_Classifier_accuracy: 0.6290 - val_Regressor_accuracy: 0.3648\n",
            "Epoch 165/500\n",
            "59/59 [==============================] - 4s 67ms/step - loss: 0.1228 - Classifier_loss: 0.0195 - Regressor_loss: 0.1033 - Classifier_accuracy: 0.6588 - Regressor_accuracy: 0.6307 - val_loss: 0.2340 - val_Classifier_loss: 0.0568 - val_Regressor_loss: 0.1771 - val_Classifier_accuracy: 0.6362 - val_Regressor_accuracy: 0.3708\n",
            "Epoch 166/500\n",
            "59/59 [==============================] - 4s 66ms/step - loss: 0.1234 - Classifier_loss: 0.0195 - Regressor_loss: 0.1039 - Classifier_accuracy: 0.6592 - Regressor_accuracy: 0.6286 - val_loss: 0.2346 - val_Classifier_loss: 0.0573 - val_Regressor_loss: 0.1773 - val_Classifier_accuracy: 0.6334 - val_Regressor_accuracy: 0.3632\n",
            "Epoch 167/500\n",
            "59/59 [==============================] - 4s 65ms/step - loss: 0.1224 - Classifier_loss: 0.0190 - Regressor_loss: 0.1034 - Classifier_accuracy: 0.6594 - Regressor_accuracy: 0.6324 - val_loss: 0.2334 - val_Classifier_loss: 0.0563 - val_Regressor_loss: 0.1771 - val_Classifier_accuracy: 0.6402 - val_Regressor_accuracy: 0.3694\n",
            "Epoch 168/500\n",
            "59/59 [==============================] - 4s 67ms/step - loss: 0.1212 - Classifier_loss: 0.0184 - Regressor_loss: 0.1028 - Classifier_accuracy: 0.6592 - Regressor_accuracy: 0.6313 - val_loss: 0.2334 - val_Classifier_loss: 0.0564 - val_Regressor_loss: 0.1770 - val_Classifier_accuracy: 0.6278 - val_Regressor_accuracy: 0.3692\n",
            "Epoch 169/500\n",
            "59/59 [==============================] - 4s 67ms/step - loss: 0.1212 - Classifier_loss: 0.0185 - Regressor_loss: 0.1027 - Classifier_accuracy: 0.6583 - Regressor_accuracy: 0.6342 - val_loss: 0.2342 - val_Classifier_loss: 0.0568 - val_Regressor_loss: 0.1773 - val_Classifier_accuracy: 0.6360 - val_Regressor_accuracy: 0.3714\n",
            "Epoch 170/500\n",
            "59/59 [==============================] - 4s 69ms/step - loss: 0.1211 - Classifier_loss: 0.0181 - Regressor_loss: 0.1030 - Classifier_accuracy: 0.6605 - Regressor_accuracy: 0.6315 - val_loss: 0.2347 - val_Classifier_loss: 0.0574 - val_Regressor_loss: 0.1772 - val_Classifier_accuracy: 0.6334 - val_Regressor_accuracy: 0.3650\n",
            "Epoch 171/500\n",
            "59/59 [==============================] - 4s 66ms/step - loss: 0.1201 - Classifier_loss: 0.0177 - Regressor_loss: 0.1024 - Classifier_accuracy: 0.6566 - Regressor_accuracy: 0.6297 - val_loss: 0.2344 - val_Classifier_loss: 0.0568 - val_Regressor_loss: 0.1776 - val_Classifier_accuracy: 0.6430 - val_Regressor_accuracy: 0.3662\n",
            "Epoch 172/500\n",
            "59/59 [==============================] - 5s 79ms/step - loss: 0.1204 - Classifier_loss: 0.0175 - Regressor_loss: 0.1029 - Classifier_accuracy: 0.6594 - Regressor_accuracy: 0.6326 - val_loss: 0.2344 - val_Classifier_loss: 0.0573 - val_Regressor_loss: 0.1771 - val_Classifier_accuracy: 0.6276 - val_Regressor_accuracy: 0.3750\n",
            "Epoch 173/500\n",
            "59/59 [==============================] - 4s 67ms/step - loss: 0.1203 - Classifier_loss: 0.0183 - Regressor_loss: 0.1020 - Classifier_accuracy: 0.6582 - Regressor_accuracy: 0.6352 - val_loss: 0.2362 - val_Classifier_loss: 0.0578 - val_Regressor_loss: 0.1784 - val_Classifier_accuracy: 0.6406 - val_Regressor_accuracy: 0.3614\n",
            "Epoch 174/500\n",
            "59/59 [==============================] - 4s 67ms/step - loss: 0.1193 - Classifier_loss: 0.0175 - Regressor_loss: 0.1018 - Classifier_accuracy: 0.6586 - Regressor_accuracy: 0.6318 - val_loss: 0.2352 - val_Classifier_loss: 0.0574 - val_Regressor_loss: 0.1778 - val_Classifier_accuracy: 0.6264 - val_Regressor_accuracy: 0.3664\n",
            "Epoch 175/500\n",
            "59/59 [==============================] - 4s 66ms/step - loss: 0.1190 - Classifier_loss: 0.0169 - Regressor_loss: 0.1021 - Classifier_accuracy: 0.6564 - Regressor_accuracy: 0.6344 - val_loss: 0.2355 - val_Classifier_loss: 0.0584 - val_Regressor_loss: 0.1771 - val_Classifier_accuracy: 0.6428 - val_Regressor_accuracy: 0.3688\n",
            "Epoch 176/500\n",
            "59/59 [==============================] - 4s 68ms/step - loss: 0.1182 - Classifier_loss: 0.0167 - Regressor_loss: 0.1015 - Classifier_accuracy: 0.6570 - Regressor_accuracy: 0.6362 - val_loss: 0.2343 - val_Classifier_loss: 0.0568 - val_Regressor_loss: 0.1775 - val_Classifier_accuracy: 0.6442 - val_Regressor_accuracy: 0.3700\n",
            "Epoch 177/500\n",
            "59/59 [==============================] - 4s 66ms/step - loss: 0.1176 - Classifier_loss: 0.0162 - Regressor_loss: 0.1014 - Classifier_accuracy: 0.6607 - Regressor_accuracy: 0.6372 - val_loss: 0.2352 - val_Classifier_loss: 0.0572 - val_Regressor_loss: 0.1779 - val_Classifier_accuracy: 0.6192 - val_Regressor_accuracy: 0.3716\n",
            "Epoch 178/500\n",
            "59/59 [==============================] - 4s 66ms/step - loss: 0.1171 - Classifier_loss: 0.0160 - Regressor_loss: 0.1011 - Classifier_accuracy: 0.6561 - Regressor_accuracy: 0.6368 - val_loss: 0.2358 - val_Classifier_loss: 0.0578 - val_Regressor_loss: 0.1780 - val_Classifier_accuracy: 0.6144 - val_Regressor_accuracy: 0.3692\n",
            "Epoch 179/500\n",
            "59/59 [==============================] - 4s 66ms/step - loss: 0.1174 - Classifier_loss: 0.0158 - Regressor_loss: 0.1016 - Classifier_accuracy: 0.6548 - Regressor_accuracy: 0.6348 - val_loss: 0.2344 - val_Classifier_loss: 0.0566 - val_Regressor_loss: 0.1778 - val_Classifier_accuracy: 0.6324 - val_Regressor_accuracy: 0.3662\n",
            "Epoch 180/500\n",
            "59/59 [==============================] - 4s 75ms/step - loss: 0.1168 - Classifier_loss: 0.0152 - Regressor_loss: 0.1015 - Classifier_accuracy: 0.6614 - Regressor_accuracy: 0.6393 - val_loss: 0.2344 - val_Classifier_loss: 0.0571 - val_Regressor_loss: 0.1774 - val_Classifier_accuracy: 0.6550 - val_Regressor_accuracy: 0.3742\n",
            "Epoch 181/500\n",
            "59/59 [==============================] - 4s 65ms/step - loss: 0.1155 - Classifier_loss: 0.0149 - Regressor_loss: 0.1006 - Classifier_accuracy: 0.6605 - Regressor_accuracy: 0.6395 - val_loss: 0.2357 - val_Classifier_loss: 0.0579 - val_Regressor_loss: 0.1778 - val_Classifier_accuracy: 0.6102 - val_Regressor_accuracy: 0.3692\n",
            "Epoch 182/500\n",
            "59/59 [==============================] - 4s 67ms/step - loss: 0.1151 - Classifier_loss: 0.0147 - Regressor_loss: 0.1004 - Classifier_accuracy: 0.6569 - Regressor_accuracy: 0.6382 - val_loss: 0.2349 - val_Classifier_loss: 0.0576 - val_Regressor_loss: 0.1773 - val_Classifier_accuracy: 0.6298 - val_Regressor_accuracy: 0.3716\n",
            "Epoch 183/500\n",
            "59/59 [==============================] - 4s 68ms/step - loss: 0.1145 - Classifier_loss: 0.0146 - Regressor_loss: 0.0999 - Classifier_accuracy: 0.6572 - Regressor_accuracy: 0.6412 - val_loss: 0.2350 - val_Classifier_loss: 0.0575 - val_Regressor_loss: 0.1776 - val_Classifier_accuracy: 0.6564 - val_Regressor_accuracy: 0.3668\n",
            "Epoch 184/500\n",
            "59/59 [==============================] - 4s 66ms/step - loss: 0.1143 - Classifier_loss: 0.0143 - Regressor_loss: 0.1000 - Classifier_accuracy: 0.6591 - Regressor_accuracy: 0.6401 - val_loss: 0.2371 - val_Classifier_loss: 0.0593 - val_Regressor_loss: 0.1778 - val_Classifier_accuracy: 0.6422 - val_Regressor_accuracy: 0.3736\n",
            "Epoch 185/500\n",
            "59/59 [==============================] - 4s 67ms/step - loss: 0.1143 - Classifier_loss: 0.0140 - Regressor_loss: 0.1003 - Classifier_accuracy: 0.6575 - Regressor_accuracy: 0.6410 - val_loss: 0.2347 - val_Classifier_loss: 0.0566 - val_Regressor_loss: 0.1781 - val_Classifier_accuracy: 0.6454 - val_Regressor_accuracy: 0.3680\n",
            "Epoch 186/500\n",
            "59/59 [==============================] - 4s 70ms/step - loss: 0.1137 - Classifier_loss: 0.0139 - Regressor_loss: 0.0998 - Classifier_accuracy: 0.6602 - Regressor_accuracy: 0.6396 - val_loss: 0.2381 - val_Classifier_loss: 0.0587 - val_Regressor_loss: 0.1794 - val_Classifier_accuracy: 0.6438 - val_Regressor_accuracy: 0.3668\n",
            "Epoch 187/500\n",
            "59/59 [==============================] - 4s 68ms/step - loss: 0.1140 - Classifier_loss: 0.0141 - Regressor_loss: 0.0999 - Classifier_accuracy: 0.6591 - Regressor_accuracy: 0.6435 - val_loss: 0.2357 - val_Classifier_loss: 0.0577 - val_Regressor_loss: 0.1780 - val_Classifier_accuracy: 0.6446 - val_Regressor_accuracy: 0.3744\n",
            "Epoch 188/500\n",
            "59/59 [==============================] - 4s 67ms/step - loss: 0.1131 - Classifier_loss: 0.0135 - Regressor_loss: 0.0996 - Classifier_accuracy: 0.6551 - Regressor_accuracy: 0.6412 - val_loss: 0.2376 - val_Classifier_loss: 0.0588 - val_Regressor_loss: 0.1788 - val_Classifier_accuracy: 0.6352 - val_Regressor_accuracy: 0.3628\n",
            "Epoch 189/500\n",
            "59/59 [==============================] - 5s 77ms/step - loss: 0.1124 - Classifier_loss: 0.0133 - Regressor_loss: 0.0990 - Classifier_accuracy: 0.6568 - Regressor_accuracy: 0.6452 - val_loss: 0.2358 - val_Classifier_loss: 0.0577 - val_Regressor_loss: 0.1781 - val_Classifier_accuracy: 0.6300 - val_Regressor_accuracy: 0.3662\n",
            "Epoch 190/500\n",
            "59/59 [==============================] - 4s 68ms/step - loss: 0.1121 - Classifier_loss: 0.0131 - Regressor_loss: 0.0990 - Classifier_accuracy: 0.6585 - Regressor_accuracy: 0.6429 - val_loss: 0.2355 - val_Classifier_loss: 0.0577 - val_Regressor_loss: 0.1778 - val_Classifier_accuracy: 0.6290 - val_Regressor_accuracy: 0.3716\n",
            "Epoch 191/500\n",
            "59/59 [==============================] - 4s 68ms/step - loss: 0.1116 - Classifier_loss: 0.0125 - Regressor_loss: 0.0991 - Classifier_accuracy: 0.6613 - Regressor_accuracy: 0.6403 - val_loss: 0.2360 - val_Classifier_loss: 0.0579 - val_Regressor_loss: 0.1781 - val_Classifier_accuracy: 0.6398 - val_Regressor_accuracy: 0.3700\n",
            "Epoch 192/500\n",
            "59/59 [==============================] - 4s 65ms/step - loss: 0.1114 - Classifier_loss: 0.0125 - Regressor_loss: 0.0990 - Classifier_accuracy: 0.6579 - Regressor_accuracy: 0.6445 - val_loss: 0.2394 - val_Classifier_loss: 0.0614 - val_Regressor_loss: 0.1780 - val_Classifier_accuracy: 0.6400 - val_Regressor_accuracy: 0.3696\n",
            "Epoch 193/500\n",
            "59/59 [==============================] - 4s 68ms/step - loss: 0.1118 - Classifier_loss: 0.0128 - Regressor_loss: 0.0991 - Classifier_accuracy: 0.6605 - Regressor_accuracy: 0.6464 - val_loss: 0.2377 - val_Classifier_loss: 0.0595 - val_Regressor_loss: 0.1782 - val_Classifier_accuracy: 0.6124 - val_Regressor_accuracy: 0.3696\n",
            "Epoch 194/500\n",
            "59/59 [==============================] - 4s 65ms/step - loss: 0.1121 - Classifier_loss: 0.0125 - Regressor_loss: 0.0996 - Classifier_accuracy: 0.6543 - Regressor_accuracy: 0.6454 - val_loss: 0.2375 - val_Classifier_loss: 0.0595 - val_Regressor_loss: 0.1780 - val_Classifier_accuracy: 0.6326 - val_Regressor_accuracy: 0.3728\n",
            "Epoch 195/500\n",
            "59/59 [==============================] - 4s 67ms/step - loss: 0.1097 - Classifier_loss: 0.0117 - Regressor_loss: 0.0980 - Classifier_accuracy: 0.6595 - Regressor_accuracy: 0.6472 - val_loss: 0.2362 - val_Classifier_loss: 0.0577 - val_Regressor_loss: 0.1785 - val_Classifier_accuracy: 0.6472 - val_Regressor_accuracy: 0.3714\n",
            "Epoch 196/500\n",
            "59/59 [==============================] - 4s 67ms/step - loss: 0.1097 - Classifier_loss: 0.0116 - Regressor_loss: 0.0980 - Classifier_accuracy: 0.6633 - Regressor_accuracy: 0.6469 - val_loss: 0.2366 - val_Classifier_loss: 0.0584 - val_Regressor_loss: 0.1782 - val_Classifier_accuracy: 0.6364 - val_Regressor_accuracy: 0.3710\n",
            "Epoch 197/500\n",
            "59/59 [==============================] - 4s 76ms/step - loss: 0.1094 - Classifier_loss: 0.0114 - Regressor_loss: 0.0980 - Classifier_accuracy: 0.6622 - Regressor_accuracy: 0.6464 - val_loss: 0.2407 - val_Classifier_loss: 0.0619 - val_Regressor_loss: 0.1788 - val_Classifier_accuracy: 0.6402 - val_Regressor_accuracy: 0.3690\n",
            "Epoch 198/500\n",
            "59/59 [==============================] - 4s 67ms/step - loss: 0.1094 - Classifier_loss: 0.0116 - Regressor_loss: 0.0978 - Classifier_accuracy: 0.6593 - Regressor_accuracy: 0.6504 - val_loss: 0.2380 - val_Classifier_loss: 0.0581 - val_Regressor_loss: 0.1799 - val_Classifier_accuracy: 0.6328 - val_Regressor_accuracy: 0.3608\n",
            "Epoch 199/500\n",
            "59/59 [==============================] - 4s 67ms/step - loss: 0.1104 - Classifier_loss: 0.0111 - Regressor_loss: 0.0993 - Classifier_accuracy: 0.6644 - Regressor_accuracy: 0.6453 - val_loss: 0.2374 - val_Classifier_loss: 0.0585 - val_Regressor_loss: 0.1788 - val_Classifier_accuracy: 0.6460 - val_Regressor_accuracy: 0.3732\n",
            "Epoch 200/500\n",
            "59/59 [==============================] - 4s 67ms/step - loss: 0.1079 - Classifier_loss: 0.0107 - Regressor_loss: 0.0972 - Classifier_accuracy: 0.6600 - Regressor_accuracy: 0.6491 - val_loss: 0.2377 - val_Classifier_loss: 0.0592 - val_Regressor_loss: 0.1786 - val_Classifier_accuracy: 0.6294 - val_Regressor_accuracy: 0.3662\n",
            "Epoch 201/500\n",
            "59/59 [==============================] - 4s 68ms/step - loss: 0.1075 - Classifier_loss: 0.0106 - Regressor_loss: 0.0969 - Classifier_accuracy: 0.6646 - Regressor_accuracy: 0.6499 - val_loss: 0.2376 - val_Classifier_loss: 0.0590 - val_Regressor_loss: 0.1786 - val_Classifier_accuracy: 0.6382 - val_Regressor_accuracy: 0.3736\n",
            "Epoch 202/500\n",
            "59/59 [==============================] - 4s 66ms/step - loss: 0.1084 - Classifier_loss: 0.0106 - Regressor_loss: 0.0979 - Classifier_accuracy: 0.6653 - Regressor_accuracy: 0.6471 - val_loss: 0.2363 - val_Classifier_loss: 0.0579 - val_Regressor_loss: 0.1784 - val_Classifier_accuracy: 0.6436 - val_Regressor_accuracy: 0.3710\n",
            "Epoch 203/500\n",
            "59/59 [==============================] - 4s 66ms/step - loss: 0.1090 - Classifier_loss: 0.0101 - Regressor_loss: 0.0989 - Classifier_accuracy: 0.6619 - Regressor_accuracy: 0.6483 - val_loss: 0.2386 - val_Classifier_loss: 0.0594 - val_Regressor_loss: 0.1792 - val_Classifier_accuracy: 0.6452 - val_Regressor_accuracy: 0.3676\n",
            "Epoch 204/500\n",
            "59/59 [==============================] - 4s 67ms/step - loss: 0.1092 - Classifier_loss: 0.0103 - Regressor_loss: 0.0988 - Classifier_accuracy: 0.6599 - Regressor_accuracy: 0.6461 - val_loss: 0.2384 - val_Classifier_loss: 0.0594 - val_Regressor_loss: 0.1790 - val_Classifier_accuracy: 0.6308 - val_Regressor_accuracy: 0.3644\n",
            "Epoch 205/500\n",
            "59/59 [==============================] - 4s 66ms/step - loss: 0.1079 - Classifier_loss: 0.0100 - Regressor_loss: 0.0979 - Classifier_accuracy: 0.6587 - Regressor_accuracy: 0.6492 - val_loss: 0.2393 - val_Classifier_loss: 0.0611 - val_Regressor_loss: 0.1782 - val_Classifier_accuracy: 0.6342 - val_Regressor_accuracy: 0.3748\n",
            "Epoch 206/500\n",
            "59/59 [==============================] - 4s 77ms/step - loss: 0.1091 - Classifier_loss: 0.0103 - Regressor_loss: 0.0988 - Classifier_accuracy: 0.6549 - Regressor_accuracy: 0.6439 - val_loss: 0.2373 - val_Classifier_loss: 0.0582 - val_Regressor_loss: 0.1791 - val_Classifier_accuracy: 0.6368 - val_Regressor_accuracy: 0.3648\n",
            "Epoch 207/500\n",
            "59/59 [==============================] - 4s 66ms/step - loss: 0.1076 - Classifier_loss: 0.0096 - Regressor_loss: 0.0980 - Classifier_accuracy: 0.6624 - Regressor_accuracy: 0.6520 - val_loss: 0.2415 - val_Classifier_loss: 0.0618 - val_Regressor_loss: 0.1798 - val_Classifier_accuracy: 0.6374 - val_Regressor_accuracy: 0.3632\n",
            "Epoch 208/500\n",
            "59/59 [==============================] - 4s 66ms/step - loss: 0.1065 - Classifier_loss: 0.0096 - Regressor_loss: 0.0969 - Classifier_accuracy: 0.6604 - Regressor_accuracy: 0.6542 - val_loss: 0.2375 - val_Classifier_loss: 0.0597 - val_Regressor_loss: 0.1778 - val_Classifier_accuracy: 0.6270 - val_Regressor_accuracy: 0.3722\n",
            "Epoch 209/500\n",
            "59/59 [==============================] - 4s 66ms/step - loss: 0.1071 - Classifier_loss: 0.0095 - Regressor_loss: 0.0976 - Classifier_accuracy: 0.6587 - Regressor_accuracy: 0.6505 - val_loss: 0.2382 - val_Classifier_loss: 0.0592 - val_Regressor_loss: 0.1790 - val_Classifier_accuracy: 0.6270 - val_Regressor_accuracy: 0.3634\n",
            "Epoch 210/500\n",
            "59/59 [==============================] - 4s 66ms/step - loss: 0.1055 - Classifier_loss: 0.0091 - Regressor_loss: 0.0964 - Classifier_accuracy: 0.6593 - Regressor_accuracy: 0.6552 - val_loss: 0.2368 - val_Classifier_loss: 0.0584 - val_Regressor_loss: 0.1783 - val_Classifier_accuracy: 0.6348 - val_Regressor_accuracy: 0.3676\n",
            "Epoch 211/500\n",
            "59/59 [==============================] - 4s 69ms/step - loss: 0.1073 - Classifier_loss: 0.0089 - Regressor_loss: 0.0985 - Classifier_accuracy: 0.6574 - Regressor_accuracy: 0.6485 - val_loss: 0.2378 - val_Classifier_loss: 0.0588 - val_Regressor_loss: 0.1790 - val_Classifier_accuracy: 0.6396 - val_Regressor_accuracy: 0.3740\n",
            "Epoch 212/500\n",
            "59/59 [==============================] - 4s 67ms/step - loss: 0.1042 - Classifier_loss: 0.0090 - Regressor_loss: 0.0952 - Classifier_accuracy: 0.6580 - Regressor_accuracy: 0.6557 - val_loss: 0.2394 - val_Classifier_loss: 0.0606 - val_Regressor_loss: 0.1787 - val_Classifier_accuracy: 0.6488 - val_Regressor_accuracy: 0.3672\n",
            "Epoch 213/500\n",
            "59/59 [==============================] - 4s 67ms/step - loss: 0.1045 - Classifier_loss: 0.0088 - Regressor_loss: 0.0957 - Classifier_accuracy: 0.6648 - Regressor_accuracy: 0.6589 - val_loss: 0.2392 - val_Classifier_loss: 0.0602 - val_Regressor_loss: 0.1790 - val_Classifier_accuracy: 0.6408 - val_Regressor_accuracy: 0.3712\n",
            "Epoch 214/500\n",
            "59/59 [==============================] - 4s 75ms/step - loss: 0.1034 - Classifier_loss: 0.0086 - Regressor_loss: 0.0948 - Classifier_accuracy: 0.6638 - Regressor_accuracy: 0.6583 - val_loss: 0.2406 - val_Classifier_loss: 0.0613 - val_Regressor_loss: 0.1794 - val_Classifier_accuracy: 0.6592 - val_Regressor_accuracy: 0.3670\n",
            "Epoch 215/500\n",
            "59/59 [==============================] - 5s 87ms/step - loss: 0.1037 - Classifier_loss: 0.0087 - Regressor_loss: 0.0950 - Classifier_accuracy: 0.6666 - Regressor_accuracy: 0.6567 - val_loss: 0.2410 - val_Classifier_loss: 0.0616 - val_Regressor_loss: 0.1794 - val_Classifier_accuracy: 0.6634 - val_Regressor_accuracy: 0.3710\n",
            "Epoch 216/500\n",
            "59/59 [==============================] - 5s 87ms/step - loss: 0.1028 - Classifier_loss: 0.0082 - Regressor_loss: 0.0946 - Classifier_accuracy: 0.6678 - Regressor_accuracy: 0.6594 - val_loss: 0.2409 - val_Classifier_loss: 0.0614 - val_Regressor_loss: 0.1795 - val_Classifier_accuracy: 0.6466 - val_Regressor_accuracy: 0.3736\n",
            "Epoch 217/500\n",
            "59/59 [==============================] - 4s 69ms/step - loss: 0.1031 - Classifier_loss: 0.0082 - Regressor_loss: 0.0949 - Classifier_accuracy: 0.6690 - Regressor_accuracy: 0.6576 - val_loss: 0.2399 - val_Classifier_loss: 0.0598 - val_Regressor_loss: 0.1801 - val_Classifier_accuracy: 0.6408 - val_Regressor_accuracy: 0.3682\n",
            "Epoch 218/500\n",
            "59/59 [==============================] - 4s 67ms/step - loss: 0.1021 - Classifier_loss: 0.0078 - Regressor_loss: 0.0943 - Classifier_accuracy: 0.6620 - Regressor_accuracy: 0.6602 - val_loss: 0.2411 - val_Classifier_loss: 0.0612 - val_Regressor_loss: 0.1799 - val_Classifier_accuracy: 0.6412 - val_Regressor_accuracy: 0.3674\n",
            "Epoch 219/500\n",
            "59/59 [==============================] - 4s 67ms/step - loss: 0.1022 - Classifier_loss: 0.0080 - Regressor_loss: 0.0942 - Classifier_accuracy: 0.6645 - Regressor_accuracy: 0.6601 - val_loss: 0.2396 - val_Classifier_loss: 0.0603 - val_Regressor_loss: 0.1793 - val_Classifier_accuracy: 0.6504 - val_Regressor_accuracy: 0.3596\n",
            "Epoch 220/500\n",
            "59/59 [==============================] - 4s 67ms/step - loss: 0.1014 - Classifier_loss: 0.0075 - Regressor_loss: 0.0940 - Classifier_accuracy: 0.6697 - Regressor_accuracy: 0.6628 - val_loss: 0.2408 - val_Classifier_loss: 0.0609 - val_Regressor_loss: 0.1799 - val_Classifier_accuracy: 0.6490 - val_Regressor_accuracy: 0.3712\n",
            "Epoch 221/500\n",
            "59/59 [==============================] - 4s 66ms/step - loss: 0.1016 - Classifier_loss: 0.0074 - Regressor_loss: 0.0942 - Classifier_accuracy: 0.6707 - Regressor_accuracy: 0.6625 - val_loss: 0.2412 - val_Classifier_loss: 0.0614 - val_Regressor_loss: 0.1799 - val_Classifier_accuracy: 0.6534 - val_Regressor_accuracy: 0.3660\n",
            "Epoch 222/500\n",
            "59/59 [==============================] - 4s 67ms/step - loss: 0.1016 - Classifier_loss: 0.0071 - Regressor_loss: 0.0945 - Classifier_accuracy: 0.6728 - Regressor_accuracy: 0.6606 - val_loss: 0.2405 - val_Classifier_loss: 0.0614 - val_Regressor_loss: 0.1791 - val_Classifier_accuracy: 0.6466 - val_Regressor_accuracy: 0.3696\n",
            "Epoch 223/500\n",
            "59/59 [==============================] - 5s 77ms/step - loss: 0.1011 - Classifier_loss: 0.0071 - Regressor_loss: 0.0940 - Classifier_accuracy: 0.6730 - Regressor_accuracy: 0.6630 - val_loss: 0.2401 - val_Classifier_loss: 0.0612 - val_Regressor_loss: 0.1789 - val_Classifier_accuracy: 0.6548 - val_Regressor_accuracy: 0.3690\n",
            "Epoch 224/500\n",
            "59/59 [==============================] - 4s 67ms/step - loss: 0.1015 - Classifier_loss: 0.0069 - Regressor_loss: 0.0946 - Classifier_accuracy: 0.6695 - Regressor_accuracy: 0.6652 - val_loss: 0.2413 - val_Classifier_loss: 0.0612 - val_Regressor_loss: 0.1800 - val_Classifier_accuracy: 0.6448 - val_Regressor_accuracy: 0.3688\n",
            "Epoch 225/500\n",
            "59/59 [==============================] - 4s 66ms/step - loss: 0.1001 - Classifier_loss: 0.0071 - Regressor_loss: 0.0930 - Classifier_accuracy: 0.6689 - Regressor_accuracy: 0.6677 - val_loss: 0.2408 - val_Classifier_loss: 0.0616 - val_Regressor_loss: 0.1792 - val_Classifier_accuracy: 0.6458 - val_Regressor_accuracy: 0.3694\n",
            "Epoch 226/500\n",
            "59/59 [==============================] - 4s 66ms/step - loss: 0.1001 - Classifier_loss: 0.0068 - Regressor_loss: 0.0933 - Classifier_accuracy: 0.6747 - Regressor_accuracy: 0.6664 - val_loss: 0.2419 - val_Classifier_loss: 0.0621 - val_Regressor_loss: 0.1798 - val_Classifier_accuracy: 0.6560 - val_Regressor_accuracy: 0.3682\n",
            "Epoch 227/500\n",
            "59/59 [==============================] - 4s 66ms/step - loss: 0.0999 - Classifier_loss: 0.0066 - Regressor_loss: 0.0933 - Classifier_accuracy: 0.6760 - Regressor_accuracy: 0.6665 - val_loss: 0.2445 - val_Classifier_loss: 0.0653 - val_Regressor_loss: 0.1792 - val_Classifier_accuracy: 0.6592 - val_Regressor_accuracy: 0.3726\n",
            "Epoch 228/500\n",
            "59/59 [==============================] - 4s 66ms/step - loss: 0.1011 - Classifier_loss: 0.0070 - Regressor_loss: 0.0941 - Classifier_accuracy: 0.6731 - Regressor_accuracy: 0.6632 - val_loss: 0.2417 - val_Classifier_loss: 0.0621 - val_Regressor_loss: 0.1796 - val_Classifier_accuracy: 0.6708 - val_Regressor_accuracy: 0.3608\n",
            "Epoch 229/500\n",
            "59/59 [==============================] - 4s 65ms/step - loss: 0.1001 - Classifier_loss: 0.0064 - Regressor_loss: 0.0937 - Classifier_accuracy: 0.6779 - Regressor_accuracy: 0.6675 - val_loss: 0.2440 - val_Classifier_loss: 0.0648 - val_Regressor_loss: 0.1791 - val_Classifier_accuracy: 0.6680 - val_Regressor_accuracy: 0.3712\n",
            "Epoch 230/500\n",
            "59/59 [==============================] - 4s 65ms/step - loss: 0.1001 - Classifier_loss: 0.0069 - Regressor_loss: 0.0931 - Classifier_accuracy: 0.6715 - Regressor_accuracy: 0.6671 - val_loss: 0.2427 - val_Classifier_loss: 0.0628 - val_Regressor_loss: 0.1799 - val_Classifier_accuracy: 0.6630 - val_Regressor_accuracy: 0.3698\n",
            "Epoch 231/500\n",
            "59/59 [==============================] - 4s 76ms/step - loss: 0.0993 - Classifier_loss: 0.0062 - Regressor_loss: 0.0931 - Classifier_accuracy: 0.6795 - Regressor_accuracy: 0.6672 - val_loss: 0.2459 - val_Classifier_loss: 0.0664 - val_Regressor_loss: 0.1795 - val_Classifier_accuracy: 0.6622 - val_Regressor_accuracy: 0.3726\n",
            "Epoch 232/500\n",
            "59/59 [==============================] - 4s 67ms/step - loss: 0.1006 - Classifier_loss: 0.0066 - Regressor_loss: 0.0940 - Classifier_accuracy: 0.6770 - Regressor_accuracy: 0.6662 - val_loss: 0.2435 - val_Classifier_loss: 0.0632 - val_Regressor_loss: 0.1803 - val_Classifier_accuracy: 0.6502 - val_Regressor_accuracy: 0.3686\n",
            "Epoch 233/500\n",
            "59/59 [==============================] - 4s 68ms/step - loss: 0.0987 - Classifier_loss: 0.0060 - Regressor_loss: 0.0927 - Classifier_accuracy: 0.6733 - Regressor_accuracy: 0.6686 - val_loss: 0.2444 - val_Classifier_loss: 0.0642 - val_Regressor_loss: 0.1801 - val_Classifier_accuracy: 0.6638 - val_Regressor_accuracy: 0.3676\n",
            "Epoch 234/500\n",
            "59/59 [==============================] - 4s 67ms/step - loss: 0.0979 - Classifier_loss: 0.0059 - Regressor_loss: 0.0920 - Classifier_accuracy: 0.6776 - Regressor_accuracy: 0.6730 - val_loss: 0.2432 - val_Classifier_loss: 0.0636 - val_Regressor_loss: 0.1796 - val_Classifier_accuracy: 0.6658 - val_Regressor_accuracy: 0.3636\n",
            "Epoch 235/500\n",
            "59/59 [==============================] - 4s 66ms/step - loss: 0.0979 - Classifier_loss: 0.0057 - Regressor_loss: 0.0923 - Classifier_accuracy: 0.6781 - Regressor_accuracy: 0.6701 - val_loss: 0.2437 - val_Classifier_loss: 0.0647 - val_Regressor_loss: 0.1791 - val_Classifier_accuracy: 0.6742 - val_Regressor_accuracy: 0.3720\n",
            "Epoch 236/500\n",
            "59/59 [==============================] - 4s 66ms/step - loss: 0.0981 - Classifier_loss: 0.0058 - Regressor_loss: 0.0924 - Classifier_accuracy: 0.6795 - Regressor_accuracy: 0.6714 - val_loss: 0.2462 - val_Classifier_loss: 0.0656 - val_Regressor_loss: 0.1806 - val_Classifier_accuracy: 0.6642 - val_Regressor_accuracy: 0.3704\n",
            "Epoch 237/500\n",
            "59/59 [==============================] - 4s 69ms/step - loss: 0.0984 - Classifier_loss: 0.0056 - Regressor_loss: 0.0928 - Classifier_accuracy: 0.6796 - Regressor_accuracy: 0.6671 - val_loss: 0.2454 - val_Classifier_loss: 0.0643 - val_Regressor_loss: 0.1811 - val_Classifier_accuracy: 0.6498 - val_Regressor_accuracy: 0.3592\n",
            "Epoch 238/500\n",
            "59/59 [==============================] - 4s 67ms/step - loss: 0.0984 - Classifier_loss: 0.0055 - Regressor_loss: 0.0929 - Classifier_accuracy: 0.6741 - Regressor_accuracy: 0.6705 - val_loss: 0.2441 - val_Classifier_loss: 0.0642 - val_Regressor_loss: 0.1799 - val_Classifier_accuracy: 0.6634 - val_Regressor_accuracy: 0.3688\n",
            "Epoch 239/500\n",
            "59/59 [==============================] - 4s 66ms/step - loss: 0.0981 - Classifier_loss: 0.0056 - Regressor_loss: 0.0924 - Classifier_accuracy: 0.6777 - Regressor_accuracy: 0.6730 - val_loss: 0.2448 - val_Classifier_loss: 0.0641 - val_Regressor_loss: 0.1806 - val_Classifier_accuracy: 0.6758 - val_Regressor_accuracy: 0.3598\n",
            "Epoch 240/500\n",
            "59/59 [==============================] - 4s 76ms/step - loss: 0.0986 - Classifier_loss: 0.0056 - Regressor_loss: 0.0929 - Classifier_accuracy: 0.6832 - Regressor_accuracy: 0.6713 - val_loss: 0.2426 - val_Classifier_loss: 0.0629 - val_Regressor_loss: 0.1797 - val_Classifier_accuracy: 0.6498 - val_Regressor_accuracy: 0.3726\n",
            "Epoch 241/500\n",
            "59/59 [==============================] - 4s 66ms/step - loss: 0.0965 - Classifier_loss: 0.0052 - Regressor_loss: 0.0913 - Classifier_accuracy: 0.6771 - Regressor_accuracy: 0.6750 - val_loss: 0.2457 - val_Classifier_loss: 0.0649 - val_Regressor_loss: 0.1808 - val_Classifier_accuracy: 0.6482 - val_Regressor_accuracy: 0.3606\n",
            "Epoch 242/500\n",
            "59/59 [==============================] - 4s 68ms/step - loss: 0.0971 - Classifier_loss: 0.0054 - Regressor_loss: 0.0917 - Classifier_accuracy: 0.6752 - Regressor_accuracy: 0.6771 - val_loss: 0.2455 - val_Classifier_loss: 0.0650 - val_Regressor_loss: 0.1805 - val_Classifier_accuracy: 0.6652 - val_Regressor_accuracy: 0.3778\n",
            "Epoch 243/500\n",
            "59/59 [==============================] - 4s 65ms/step - loss: 0.0964 - Classifier_loss: 0.0050 - Regressor_loss: 0.0914 - Classifier_accuracy: 0.6792 - Regressor_accuracy: 0.6764 - val_loss: 0.2449 - val_Classifier_loss: 0.0654 - val_Regressor_loss: 0.1796 - val_Classifier_accuracy: 0.6706 - val_Regressor_accuracy: 0.3682\n",
            "Epoch 244/500\n",
            "59/59 [==============================] - 4s 65ms/step - loss: 0.0954 - Classifier_loss: 0.0049 - Regressor_loss: 0.0905 - Classifier_accuracy: 0.6831 - Regressor_accuracy: 0.6765 - val_loss: 0.2474 - val_Classifier_loss: 0.0665 - val_Regressor_loss: 0.1809 - val_Classifier_accuracy: 0.6784 - val_Regressor_accuracy: 0.3666\n",
            "Epoch 245/500\n",
            "59/59 [==============================] - 4s 65ms/step - loss: 0.0967 - Classifier_loss: 0.0052 - Regressor_loss: 0.0915 - Classifier_accuracy: 0.6860 - Regressor_accuracy: 0.6748 - val_loss: 0.2469 - val_Classifier_loss: 0.0665 - val_Regressor_loss: 0.1804 - val_Classifier_accuracy: 0.6788 - val_Regressor_accuracy: 0.3650\n",
            "Epoch 246/500\n",
            "59/59 [==============================] - 4s 66ms/step - loss: 0.0973 - Classifier_loss: 0.0051 - Regressor_loss: 0.0922 - Classifier_accuracy: 0.6810 - Regressor_accuracy: 0.6759 - val_loss: 0.2487 - val_Classifier_loss: 0.0674 - val_Regressor_loss: 0.1813 - val_Classifier_accuracy: 0.6730 - val_Regressor_accuracy: 0.3712\n",
            "Epoch 247/500\n",
            "59/59 [==============================] - 4s 65ms/step - loss: 0.0970 - Classifier_loss: 0.0051 - Regressor_loss: 0.0919 - Classifier_accuracy: 0.6810 - Regressor_accuracy: 0.6744 - val_loss: 0.2454 - val_Classifier_loss: 0.0652 - val_Regressor_loss: 0.1802 - val_Classifier_accuracy: 0.6744 - val_Regressor_accuracy: 0.3640\n",
            "Epoch 248/500\n",
            "59/59 [==============================] - 4s 75ms/step - loss: 0.0947 - Classifier_loss: 0.0045 - Regressor_loss: 0.0902 - Classifier_accuracy: 0.6862 - Regressor_accuracy: 0.6787 - val_loss: 0.2464 - val_Classifier_loss: 0.0651 - val_Regressor_loss: 0.1813 - val_Classifier_accuracy: 0.6698 - val_Regressor_accuracy: 0.3698\n",
            "Epoch 249/500\n",
            "59/59 [==============================] - 4s 67ms/step - loss: 0.0951 - Classifier_loss: 0.0045 - Regressor_loss: 0.0907 - Classifier_accuracy: 0.6862 - Regressor_accuracy: 0.6804 - val_loss: 0.2472 - val_Classifier_loss: 0.0665 - val_Regressor_loss: 0.1807 - val_Classifier_accuracy: 0.6716 - val_Regressor_accuracy: 0.3622\n",
            "Epoch 250/500\n",
            "59/59 [==============================] - 4s 65ms/step - loss: 0.0970 - Classifier_loss: 0.0047 - Regressor_loss: 0.0923 - Classifier_accuracy: 0.6849 - Regressor_accuracy: 0.6767 - val_loss: 0.2474 - val_Classifier_loss: 0.0676 - val_Regressor_loss: 0.1798 - val_Classifier_accuracy: 0.6754 - val_Regressor_accuracy: 0.3716\n",
            "Epoch 251/500\n",
            "59/59 [==============================] - 4s 67ms/step - loss: 0.0944 - Classifier_loss: 0.0045 - Regressor_loss: 0.0900 - Classifier_accuracy: 0.6838 - Regressor_accuracy: 0.6839 - val_loss: 0.2470 - val_Classifier_loss: 0.0661 - val_Regressor_loss: 0.1808 - val_Classifier_accuracy: 0.6798 - val_Regressor_accuracy: 0.3692\n",
            "Epoch 252/500\n",
            "59/59 [==============================] - 4s 66ms/step - loss: 0.0952 - Classifier_loss: 0.0043 - Regressor_loss: 0.0909 - Classifier_accuracy: 0.6880 - Regressor_accuracy: 0.6774 - val_loss: 0.2487 - val_Classifier_loss: 0.0670 - val_Regressor_loss: 0.1817 - val_Classifier_accuracy: 0.6722 - val_Regressor_accuracy: 0.3598\n",
            "Epoch 253/500\n",
            "59/59 [==============================] - 4s 67ms/step - loss: 0.0941 - Classifier_loss: 0.0043 - Regressor_loss: 0.0898 - Classifier_accuracy: 0.6862 - Regressor_accuracy: 0.6817 - val_loss: 0.2502 - val_Classifier_loss: 0.0689 - val_Regressor_loss: 0.1813 - val_Classifier_accuracy: 0.6848 - val_Regressor_accuracy: 0.3664\n",
            "Epoch 254/500\n",
            "59/59 [==============================] - 4s 66ms/step - loss: 0.0935 - Classifier_loss: 0.0048 - Regressor_loss: 0.0888 - Classifier_accuracy: 0.6908 - Regressor_accuracy: 0.6881 - val_loss: 0.2460 - val_Classifier_loss: 0.0659 - val_Regressor_loss: 0.1801 - val_Classifier_accuracy: 0.6782 - val_Regressor_accuracy: 0.3674\n",
            "Epoch 255/500\n",
            "59/59 [==============================] - 4s 66ms/step - loss: 0.0930 - Classifier_loss: 0.0040 - Regressor_loss: 0.0891 - Classifier_accuracy: 0.6931 - Regressor_accuracy: 0.6861 - val_loss: 0.2483 - val_Classifier_loss: 0.0679 - val_Regressor_loss: 0.1804 - val_Classifier_accuracy: 0.6822 - val_Regressor_accuracy: 0.3682\n",
            "Epoch 256/500\n",
            "59/59 [==============================] - 4s 67ms/step - loss: 0.0936 - Classifier_loss: 0.0043 - Regressor_loss: 0.0893 - Classifier_accuracy: 0.6923 - Regressor_accuracy: 0.6864 - val_loss: 0.2467 - val_Classifier_loss: 0.0660 - val_Regressor_loss: 0.1807 - val_Classifier_accuracy: 0.6760 - val_Regressor_accuracy: 0.3610\n",
            "Epoch 257/500\n",
            "59/59 [==============================] - 5s 78ms/step - loss: 0.0950 - Classifier_loss: 0.0040 - Regressor_loss: 0.0910 - Classifier_accuracy: 0.6929 - Regressor_accuracy: 0.6791 - val_loss: 0.2466 - val_Classifier_loss: 0.0660 - val_Regressor_loss: 0.1806 - val_Classifier_accuracy: 0.6826 - val_Regressor_accuracy: 0.3648\n",
            "Epoch 258/500\n",
            "59/59 [==============================] - 4s 67ms/step - loss: 0.0947 - Classifier_loss: 0.0040 - Regressor_loss: 0.0908 - Classifier_accuracy: 0.6902 - Regressor_accuracy: 0.6815 - val_loss: 0.2491 - val_Classifier_loss: 0.0670 - val_Regressor_loss: 0.1821 - val_Classifier_accuracy: 0.6696 - val_Regressor_accuracy: 0.3664\n",
            "Epoch 259/500\n",
            "59/59 [==============================] - 4s 69ms/step - loss: 0.0938 - Classifier_loss: 0.0038 - Regressor_loss: 0.0900 - Classifier_accuracy: 0.6847 - Regressor_accuracy: 0.6830 - val_loss: 0.2482 - val_Classifier_loss: 0.0677 - val_Regressor_loss: 0.1805 - val_Classifier_accuracy: 0.6830 - val_Regressor_accuracy: 0.3666\n",
            "Epoch 260/500\n",
            "59/59 [==============================] - 4s 67ms/step - loss: 0.0923 - Classifier_loss: 0.0039 - Regressor_loss: 0.0884 - Classifier_accuracy: 0.6926 - Regressor_accuracy: 0.6869 - val_loss: 0.2471 - val_Classifier_loss: 0.0664 - val_Regressor_loss: 0.1806 - val_Classifier_accuracy: 0.6744 - val_Regressor_accuracy: 0.3686\n",
            "Epoch 261/500\n",
            "59/59 [==============================] - 4s 67ms/step - loss: 0.0920 - Classifier_loss: 0.0037 - Regressor_loss: 0.0883 - Classifier_accuracy: 0.6915 - Regressor_accuracy: 0.6869 - val_loss: 0.2474 - val_Classifier_loss: 0.0663 - val_Regressor_loss: 0.1811 - val_Classifier_accuracy: 0.6832 - val_Regressor_accuracy: 0.3676\n",
            "Epoch 262/500\n",
            "59/59 [==============================] - 4s 67ms/step - loss: 0.0914 - Classifier_loss: 0.0036 - Regressor_loss: 0.0878 - Classifier_accuracy: 0.6943 - Regressor_accuracy: 0.6880 - val_loss: 0.2490 - val_Classifier_loss: 0.0678 - val_Regressor_loss: 0.1812 - val_Classifier_accuracy: 0.6830 - val_Regressor_accuracy: 0.3666\n",
            "Epoch 263/500\n",
            "59/59 [==============================] - 4s 68ms/step - loss: 0.0915 - Classifier_loss: 0.0034 - Regressor_loss: 0.0880 - Classifier_accuracy: 0.6975 - Regressor_accuracy: 0.6877 - val_loss: 0.2489 - val_Classifier_loss: 0.0678 - val_Regressor_loss: 0.1811 - val_Classifier_accuracy: 0.6902 - val_Regressor_accuracy: 0.3676\n",
            "Epoch 264/500\n",
            "59/59 [==============================] - 4s 68ms/step - loss: 0.0919 - Classifier_loss: 0.0034 - Regressor_loss: 0.0885 - Classifier_accuracy: 0.6959 - Regressor_accuracy: 0.6860 - val_loss: 0.2494 - val_Classifier_loss: 0.0684 - val_Regressor_loss: 0.1809 - val_Classifier_accuracy: 0.6822 - val_Regressor_accuracy: 0.3654\n",
            "Epoch 265/500\n",
            "59/59 [==============================] - 5s 77ms/step - loss: 0.0917 - Classifier_loss: 0.0035 - Regressor_loss: 0.0883 - Classifier_accuracy: 0.6935 - Regressor_accuracy: 0.6907 - val_loss: 0.2489 - val_Classifier_loss: 0.0674 - val_Regressor_loss: 0.1815 - val_Classifier_accuracy: 0.6882 - val_Regressor_accuracy: 0.3672\n",
            "Epoch 266/500\n",
            "59/59 [==============================] - 4s 67ms/step - loss: 0.0918 - Classifier_loss: 0.0035 - Regressor_loss: 0.0883 - Classifier_accuracy: 0.6965 - Regressor_accuracy: 0.6876 - val_loss: 0.2508 - val_Classifier_loss: 0.0690 - val_Regressor_loss: 0.1818 - val_Classifier_accuracy: 0.6820 - val_Regressor_accuracy: 0.3626\n",
            "Epoch 267/500\n",
            "59/59 [==============================] - 4s 68ms/step - loss: 0.0913 - Classifier_loss: 0.0034 - Regressor_loss: 0.0879 - Classifier_accuracy: 0.6971 - Regressor_accuracy: 0.6878 - val_loss: 0.2498 - val_Classifier_loss: 0.0689 - val_Regressor_loss: 0.1809 - val_Classifier_accuracy: 0.6874 - val_Regressor_accuracy: 0.3698\n",
            "Epoch 268/500\n",
            "59/59 [==============================] - 4s 70ms/step - loss: 0.0901 - Classifier_loss: 0.0034 - Regressor_loss: 0.0866 - Classifier_accuracy: 0.6991 - Regressor_accuracy: 0.6934 - val_loss: 0.2508 - val_Classifier_loss: 0.0682 - val_Regressor_loss: 0.1826 - val_Classifier_accuracy: 0.6840 - val_Regressor_accuracy: 0.3554\n",
            "Epoch 269/500\n",
            "59/59 [==============================] - 4s 69ms/step - loss: 0.0910 - Classifier_loss: 0.0033 - Regressor_loss: 0.0877 - Classifier_accuracy: 0.6986 - Regressor_accuracy: 0.6895 - val_loss: 0.2494 - val_Classifier_loss: 0.0677 - val_Regressor_loss: 0.1817 - val_Classifier_accuracy: 0.6936 - val_Regressor_accuracy: 0.3618\n",
            "Epoch 270/500\n",
            "59/59 [==============================] - 4s 67ms/step - loss: 0.0912 - Classifier_loss: 0.0031 - Regressor_loss: 0.0881 - Classifier_accuracy: 0.7006 - Regressor_accuracy: 0.6898 - val_loss: 0.2510 - val_Classifier_loss: 0.0702 - val_Regressor_loss: 0.1808 - val_Classifier_accuracy: 0.6898 - val_Regressor_accuracy: 0.3680\n",
            "Epoch 271/500\n",
            "59/59 [==============================] - 4s 67ms/step - loss: 0.0899 - Classifier_loss: 0.0031 - Regressor_loss: 0.0868 - Classifier_accuracy: 0.7026 - Regressor_accuracy: 0.6925 - val_loss: 0.2522 - val_Classifier_loss: 0.0697 - val_Regressor_loss: 0.1825 - val_Classifier_accuracy: 0.7000 - val_Regressor_accuracy: 0.3680\n",
            "Epoch 272/500\n",
            "59/59 [==============================] - 4s 66ms/step - loss: 0.0897 - Classifier_loss: 0.0032 - Regressor_loss: 0.0866 - Classifier_accuracy: 0.7040 - Regressor_accuracy: 0.6953 - val_loss: 0.2506 - val_Classifier_loss: 0.0688 - val_Regressor_loss: 0.1817 - val_Classifier_accuracy: 0.6826 - val_Regressor_accuracy: 0.3698\n",
            "Epoch 273/500\n",
            "59/59 [==============================] - 4s 68ms/step - loss: 0.0896 - Classifier_loss: 0.0029 - Regressor_loss: 0.0868 - Classifier_accuracy: 0.7040 - Regressor_accuracy: 0.6942 - val_loss: 0.2521 - val_Classifier_loss: 0.0700 - val_Regressor_loss: 0.1820 - val_Classifier_accuracy: 0.6938 - val_Regressor_accuracy: 0.3658\n",
            "Epoch 274/500\n",
            "59/59 [==============================] - 5s 79ms/step - loss: 0.0892 - Classifier_loss: 0.0029 - Regressor_loss: 0.0863 - Classifier_accuracy: 0.7036 - Regressor_accuracy: 0.6932 - val_loss: 0.2520 - val_Classifier_loss: 0.0695 - val_Regressor_loss: 0.1825 - val_Classifier_accuracy: 0.7068 - val_Regressor_accuracy: 0.3650\n",
            "Epoch 275/500\n",
            "59/59 [==============================] - 4s 68ms/step - loss: 0.0891 - Classifier_loss: 0.0029 - Regressor_loss: 0.0862 - Classifier_accuracy: 0.7056 - Regressor_accuracy: 0.6935 - val_loss: 0.2504 - val_Classifier_loss: 0.0690 - val_Regressor_loss: 0.1814 - val_Classifier_accuracy: 0.6970 - val_Regressor_accuracy: 0.3670\n",
            "Epoch 276/500\n",
            "59/59 [==============================] - 4s 66ms/step - loss: 0.0888 - Classifier_loss: 0.0028 - Regressor_loss: 0.0860 - Classifier_accuracy: 0.7069 - Regressor_accuracy: 0.6969 - val_loss: 0.2523 - val_Classifier_loss: 0.0707 - val_Regressor_loss: 0.1816 - val_Classifier_accuracy: 0.6888 - val_Regressor_accuracy: 0.3694\n",
            "Epoch 277/500\n",
            "59/59 [==============================] - 4s 66ms/step - loss: 0.0912 - Classifier_loss: 0.0030 - Regressor_loss: 0.0883 - Classifier_accuracy: 0.7065 - Regressor_accuracy: 0.6881 - val_loss: 0.2522 - val_Classifier_loss: 0.0690 - val_Regressor_loss: 0.1832 - val_Classifier_accuracy: 0.6970 - val_Regressor_accuracy: 0.3682\n",
            "Epoch 278/500\n",
            "59/59 [==============================] - 4s 68ms/step - loss: 0.0887 - Classifier_loss: 0.0028 - Regressor_loss: 0.0859 - Classifier_accuracy: 0.7043 - Regressor_accuracy: 0.7004 - val_loss: 0.2528 - val_Classifier_loss: 0.0702 - val_Regressor_loss: 0.1825 - val_Classifier_accuracy: 0.6932 - val_Regressor_accuracy: 0.3612\n",
            "Epoch 279/500\n",
            "59/59 [==============================] - 4s 67ms/step - loss: 0.0902 - Classifier_loss: 0.0027 - Regressor_loss: 0.0874 - Classifier_accuracy: 0.7089 - Regressor_accuracy: 0.6933 - val_loss: 0.2512 - val_Classifier_loss: 0.0691 - val_Regressor_loss: 0.1821 - val_Classifier_accuracy: 0.6986 - val_Regressor_accuracy: 0.3648\n",
            "Epoch 280/500\n",
            "59/59 [==============================] - 4s 67ms/step - loss: 0.0885 - Classifier_loss: 0.0027 - Regressor_loss: 0.0858 - Classifier_accuracy: 0.7037 - Regressor_accuracy: 0.6996 - val_loss: 0.2530 - val_Classifier_loss: 0.0707 - val_Regressor_loss: 0.1823 - val_Classifier_accuracy: 0.7060 - val_Regressor_accuracy: 0.3604\n",
            "Epoch 281/500\n",
            "59/59 [==============================] - 4s 70ms/step - loss: 0.0881 - Classifier_loss: 0.0028 - Regressor_loss: 0.0853 - Classifier_accuracy: 0.7095 - Regressor_accuracy: 0.6997 - val_loss: 0.2531 - val_Classifier_loss: 0.0710 - val_Regressor_loss: 0.1821 - val_Classifier_accuracy: 0.6994 - val_Regressor_accuracy: 0.3658\n",
            "Epoch 282/500\n",
            "59/59 [==============================] - 4s 76ms/step - loss: 0.0872 - Classifier_loss: 0.0028 - Regressor_loss: 0.0844 - Classifier_accuracy: 0.7110 - Regressor_accuracy: 0.7008 - val_loss: 0.2531 - val_Classifier_loss: 0.0711 - val_Regressor_loss: 0.1820 - val_Classifier_accuracy: 0.7030 - val_Regressor_accuracy: 0.3682\n",
            "Epoch 283/500\n",
            "59/59 [==============================] - 4s 66ms/step - loss: 0.0886 - Classifier_loss: 0.0026 - Regressor_loss: 0.0860 - Classifier_accuracy: 0.7082 - Regressor_accuracy: 0.6969 - val_loss: 0.2532 - val_Classifier_loss: 0.0708 - val_Regressor_loss: 0.1824 - val_Classifier_accuracy: 0.6992 - val_Regressor_accuracy: 0.3636\n",
            "Epoch 284/500\n",
            "59/59 [==============================] - 4s 66ms/step - loss: 0.0869 - Classifier_loss: 0.0024 - Regressor_loss: 0.0845 - Classifier_accuracy: 0.7120 - Regressor_accuracy: 0.7021 - val_loss: 0.2524 - val_Classifier_loss: 0.0706 - val_Regressor_loss: 0.1817 - val_Classifier_accuracy: 0.7024 - val_Regressor_accuracy: 0.3692\n",
            "Epoch 285/500\n",
            "59/59 [==============================] - 4s 68ms/step - loss: 0.0872 - Classifier_loss: 0.0025 - Regressor_loss: 0.0847 - Classifier_accuracy: 0.7147 - Regressor_accuracy: 0.7012 - val_loss: 0.2548 - val_Classifier_loss: 0.0715 - val_Regressor_loss: 0.1833 - val_Classifier_accuracy: 0.7062 - val_Regressor_accuracy: 0.3570\n",
            "Epoch 286/500\n",
            "59/59 [==============================] - 4s 67ms/step - loss: 0.0898 - Classifier_loss: 0.0025 - Regressor_loss: 0.0873 - Classifier_accuracy: 0.7128 - Regressor_accuracy: 0.6948 - val_loss: 0.2531 - val_Classifier_loss: 0.0708 - val_Regressor_loss: 0.1824 - val_Classifier_accuracy: 0.7056 - val_Regressor_accuracy: 0.3680\n",
            "Epoch 287/500\n",
            "59/59 [==============================] - 4s 67ms/step - loss: 0.0869 - Classifier_loss: 0.0024 - Regressor_loss: 0.0845 - Classifier_accuracy: 0.7131 - Regressor_accuracy: 0.7047 - val_loss: 0.2565 - val_Classifier_loss: 0.0730 - val_Regressor_loss: 0.1835 - val_Classifier_accuracy: 0.7178 - val_Regressor_accuracy: 0.3686\n",
            "Epoch 288/500\n",
            "59/59 [==============================] - 4s 67ms/step - loss: 0.0865 - Classifier_loss: 0.0024 - Regressor_loss: 0.0840 - Classifier_accuracy: 0.7154 - Regressor_accuracy: 0.7039 - val_loss: 0.2539 - val_Classifier_loss: 0.0709 - val_Regressor_loss: 0.1829 - val_Classifier_accuracy: 0.7054 - val_Regressor_accuracy: 0.3612\n",
            "Epoch 289/500\n",
            "59/59 [==============================] - 4s 68ms/step - loss: 0.0875 - Classifier_loss: 0.0023 - Regressor_loss: 0.0852 - Classifier_accuracy: 0.7144 - Regressor_accuracy: 0.6995 - val_loss: 0.2534 - val_Classifier_loss: 0.0716 - val_Regressor_loss: 0.1818 - val_Classifier_accuracy: 0.7042 - val_Regressor_accuracy: 0.3662\n",
            "Epoch 290/500\n",
            "59/59 [==============================] - 4s 67ms/step - loss: 0.0865 - Classifier_loss: 0.0023 - Regressor_loss: 0.0842 - Classifier_accuracy: 0.7147 - Regressor_accuracy: 0.7029 - val_loss: 0.2541 - val_Classifier_loss: 0.0720 - val_Regressor_loss: 0.1821 - val_Classifier_accuracy: 0.7156 - val_Regressor_accuracy: 0.3616\n",
            "Epoch 291/500\n",
            "59/59 [==============================] - 5s 79ms/step - loss: 0.0867 - Classifier_loss: 0.0023 - Regressor_loss: 0.0844 - Classifier_accuracy: 0.7152 - Regressor_accuracy: 0.7022 - val_loss: 0.2550 - val_Classifier_loss: 0.0718 - val_Regressor_loss: 0.1832 - val_Classifier_accuracy: 0.7084 - val_Regressor_accuracy: 0.3628\n",
            "Epoch 292/500\n",
            "59/59 [==============================] - 4s 65ms/step - loss: 0.0866 - Classifier_loss: 0.0024 - Regressor_loss: 0.0842 - Classifier_accuracy: 0.7134 - Regressor_accuracy: 0.7044 - val_loss: 0.2546 - val_Classifier_loss: 0.0719 - val_Regressor_loss: 0.1827 - val_Classifier_accuracy: 0.7066 - val_Regressor_accuracy: 0.3640\n",
            "Epoch 293/500\n",
            "59/59 [==============================] - 4s 67ms/step - loss: 0.0869 - Classifier_loss: 0.0024 - Regressor_loss: 0.0845 - Classifier_accuracy: 0.7094 - Regressor_accuracy: 0.7000 - val_loss: 0.2559 - val_Classifier_loss: 0.0732 - val_Regressor_loss: 0.1827 - val_Classifier_accuracy: 0.7190 - val_Regressor_accuracy: 0.3664\n",
            "Epoch 294/500\n",
            "59/59 [==============================] - 4s 67ms/step - loss: 0.0872 - Classifier_loss: 0.0022 - Regressor_loss: 0.0850 - Classifier_accuracy: 0.7186 - Regressor_accuracy: 0.7038 - val_loss: 0.2547 - val_Classifier_loss: 0.0721 - val_Regressor_loss: 0.1826 - val_Classifier_accuracy: 0.7050 - val_Regressor_accuracy: 0.3546\n",
            "Epoch 295/500\n",
            "59/59 [==============================] - 4s 66ms/step - loss: 0.0855 - Classifier_loss: 0.0022 - Regressor_loss: 0.0833 - Classifier_accuracy: 0.7162 - Regressor_accuracy: 0.7078 - val_loss: 0.2556 - val_Classifier_loss: 0.0731 - val_Regressor_loss: 0.1825 - val_Classifier_accuracy: 0.7224 - val_Regressor_accuracy: 0.3688\n",
            "Epoch 296/500\n",
            "59/59 [==============================] - 4s 65ms/step - loss: 0.0850 - Classifier_loss: 0.0021 - Regressor_loss: 0.0829 - Classifier_accuracy: 0.7187 - Regressor_accuracy: 0.7053 - val_loss: 0.2568 - val_Classifier_loss: 0.0738 - val_Regressor_loss: 0.1830 - val_Classifier_accuracy: 0.7216 - val_Regressor_accuracy: 0.3644\n",
            "Epoch 297/500\n",
            "59/59 [==============================] - 4s 67ms/step - loss: 0.0850 - Classifier_loss: 0.0022 - Regressor_loss: 0.0828 - Classifier_accuracy: 0.7181 - Regressor_accuracy: 0.7092 - val_loss: 0.2556 - val_Classifier_loss: 0.0736 - val_Regressor_loss: 0.1820 - val_Classifier_accuracy: 0.7146 - val_Regressor_accuracy: 0.3634\n",
            "Epoch 298/500\n",
            "59/59 [==============================] - 4s 67ms/step - loss: 0.0851 - Classifier_loss: 0.0022 - Regressor_loss: 0.0830 - Classifier_accuracy: 0.7228 - Regressor_accuracy: 0.7072 - val_loss: 0.2561 - val_Classifier_loss: 0.0742 - val_Regressor_loss: 0.1819 - val_Classifier_accuracy: 0.7238 - val_Regressor_accuracy: 0.3688\n",
            "Epoch 299/500\n",
            "59/59 [==============================] - 4s 74ms/step - loss: 0.0845 - Classifier_loss: 0.0022 - Regressor_loss: 0.0823 - Classifier_accuracy: 0.7251 - Regressor_accuracy: 0.7068 - val_loss: 0.2554 - val_Classifier_loss: 0.0730 - val_Regressor_loss: 0.1823 - val_Classifier_accuracy: 0.7080 - val_Regressor_accuracy: 0.3720\n",
            "Epoch 300/500\n",
            "59/59 [==============================] - 4s 64ms/step - loss: 0.0853 - Classifier_loss: 0.0021 - Regressor_loss: 0.0832 - Classifier_accuracy: 0.7244 - Regressor_accuracy: 0.7057 - val_loss: 0.2574 - val_Classifier_loss: 0.0747 - val_Regressor_loss: 0.1827 - val_Classifier_accuracy: 0.7180 - val_Regressor_accuracy: 0.3726\n",
            "Epoch 301/500\n",
            "59/59 [==============================] - 4s 65ms/step - loss: 0.0858 - Classifier_loss: 0.0022 - Regressor_loss: 0.0836 - Classifier_accuracy: 0.7228 - Regressor_accuracy: 0.7084 - val_loss: 0.2549 - val_Classifier_loss: 0.0732 - val_Regressor_loss: 0.1817 - val_Classifier_accuracy: 0.7054 - val_Regressor_accuracy: 0.3738\n",
            "Epoch 302/500\n",
            "59/59 [==============================] - 4s 66ms/step - loss: 0.0838 - Classifier_loss: 0.0019 - Regressor_loss: 0.0819 - Classifier_accuracy: 0.7226 - Regressor_accuracy: 0.7079 - val_loss: 0.2570 - val_Classifier_loss: 0.0744 - val_Regressor_loss: 0.1826 - val_Classifier_accuracy: 0.7192 - val_Regressor_accuracy: 0.3720\n",
            "Epoch 303/500\n",
            "59/59 [==============================] - 4s 65ms/step - loss: 0.0842 - Classifier_loss: 0.0019 - Regressor_loss: 0.0823 - Classifier_accuracy: 0.7263 - Regressor_accuracy: 0.7127 - val_loss: 0.2576 - val_Classifier_loss: 0.0751 - val_Regressor_loss: 0.1825 - val_Classifier_accuracy: 0.7234 - val_Regressor_accuracy: 0.3666\n",
            "Epoch 304/500\n",
            "59/59 [==============================] - 4s 65ms/step - loss: 0.0848 - Classifier_loss: 0.0020 - Regressor_loss: 0.0828 - Classifier_accuracy: 0.7261 - Regressor_accuracy: 0.7114 - val_loss: 0.2570 - val_Classifier_loss: 0.0748 - val_Regressor_loss: 0.1823 - val_Classifier_accuracy: 0.7180 - val_Regressor_accuracy: 0.3660\n",
            "Epoch 305/500\n",
            "59/59 [==============================] - 4s 65ms/step - loss: 0.0849 - Classifier_loss: 0.0021 - Regressor_loss: 0.0828 - Classifier_accuracy: 0.7237 - Regressor_accuracy: 0.7089 - val_loss: 0.2581 - val_Classifier_loss: 0.0752 - val_Regressor_loss: 0.1828 - val_Classifier_accuracy: 0.7292 - val_Regressor_accuracy: 0.3656\n",
            "Epoch 306/500\n",
            "59/59 [==============================] - 4s 65ms/step - loss: 0.0858 - Classifier_loss: 0.0021 - Regressor_loss: 0.0838 - Classifier_accuracy: 0.7251 - Regressor_accuracy: 0.7066 - val_loss: 0.2580 - val_Classifier_loss: 0.0752 - val_Regressor_loss: 0.1828 - val_Classifier_accuracy: 0.7206 - val_Regressor_accuracy: 0.3688\n",
            "Epoch 307/500\n",
            "59/59 [==============================] - 4s 65ms/step - loss: 0.0837 - Classifier_loss: 0.0020 - Regressor_loss: 0.0817 - Classifier_accuracy: 0.7223 - Regressor_accuracy: 0.7104 - val_loss: 0.2568 - val_Classifier_loss: 0.0745 - val_Regressor_loss: 0.1823 - val_Classifier_accuracy: 0.7234 - val_Regressor_accuracy: 0.3640\n",
            "Epoch 308/500\n",
            "59/59 [==============================] - 5s 77ms/step - loss: 0.0840 - Classifier_loss: 0.0019 - Regressor_loss: 0.0821 - Classifier_accuracy: 0.7257 - Regressor_accuracy: 0.7111 - val_loss: 0.2584 - val_Classifier_loss: 0.0759 - val_Regressor_loss: 0.1824 - val_Classifier_accuracy: 0.7166 - val_Regressor_accuracy: 0.3690\n",
            "Epoch 309/500\n",
            "59/59 [==============================] - 4s 65ms/step - loss: 0.0840 - Classifier_loss: 0.0021 - Regressor_loss: 0.0819 - Classifier_accuracy: 0.7255 - Regressor_accuracy: 0.7110 - val_loss: 0.2643 - val_Classifier_loss: 0.0777 - val_Regressor_loss: 0.1866 - val_Classifier_accuracy: 0.7220 - val_Regressor_accuracy: 0.3506\n",
            "Epoch 310/500\n",
            "59/59 [==============================] - 4s 64ms/step - loss: 0.0870 - Classifier_loss: 0.0021 - Regressor_loss: 0.0849 - Classifier_accuracy: 0.7229 - Regressor_accuracy: 0.7055 - val_loss: 0.2587 - val_Classifier_loss: 0.0754 - val_Regressor_loss: 0.1833 - val_Classifier_accuracy: 0.7238 - val_Regressor_accuracy: 0.3628\n",
            "Epoch 311/500\n",
            "59/59 [==============================] - 4s 66ms/step - loss: 0.0833 - Classifier_loss: 0.0019 - Regressor_loss: 0.0814 - Classifier_accuracy: 0.7248 - Regressor_accuracy: 0.7140 - val_loss: 0.2590 - val_Classifier_loss: 0.0769 - val_Regressor_loss: 0.1822 - val_Classifier_accuracy: 0.7210 - val_Regressor_accuracy: 0.3692\n",
            "Epoch 312/500\n",
            "59/59 [==============================] - 4s 65ms/step - loss: 0.0829 - Classifier_loss: 0.0017 - Regressor_loss: 0.0811 - Classifier_accuracy: 0.7273 - Regressor_accuracy: 0.7153 - val_loss: 0.2579 - val_Classifier_loss: 0.0751 - val_Regressor_loss: 0.1827 - val_Classifier_accuracy: 0.7216 - val_Regressor_accuracy: 0.3674\n",
            "Epoch 313/500\n",
            "59/59 [==============================] - 4s 65ms/step - loss: 0.0833 - Classifier_loss: 0.0018 - Regressor_loss: 0.0815 - Classifier_accuracy: 0.7285 - Regressor_accuracy: 0.7134 - val_loss: 0.2598 - val_Classifier_loss: 0.0749 - val_Regressor_loss: 0.1849 - val_Classifier_accuracy: 0.7200 - val_Regressor_accuracy: 0.3694\n",
            "Epoch 314/500\n",
            "59/59 [==============================] - 4s 65ms/step - loss: 0.0885 - Classifier_loss: 0.0019 - Regressor_loss: 0.0866 - Classifier_accuracy: 0.7259 - Regressor_accuracy: 0.7046 - val_loss: 0.2579 - val_Classifier_loss: 0.0748 - val_Regressor_loss: 0.1830 - val_Classifier_accuracy: 0.7226 - val_Regressor_accuracy: 0.3626\n",
            "Epoch 315/500\n",
            "59/59 [==============================] - 4s 68ms/step - loss: 0.0835 - Classifier_loss: 0.0018 - Regressor_loss: 0.0817 - Classifier_accuracy: 0.7230 - Regressor_accuracy: 0.7152 - val_loss: 0.2612 - val_Classifier_loss: 0.0753 - val_Regressor_loss: 0.1859 - val_Classifier_accuracy: 0.7162 - val_Regressor_accuracy: 0.3654\n",
            "Epoch 316/500\n",
            "59/59 [==============================] - 5s 78ms/step - loss: 0.0834 - Classifier_loss: 0.0017 - Regressor_loss: 0.0817 - Classifier_accuracy: 0.7226 - Regressor_accuracy: 0.7119 - val_loss: 0.2578 - val_Classifier_loss: 0.0761 - val_Regressor_loss: 0.1817 - val_Classifier_accuracy: 0.7260 - val_Regressor_accuracy: 0.3718\n",
            "Epoch 317/500\n",
            "59/59 [==============================] - 4s 67ms/step - loss: 0.0838 - Classifier_loss: 0.0017 - Regressor_loss: 0.0821 - Classifier_accuracy: 0.7263 - Regressor_accuracy: 0.7106 - val_loss: 0.2588 - val_Classifier_loss: 0.0754 - val_Regressor_loss: 0.1833 - val_Classifier_accuracy: 0.7208 - val_Regressor_accuracy: 0.3676\n",
            "Epoch 318/500\n",
            "59/59 [==============================] - 4s 66ms/step - loss: 0.0824 - Classifier_loss: 0.0016 - Regressor_loss: 0.0808 - Classifier_accuracy: 0.7277 - Regressor_accuracy: 0.7174 - val_loss: 0.2606 - val_Classifier_loss: 0.0781 - val_Regressor_loss: 0.1825 - val_Classifier_accuracy: 0.7360 - val_Regressor_accuracy: 0.3658\n",
            "Epoch 319/500\n",
            "59/59 [==============================] - 4s 66ms/step - loss: 0.0815 - Classifier_loss: 0.0019 - Regressor_loss: 0.0796 - Classifier_accuracy: 0.7307 - Regressor_accuracy: 0.7173 - val_loss: 0.2613 - val_Classifier_loss: 0.0774 - val_Regressor_loss: 0.1839 - val_Classifier_accuracy: 0.7414 - val_Regressor_accuracy: 0.3646\n",
            "Epoch 320/500\n",
            "59/59 [==============================] - 4s 67ms/step - loss: 0.0820 - Classifier_loss: 0.0017 - Regressor_loss: 0.0804 - Classifier_accuracy: 0.7329 - Regressor_accuracy: 0.7170 - val_loss: 0.2586 - val_Classifier_loss: 0.0754 - val_Regressor_loss: 0.1831 - val_Classifier_accuracy: 0.7258 - val_Regressor_accuracy: 0.3706\n",
            "Epoch 321/500\n",
            "59/59 [==============================] - 4s 65ms/step - loss: 0.0813 - Classifier_loss: 0.0016 - Regressor_loss: 0.0797 - Classifier_accuracy: 0.7312 - Regressor_accuracy: 0.7192 - val_loss: 0.2597 - val_Classifier_loss: 0.0776 - val_Regressor_loss: 0.1822 - val_Classifier_accuracy: 0.7218 - val_Regressor_accuracy: 0.3714\n",
            "Epoch 322/500\n",
            "59/59 [==============================] - 4s 66ms/step - loss: 0.0817 - Classifier_loss: 0.0017 - Regressor_loss: 0.0800 - Classifier_accuracy: 0.7338 - Regressor_accuracy: 0.7166 - val_loss: 0.2618 - val_Classifier_loss: 0.0779 - val_Regressor_loss: 0.1839 - val_Classifier_accuracy: 0.7270 - val_Regressor_accuracy: 0.3652\n",
            "Epoch 323/500\n",
            "59/59 [==============================] - 4s 65ms/step - loss: 0.0812 - Classifier_loss: 0.0015 - Regressor_loss: 0.0797 - Classifier_accuracy: 0.7332 - Regressor_accuracy: 0.7188 - val_loss: 0.2616 - val_Classifier_loss: 0.0778 - val_Regressor_loss: 0.1838 - val_Classifier_accuracy: 0.7358 - val_Regressor_accuracy: 0.3664\n",
            "Epoch 324/500\n",
            "59/59 [==============================] - 4s 67ms/step - loss: 0.0813 - Classifier_loss: 0.0017 - Regressor_loss: 0.0796 - Classifier_accuracy: 0.7347 - Regressor_accuracy: 0.7201 - val_loss: 0.2617 - val_Classifier_loss: 0.0777 - val_Regressor_loss: 0.1840 - val_Classifier_accuracy: 0.7230 - val_Regressor_accuracy: 0.3710\n",
            "Epoch 325/500\n",
            "59/59 [==============================] - 4s 76ms/step - loss: 0.0809 - Classifier_loss: 0.0015 - Regressor_loss: 0.0794 - Classifier_accuracy: 0.7379 - Regressor_accuracy: 0.7189 - val_loss: 0.2617 - val_Classifier_loss: 0.0773 - val_Regressor_loss: 0.1843 - val_Classifier_accuracy: 0.7418 - val_Regressor_accuracy: 0.3714\n",
            "Epoch 326/500\n",
            "59/59 [==============================] - 4s 66ms/step - loss: 0.0813 - Classifier_loss: 0.0018 - Regressor_loss: 0.0796 - Classifier_accuracy: 0.7356 - Regressor_accuracy: 0.7208 - val_loss: 0.2625 - val_Classifier_loss: 0.0785 - val_Regressor_loss: 0.1841 - val_Classifier_accuracy: 0.7378 - val_Regressor_accuracy: 0.3680\n",
            "Epoch 327/500\n",
            "59/59 [==============================] - 4s 65ms/step - loss: 0.0810 - Classifier_loss: 0.0016 - Regressor_loss: 0.0795 - Classifier_accuracy: 0.7372 - Regressor_accuracy: 0.7198 - val_loss: 0.2608 - val_Classifier_loss: 0.0778 - val_Regressor_loss: 0.1830 - val_Classifier_accuracy: 0.7378 - val_Regressor_accuracy: 0.3662\n",
            "Epoch 328/500\n",
            "59/59 [==============================] - 4s 68ms/step - loss: 0.0809 - Classifier_loss: 0.0016 - Regressor_loss: 0.0793 - Classifier_accuracy: 0.7365 - Regressor_accuracy: 0.7201 - val_loss: 0.2639 - val_Classifier_loss: 0.0797 - val_Regressor_loss: 0.1842 - val_Classifier_accuracy: 0.7484 - val_Regressor_accuracy: 0.3762\n",
            "Epoch 329/500\n",
            "59/59 [==============================] - 4s 67ms/step - loss: 0.0817 - Classifier_loss: 0.0016 - Regressor_loss: 0.0801 - Classifier_accuracy: 0.7385 - Regressor_accuracy: 0.7205 - val_loss: 0.2632 - val_Classifier_loss: 0.0782 - val_Regressor_loss: 0.1849 - val_Classifier_accuracy: 0.7336 - val_Regressor_accuracy: 0.3718\n",
            "Epoch 330/500\n",
            "59/59 [==============================] - 4s 67ms/step - loss: 0.0805 - Classifier_loss: 0.0014 - Regressor_loss: 0.0790 - Classifier_accuracy: 0.7392 - Regressor_accuracy: 0.7223 - val_loss: 0.2624 - val_Classifier_loss: 0.0775 - val_Regressor_loss: 0.1849 - val_Classifier_accuracy: 0.7254 - val_Regressor_accuracy: 0.3630\n",
            "Epoch 331/500\n",
            "59/59 [==============================] - 4s 66ms/step - loss: 0.0816 - Classifier_loss: 0.0016 - Regressor_loss: 0.0800 - Classifier_accuracy: 0.7374 - Regressor_accuracy: 0.7219 - val_loss: 0.2614 - val_Classifier_loss: 0.0777 - val_Regressor_loss: 0.1837 - val_Classifier_accuracy: 0.7322 - val_Regressor_accuracy: 0.3666\n",
            "Epoch 332/500\n",
            "59/59 [==============================] - 4s 66ms/step - loss: 0.0807 - Classifier_loss: 0.0014 - Regressor_loss: 0.0794 - Classifier_accuracy: 0.7396 - Regressor_accuracy: 0.7237 - val_loss: 0.2627 - val_Classifier_loss: 0.0795 - val_Regressor_loss: 0.1833 - val_Classifier_accuracy: 0.7420 - val_Regressor_accuracy: 0.3694\n",
            "Epoch 333/500\n",
            "59/59 [==============================] - 4s 76ms/step - loss: 0.0801 - Classifier_loss: 0.0015 - Regressor_loss: 0.0787 - Classifier_accuracy: 0.7366 - Regressor_accuracy: 0.7246 - val_loss: 0.2609 - val_Classifier_loss: 0.0773 - val_Regressor_loss: 0.1836 - val_Classifier_accuracy: 0.7334 - val_Regressor_accuracy: 0.3664\n",
            "Epoch 334/500\n",
            "59/59 [==============================] - 4s 68ms/step - loss: 0.0804 - Classifier_loss: 0.0014 - Regressor_loss: 0.0790 - Classifier_accuracy: 0.7376 - Regressor_accuracy: 0.7226 - val_loss: 0.2622 - val_Classifier_loss: 0.0781 - val_Regressor_loss: 0.1841 - val_Classifier_accuracy: 0.7308 - val_Regressor_accuracy: 0.3664\n",
            "Epoch 335/500\n",
            "59/59 [==============================] - 4s 67ms/step - loss: 0.0807 - Classifier_loss: 0.0014 - Regressor_loss: 0.0793 - Classifier_accuracy: 0.7376 - Regressor_accuracy: 0.7200 - val_loss: 0.2645 - val_Classifier_loss: 0.0813 - val_Regressor_loss: 0.1832 - val_Classifier_accuracy: 0.7542 - val_Regressor_accuracy: 0.3712\n",
            "Epoch 336/500\n",
            "59/59 [==============================] - 4s 67ms/step - loss: 0.0831 - Classifier_loss: 0.0019 - Regressor_loss: 0.0812 - Classifier_accuracy: 0.7399 - Regressor_accuracy: 0.7182 - val_loss: 0.2641 - val_Classifier_loss: 0.0794 - val_Regressor_loss: 0.1847 - val_Classifier_accuracy: 0.7408 - val_Regressor_accuracy: 0.3642\n",
            "Epoch 337/500\n",
            "59/59 [==============================] - 4s 66ms/step - loss: 0.0805 - Classifier_loss: 0.0019 - Regressor_loss: 0.0786 - Classifier_accuracy: 0.7404 - Regressor_accuracy: 0.7261 - val_loss: 0.2623 - val_Classifier_loss: 0.0793 - val_Regressor_loss: 0.1830 - val_Classifier_accuracy: 0.7420 - val_Regressor_accuracy: 0.3644\n",
            "Epoch 338/500\n",
            "59/59 [==============================] - 4s 67ms/step - loss: 0.0801 - Classifier_loss: 0.0014 - Regressor_loss: 0.0786 - Classifier_accuracy: 0.7386 - Regressor_accuracy: 0.7268 - val_loss: 0.2622 - val_Classifier_loss: 0.0795 - val_Regressor_loss: 0.1827 - val_Classifier_accuracy: 0.7434 - val_Regressor_accuracy: 0.3680\n",
            "Epoch 339/500\n",
            "59/59 [==============================] - 4s 67ms/step - loss: 0.0796 - Classifier_loss: 0.0015 - Regressor_loss: 0.0781 - Classifier_accuracy: 0.7414 - Regressor_accuracy: 0.7250 - val_loss: 0.2667 - val_Classifier_loss: 0.0826 - val_Regressor_loss: 0.1841 - val_Classifier_accuracy: 0.7472 - val_Regressor_accuracy: 0.3710\n",
            "Epoch 340/500\n",
            "59/59 [==============================] - 4s 67ms/step - loss: 0.0811 - Classifier_loss: 0.0016 - Regressor_loss: 0.0795 - Classifier_accuracy: 0.7422 - Regressor_accuracy: 0.7233 - val_loss: 0.2664 - val_Classifier_loss: 0.0814 - val_Regressor_loss: 0.1850 - val_Classifier_accuracy: 0.7516 - val_Regressor_accuracy: 0.3652\n",
            "Epoch 341/500\n",
            "59/59 [==============================] - 4s 69ms/step - loss: 0.0791 - Classifier_loss: 0.0015 - Regressor_loss: 0.0776 - Classifier_accuracy: 0.7383 - Regressor_accuracy: 0.7290 - val_loss: 0.2635 - val_Classifier_loss: 0.0796 - val_Regressor_loss: 0.1839 - val_Classifier_accuracy: 0.7402 - val_Regressor_accuracy: 0.3684\n",
            "Epoch 342/500\n",
            "59/59 [==============================] - 5s 78ms/step - loss: 0.0786 - Classifier_loss: 0.0013 - Regressor_loss: 0.0773 - Classifier_accuracy: 0.7444 - Regressor_accuracy: 0.7267 - val_loss: 0.2660 - val_Classifier_loss: 0.0816 - val_Regressor_loss: 0.1844 - val_Classifier_accuracy: 0.7474 - val_Regressor_accuracy: 0.3746\n",
            "Epoch 343/500\n",
            "59/59 [==============================] - 4s 69ms/step - loss: 0.0790 - Classifier_loss: 0.0013 - Regressor_loss: 0.0777 - Classifier_accuracy: 0.7400 - Regressor_accuracy: 0.7279 - val_loss: 0.2650 - val_Classifier_loss: 0.0807 - val_Regressor_loss: 0.1842 - val_Classifier_accuracy: 0.7444 - val_Regressor_accuracy: 0.3756\n",
            "Epoch 344/500\n",
            "59/59 [==============================] - 4s 67ms/step - loss: 0.0787 - Classifier_loss: 0.0014 - Regressor_loss: 0.0774 - Classifier_accuracy: 0.7438 - Regressor_accuracy: 0.7272 - val_loss: 0.2668 - val_Classifier_loss: 0.0827 - val_Regressor_loss: 0.1841 - val_Classifier_accuracy: 0.7502 - val_Regressor_accuracy: 0.3688\n",
            "Epoch 345/500\n",
            "59/59 [==============================] - 4s 68ms/step - loss: 0.0785 - Classifier_loss: 0.0014 - Regressor_loss: 0.0771 - Classifier_accuracy: 0.7440 - Regressor_accuracy: 0.7277 - val_loss: 0.2668 - val_Classifier_loss: 0.0826 - val_Regressor_loss: 0.1842 - val_Classifier_accuracy: 0.7468 - val_Regressor_accuracy: 0.3682\n",
            "Epoch 346/500\n",
            "59/59 [==============================] - 4s 67ms/step - loss: 0.0789 - Classifier_loss: 0.0013 - Regressor_loss: 0.0776 - Classifier_accuracy: 0.7450 - Regressor_accuracy: 0.7298 - val_loss: 0.2642 - val_Classifier_loss: 0.0803 - val_Regressor_loss: 0.1839 - val_Classifier_accuracy: 0.7456 - val_Regressor_accuracy: 0.3654\n",
            "Epoch 347/500\n",
            "59/59 [==============================] - 4s 67ms/step - loss: 0.0806 - Classifier_loss: 0.0014 - Regressor_loss: 0.0792 - Classifier_accuracy: 0.7369 - Regressor_accuracy: 0.7263 - val_loss: 0.2673 - val_Classifier_loss: 0.0828 - val_Regressor_loss: 0.1844 - val_Classifier_accuracy: 0.7526 - val_Regressor_accuracy: 0.3682\n",
            "Epoch 348/500\n",
            "59/59 [==============================] - 4s 65ms/step - loss: 0.0783 - Classifier_loss: 0.0016 - Regressor_loss: 0.0768 - Classifier_accuracy: 0.7420 - Regressor_accuracy: 0.7330 - val_loss: 0.2668 - val_Classifier_loss: 0.0835 - val_Regressor_loss: 0.1833 - val_Classifier_accuracy: 0.7518 - val_Regressor_accuracy: 0.3692\n",
            "Epoch 349/500\n",
            "59/59 [==============================] - 4s 66ms/step - loss: 0.0785 - Classifier_loss: 0.0014 - Regressor_loss: 0.0770 - Classifier_accuracy: 0.7452 - Regressor_accuracy: 0.7290 - val_loss: 0.2648 - val_Classifier_loss: 0.0813 - val_Regressor_loss: 0.1835 - val_Classifier_accuracy: 0.7498 - val_Regressor_accuracy: 0.3768\n",
            "Epoch 350/500\n",
            "59/59 [==============================] - 4s 75ms/step - loss: 0.0807 - Classifier_loss: 0.0013 - Regressor_loss: 0.0794 - Classifier_accuracy: 0.7434 - Regressor_accuracy: 0.7232 - val_loss: 0.2661 - val_Classifier_loss: 0.0829 - val_Regressor_loss: 0.1832 - val_Classifier_accuracy: 0.7506 - val_Regressor_accuracy: 0.3734\n",
            "Epoch 351/500\n",
            "59/59 [==============================] - 4s 66ms/step - loss: 0.0780 - Classifier_loss: 0.0014 - Regressor_loss: 0.0766 - Classifier_accuracy: 0.7450 - Regressor_accuracy: 0.7317 - val_loss: 0.2659 - val_Classifier_loss: 0.0825 - val_Regressor_loss: 0.1834 - val_Classifier_accuracy: 0.7534 - val_Regressor_accuracy: 0.3682\n",
            "Epoch 352/500\n",
            "59/59 [==============================] - 4s 66ms/step - loss: 0.0781 - Classifier_loss: 0.0013 - Regressor_loss: 0.0768 - Classifier_accuracy: 0.7462 - Regressor_accuracy: 0.7313 - val_loss: 0.2671 - val_Classifier_loss: 0.0838 - val_Regressor_loss: 0.1833 - val_Classifier_accuracy: 0.7532 - val_Regressor_accuracy: 0.3732\n",
            "Epoch 353/500\n",
            "59/59 [==============================] - 4s 67ms/step - loss: 0.0770 - Classifier_loss: 0.0012 - Regressor_loss: 0.0758 - Classifier_accuracy: 0.7476 - Regressor_accuracy: 0.7314 - val_loss: 0.2698 - val_Classifier_loss: 0.0855 - val_Regressor_loss: 0.1842 - val_Classifier_accuracy: 0.7536 - val_Regressor_accuracy: 0.3690\n",
            "Epoch 354/500\n",
            "59/59 [==============================] - 4s 66ms/step - loss: 0.0777 - Classifier_loss: 0.0013 - Regressor_loss: 0.0765 - Classifier_accuracy: 0.7500 - Regressor_accuracy: 0.7323 - val_loss: 0.2678 - val_Classifier_loss: 0.0849 - val_Regressor_loss: 0.1829 - val_Classifier_accuracy: 0.7558 - val_Regressor_accuracy: 0.3682\n",
            "Epoch 355/500\n",
            "59/59 [==============================] - 4s 68ms/step - loss: 0.0772 - Classifier_loss: 0.0012 - Regressor_loss: 0.0760 - Classifier_accuracy: 0.7502 - Regressor_accuracy: 0.7316 - val_loss: 0.2720 - val_Classifier_loss: 0.0874 - val_Regressor_loss: 0.1846 - val_Classifier_accuracy: 0.7522 - val_Regressor_accuracy: 0.3654\n",
            "Epoch 356/500\n",
            "59/59 [==============================] - 4s 68ms/step - loss: 0.0784 - Classifier_loss: 0.0015 - Regressor_loss: 0.0769 - Classifier_accuracy: 0.7524 - Regressor_accuracy: 0.7298 - val_loss: 0.2713 - val_Classifier_loss: 0.0874 - val_Regressor_loss: 0.1838 - val_Classifier_accuracy: 0.7564 - val_Regressor_accuracy: 0.3696\n",
            "Epoch 357/500\n",
            "59/59 [==============================] - 4s 67ms/step - loss: 0.0791 - Classifier_loss: 0.0014 - Regressor_loss: 0.0777 - Classifier_accuracy: 0.7523 - Regressor_accuracy: 0.7254 - val_loss: 0.2707 - val_Classifier_loss: 0.0874 - val_Regressor_loss: 0.1833 - val_Classifier_accuracy: 0.7528 - val_Regressor_accuracy: 0.3748\n",
            "Epoch 358/500\n",
            "59/59 [==============================] - 4s 69ms/step - loss: 0.0771 - Classifier_loss: 0.0014 - Regressor_loss: 0.0757 - Classifier_accuracy: 0.7502 - Regressor_accuracy: 0.7334 - val_loss: 0.2679 - val_Classifier_loss: 0.0839 - val_Regressor_loss: 0.1840 - val_Classifier_accuracy: 0.7376 - val_Regressor_accuracy: 0.3658\n",
            "Epoch 359/500\n",
            "59/59 [==============================] - 4s 76ms/step - loss: 0.0767 - Classifier_loss: 0.0013 - Regressor_loss: 0.0754 - Classifier_accuracy: 0.7494 - Regressor_accuracy: 0.7331 - val_loss: 0.2708 - val_Classifier_loss: 0.0854 - val_Regressor_loss: 0.1854 - val_Classifier_accuracy: 0.7486 - val_Regressor_accuracy: 0.3654\n",
            "Epoch 360/500\n",
            "59/59 [==============================] - 4s 67ms/step - loss: 0.0769 - Classifier_loss: 0.0012 - Regressor_loss: 0.0756 - Classifier_accuracy: 0.7534 - Regressor_accuracy: 0.7319 - val_loss: 0.2704 - val_Classifier_loss: 0.0871 - val_Regressor_loss: 0.1833 - val_Classifier_accuracy: 0.7470 - val_Regressor_accuracy: 0.3724\n",
            "Epoch 361/500\n",
            "59/59 [==============================] - 4s 68ms/step - loss: 0.0763 - Classifier_loss: 0.0013 - Regressor_loss: 0.0751 - Classifier_accuracy: 0.7507 - Regressor_accuracy: 0.7348 - val_loss: 0.2714 - val_Classifier_loss: 0.0872 - val_Regressor_loss: 0.1842 - val_Classifier_accuracy: 0.7554 - val_Regressor_accuracy: 0.3722\n",
            "Epoch 362/500\n",
            "59/59 [==============================] - 4s 66ms/step - loss: 0.0761 - Classifier_loss: 0.0011 - Regressor_loss: 0.0750 - Classifier_accuracy: 0.7535 - Regressor_accuracy: 0.7363 - val_loss: 0.2733 - val_Classifier_loss: 0.0876 - val_Regressor_loss: 0.1858 - val_Classifier_accuracy: 0.7506 - val_Regressor_accuracy: 0.3648\n",
            "Epoch 363/500\n",
            "59/59 [==============================] - 4s 67ms/step - loss: 0.0782 - Classifier_loss: 0.0013 - Regressor_loss: 0.0769 - Classifier_accuracy: 0.7555 - Regressor_accuracy: 0.7310 - val_loss: 0.2691 - val_Classifier_loss: 0.0855 - val_Regressor_loss: 0.1836 - val_Classifier_accuracy: 0.7538 - val_Regressor_accuracy: 0.3724\n",
            "Epoch 364/500\n",
            "59/59 [==============================] - 4s 64ms/step - loss: 0.0766 - Classifier_loss: 0.0012 - Regressor_loss: 0.0754 - Classifier_accuracy: 0.7527 - Regressor_accuracy: 0.7359 - val_loss: 0.2733 - val_Classifier_loss: 0.0878 - val_Regressor_loss: 0.1855 - val_Classifier_accuracy: 0.7620 - val_Regressor_accuracy: 0.3636\n",
            "Epoch 365/500\n",
            "59/59 [==============================] - 4s 67ms/step - loss: 0.0769 - Classifier_loss: 0.0012 - Regressor_loss: 0.0756 - Classifier_accuracy: 0.7538 - Regressor_accuracy: 0.7335 - val_loss: 0.2698 - val_Classifier_loss: 0.0863 - val_Regressor_loss: 0.1834 - val_Classifier_accuracy: 0.7574 - val_Regressor_accuracy: 0.3768\n",
            "Epoch 366/500\n",
            "59/59 [==============================] - 4s 67ms/step - loss: 0.0760 - Classifier_loss: 0.0011 - Regressor_loss: 0.0749 - Classifier_accuracy: 0.7543 - Regressor_accuracy: 0.7371 - val_loss: 0.2706 - val_Classifier_loss: 0.0876 - val_Regressor_loss: 0.1830 - val_Classifier_accuracy: 0.7556 - val_Regressor_accuracy: 0.3738\n",
            "Epoch 367/500\n",
            "59/59 [==============================] - 4s 75ms/step - loss: 0.0756 - Classifier_loss: 0.0011 - Regressor_loss: 0.0746 - Classifier_accuracy: 0.7575 - Regressor_accuracy: 0.7395 - val_loss: 0.2738 - val_Classifier_loss: 0.0896 - val_Regressor_loss: 0.1842 - val_Classifier_accuracy: 0.7638 - val_Regressor_accuracy: 0.3760\n",
            "Epoch 368/500\n",
            "59/59 [==============================] - 4s 67ms/step - loss: 0.0762 - Classifier_loss: 0.0014 - Regressor_loss: 0.0748 - Classifier_accuracy: 0.7574 - Regressor_accuracy: 0.7368 - val_loss: 0.2718 - val_Classifier_loss: 0.0874 - val_Regressor_loss: 0.1844 - val_Classifier_accuracy: 0.7534 - val_Regressor_accuracy: 0.3678\n",
            "Epoch 369/500\n",
            "59/59 [==============================] - 4s 67ms/step - loss: 0.0770 - Classifier_loss: 0.0012 - Regressor_loss: 0.0759 - Classifier_accuracy: 0.7588 - Regressor_accuracy: 0.7364 - val_loss: 0.2740 - val_Classifier_loss: 0.0887 - val_Regressor_loss: 0.1853 - val_Classifier_accuracy: 0.7612 - val_Regressor_accuracy: 0.3674\n",
            "Epoch 370/500\n",
            "59/59 [==============================] - 4s 65ms/step - loss: 0.0761 - Classifier_loss: 0.0011 - Regressor_loss: 0.0750 - Classifier_accuracy: 0.7564 - Regressor_accuracy: 0.7359 - val_loss: 0.2768 - val_Classifier_loss: 0.0909 - val_Regressor_loss: 0.1860 - val_Classifier_accuracy: 0.7490 - val_Regressor_accuracy: 0.3652\n",
            "Epoch 371/500\n",
            "59/59 [==============================] - 4s 65ms/step - loss: 0.0764 - Classifier_loss: 0.0014 - Regressor_loss: 0.0751 - Classifier_accuracy: 0.7579 - Regressor_accuracy: 0.7379 - val_loss: 0.2715 - val_Classifier_loss: 0.0877 - val_Regressor_loss: 0.1838 - val_Classifier_accuracy: 0.7494 - val_Regressor_accuracy: 0.3744\n",
            "Epoch 372/500\n",
            "59/59 [==============================] - 4s 66ms/step - loss: 0.0758 - Classifier_loss: 0.0012 - Regressor_loss: 0.0746 - Classifier_accuracy: 0.7570 - Regressor_accuracy: 0.7366 - val_loss: 0.2826 - val_Classifier_loss: 0.0969 - val_Regressor_loss: 0.1857 - val_Classifier_accuracy: 0.7666 - val_Regressor_accuracy: 0.3700\n",
            "Epoch 373/500\n",
            "59/59 [==============================] - 4s 66ms/step - loss: 0.1080 - Classifier_loss: 0.0304 - Regressor_loss: 0.0776 - Classifier_accuracy: 0.7465 - Regressor_accuracy: 0.7302 - val_loss: 0.2634 - val_Classifier_loss: 0.0794 - val_Regressor_loss: 0.1840 - val_Classifier_accuracy: 0.7210 - val_Regressor_accuracy: 0.3674\n",
            "Epoch 374/500\n",
            "59/59 [==============================] - 4s 67ms/step - loss: 0.0813 - Classifier_loss: 0.0045 - Regressor_loss: 0.0768 - Classifier_accuracy: 0.7211 - Regressor_accuracy: 0.7303 - val_loss: 0.2614 - val_Classifier_loss: 0.0780 - val_Regressor_loss: 0.1834 - val_Classifier_accuracy: 0.7428 - val_Regressor_accuracy: 0.3680\n",
            "Epoch 375/500\n",
            "59/59 [==============================] - 4s 68ms/step - loss: 0.0771 - Classifier_loss: 0.0017 - Regressor_loss: 0.0753 - Classifier_accuracy: 0.7398 - Regressor_accuracy: 0.7376 - val_loss: 0.2637 - val_Classifier_loss: 0.0785 - val_Regressor_loss: 0.1852 - val_Classifier_accuracy: 0.7432 - val_Regressor_accuracy: 0.3636\n",
            "Epoch 376/500\n",
            "59/59 [==============================] - 5s 77ms/step - loss: 0.0771 - Classifier_loss: 0.0015 - Regressor_loss: 0.0757 - Classifier_accuracy: 0.7458 - Regressor_accuracy: 0.7355 - val_loss: 0.2622 - val_Classifier_loss: 0.0780 - val_Regressor_loss: 0.1842 - val_Classifier_accuracy: 0.7470 - val_Regressor_accuracy: 0.3696\n",
            "Epoch 377/500\n",
            "59/59 [==============================] - 4s 66ms/step - loss: 0.0752 - Classifier_loss: 0.0012 - Regressor_loss: 0.0740 - Classifier_accuracy: 0.7503 - Regressor_accuracy: 0.7382 - val_loss: 0.2625 - val_Classifier_loss: 0.0781 - val_Regressor_loss: 0.1844 - val_Classifier_accuracy: 0.7456 - val_Regressor_accuracy: 0.3714\n",
            "Epoch 378/500\n",
            "59/59 [==============================] - 4s 67ms/step - loss: 0.0756 - Classifier_loss: 0.0011 - Regressor_loss: 0.0745 - Classifier_accuracy: 0.7517 - Regressor_accuracy: 0.7378 - val_loss: 0.2624 - val_Classifier_loss: 0.0786 - val_Regressor_loss: 0.1838 - val_Classifier_accuracy: 0.7478 - val_Regressor_accuracy: 0.3700\n",
            "Epoch 379/500\n",
            "59/59 [==============================] - 4s 70ms/step - loss: 0.0750 - Classifier_loss: 9.8548e-04 - Regressor_loss: 0.0740 - Classifier_accuracy: 0.7522 - Regressor_accuracy: 0.7402 - val_loss: 0.2621 - val_Classifier_loss: 0.0781 - val_Regressor_loss: 0.1840 - val_Classifier_accuracy: 0.7424 - val_Regressor_accuracy: 0.3664\n",
            "Epoch 380/500\n",
            "59/59 [==============================] - 4s 70ms/step - loss: 0.0765 - Classifier_loss: 9.8872e-04 - Regressor_loss: 0.0755 - Classifier_accuracy: 0.7515 - Regressor_accuracy: 0.7368 - val_loss: 0.2631 - val_Classifier_loss: 0.0789 - val_Regressor_loss: 0.1842 - val_Classifier_accuracy: 0.7472 - val_Regressor_accuracy: 0.3736\n",
            "Epoch 381/500\n",
            "59/59 [==============================] - 4s 71ms/step - loss: 0.0750 - Classifier_loss: 9.9571e-04 - Regressor_loss: 0.0740 - Classifier_accuracy: 0.7526 - Regressor_accuracy: 0.7405 - val_loss: 0.2622 - val_Classifier_loss: 0.0787 - val_Regressor_loss: 0.1835 - val_Classifier_accuracy: 0.7388 - val_Regressor_accuracy: 0.3756\n",
            "Epoch 382/500\n",
            "59/59 [==============================] - 4s 72ms/step - loss: 0.0742 - Classifier_loss: 9.5469e-04 - Regressor_loss: 0.0733 - Classifier_accuracy: 0.7525 - Regressor_accuracy: 0.7404 - val_loss: 0.2635 - val_Classifier_loss: 0.0791 - val_Regressor_loss: 0.1844 - val_Classifier_accuracy: 0.7488 - val_Regressor_accuracy: 0.3732\n",
            "Epoch 383/500\n",
            "59/59 [==============================] - 4s 69ms/step - loss: 0.0746 - Classifier_loss: 9.1701e-04 - Regressor_loss: 0.0737 - Classifier_accuracy: 0.7561 - Regressor_accuracy: 0.7385 - val_loss: 0.2632 - val_Classifier_loss: 0.0795 - val_Regressor_loss: 0.1837 - val_Classifier_accuracy: 0.7448 - val_Regressor_accuracy: 0.3700\n",
            "Epoch 384/500\n",
            "59/59 [==============================] - 5s 79ms/step - loss: 0.0737 - Classifier_loss: 8.9076e-04 - Regressor_loss: 0.0728 - Classifier_accuracy: 0.7573 - Regressor_accuracy: 0.7460 - val_loss: 0.2641 - val_Classifier_loss: 0.0799 - val_Regressor_loss: 0.1842 - val_Classifier_accuracy: 0.7506 - val_Regressor_accuracy: 0.3692\n",
            "Epoch 385/500\n",
            "59/59 [==============================] - 4s 69ms/step - loss: 0.0739 - Classifier_loss: 9.1000e-04 - Regressor_loss: 0.0730 - Classifier_accuracy: 0.7575 - Regressor_accuracy: 0.7436 - val_loss: 0.2637 - val_Classifier_loss: 0.0800 - val_Regressor_loss: 0.1837 - val_Classifier_accuracy: 0.7502 - val_Regressor_accuracy: 0.3766\n",
            "Epoch 386/500\n",
            "59/59 [==============================] - 4s 69ms/step - loss: 0.0738 - Classifier_loss: 8.2646e-04 - Regressor_loss: 0.0730 - Classifier_accuracy: 0.7594 - Regressor_accuracy: 0.7431 - val_loss: 0.2636 - val_Classifier_loss: 0.0803 - val_Regressor_loss: 0.1833 - val_Classifier_accuracy: 0.7512 - val_Regressor_accuracy: 0.3742\n",
            "Epoch 387/500\n",
            "59/59 [==============================] - 4s 70ms/step - loss: 0.0734 - Classifier_loss: 8.5453e-04 - Regressor_loss: 0.0726 - Classifier_accuracy: 0.7590 - Regressor_accuracy: 0.7436 - val_loss: 0.2636 - val_Classifier_loss: 0.0806 - val_Regressor_loss: 0.1831 - val_Classifier_accuracy: 0.7464 - val_Regressor_accuracy: 0.3708\n",
            "Epoch 388/500\n",
            "59/59 [==============================] - 4s 71ms/step - loss: 0.0735 - Classifier_loss: 8.5572e-04 - Regressor_loss: 0.0727 - Classifier_accuracy: 0.7609 - Regressor_accuracy: 0.7420 - val_loss: 0.2653 - val_Classifier_loss: 0.0809 - val_Regressor_loss: 0.1843 - val_Classifier_accuracy: 0.7498 - val_Regressor_accuracy: 0.3704\n",
            "Epoch 389/500\n",
            "59/59 [==============================] - 4s 69ms/step - loss: 0.0734 - Classifier_loss: 8.9498e-04 - Regressor_loss: 0.0725 - Classifier_accuracy: 0.7584 - Regressor_accuracy: 0.7436 - val_loss: 0.2666 - val_Classifier_loss: 0.0819 - val_Regressor_loss: 0.1847 - val_Classifier_accuracy: 0.7528 - val_Regressor_accuracy: 0.3780\n",
            "Epoch 390/500\n",
            "59/59 [==============================] - 4s 69ms/step - loss: 0.0736 - Classifier_loss: 8.4555e-04 - Regressor_loss: 0.0728 - Classifier_accuracy: 0.7620 - Regressor_accuracy: 0.7427 - val_loss: 0.2639 - val_Classifier_loss: 0.0808 - val_Regressor_loss: 0.1831 - val_Classifier_accuracy: 0.7502 - val_Regressor_accuracy: 0.3724\n",
            "Epoch 391/500\n",
            "59/59 [==============================] - 4s 68ms/step - loss: 0.0731 - Classifier_loss: 8.1193e-04 - Regressor_loss: 0.0723 - Classifier_accuracy: 0.7608 - Regressor_accuracy: 0.7436 - val_loss: 0.2655 - val_Classifier_loss: 0.0815 - val_Regressor_loss: 0.1840 - val_Classifier_accuracy: 0.7486 - val_Regressor_accuracy: 0.3706\n",
            "Epoch 392/500\n",
            "59/59 [==============================] - 4s 71ms/step - loss: 0.0742 - Classifier_loss: 7.9072e-04 - Regressor_loss: 0.0734 - Classifier_accuracy: 0.7640 - Regressor_accuracy: 0.7414 - val_loss: 0.2647 - val_Classifier_loss: 0.0814 - val_Regressor_loss: 0.1833 - val_Classifier_accuracy: 0.7488 - val_Regressor_accuracy: 0.3664\n",
            "Epoch 393/500\n",
            "59/59 [==============================] - 4s 76ms/step - loss: 0.0753 - Classifier_loss: 8.1798e-04 - Regressor_loss: 0.0745 - Classifier_accuracy: 0.7595 - Regressor_accuracy: 0.7423 - val_loss: 0.2662 - val_Classifier_loss: 0.0810 - val_Regressor_loss: 0.1851 - val_Classifier_accuracy: 0.7440 - val_Regressor_accuracy: 0.3688\n",
            "Epoch 394/500\n",
            "59/59 [==============================] - 4s 68ms/step - loss: 0.0732 - Classifier_loss: 7.8303e-04 - Regressor_loss: 0.0724 - Classifier_accuracy: 0.7594 - Regressor_accuracy: 0.7431 - val_loss: 0.2654 - val_Classifier_loss: 0.0816 - val_Regressor_loss: 0.1838 - val_Classifier_accuracy: 0.7472 - val_Regressor_accuracy: 0.3722\n",
            "Epoch 395/500\n",
            "59/59 [==============================] - 4s 69ms/step - loss: 0.0735 - Classifier_loss: 7.9740e-04 - Regressor_loss: 0.0727 - Classifier_accuracy: 0.7607 - Regressor_accuracy: 0.7434 - val_loss: 0.2654 - val_Classifier_loss: 0.0814 - val_Regressor_loss: 0.1840 - val_Classifier_accuracy: 0.7510 - val_Regressor_accuracy: 0.3684\n",
            "Epoch 396/500\n",
            "59/59 [==============================] - 4s 67ms/step - loss: 0.0729 - Classifier_loss: 7.7484e-04 - Regressor_loss: 0.0721 - Classifier_accuracy: 0.7599 - Regressor_accuracy: 0.7454 - val_loss: 0.2681 - val_Classifier_loss: 0.0834 - val_Regressor_loss: 0.1847 - val_Classifier_accuracy: 0.7580 - val_Regressor_accuracy: 0.3684\n",
            "Epoch 397/500\n",
            "59/59 [==============================] - 4s 67ms/step - loss: 0.0736 - Classifier_loss: 9.0693e-04 - Regressor_loss: 0.0727 - Classifier_accuracy: 0.7589 - Regressor_accuracy: 0.7448 - val_loss: 0.2672 - val_Classifier_loss: 0.0834 - val_Regressor_loss: 0.1839 - val_Classifier_accuracy: 0.7508 - val_Regressor_accuracy: 0.3706\n",
            "Epoch 398/500\n",
            "59/59 [==============================] - 4s 65ms/step - loss: 0.0732 - Classifier_loss: 8.3711e-04 - Regressor_loss: 0.0724 - Classifier_accuracy: 0.7636 - Regressor_accuracy: 0.7440 - val_loss: 0.2668 - val_Classifier_loss: 0.0827 - val_Regressor_loss: 0.1842 - val_Classifier_accuracy: 0.7532 - val_Regressor_accuracy: 0.3732\n",
            "Epoch 399/500\n",
            "59/59 [==============================] - 4s 65ms/step - loss: 0.0734 - Classifier_loss: 8.3081e-04 - Regressor_loss: 0.0726 - Classifier_accuracy: 0.7644 - Regressor_accuracy: 0.7439 - val_loss: 0.2674 - val_Classifier_loss: 0.0824 - val_Regressor_loss: 0.1850 - val_Classifier_accuracy: 0.7518 - val_Regressor_accuracy: 0.3748\n",
            "Epoch 400/500\n",
            "59/59 [==============================] - 4s 67ms/step - loss: 0.0740 - Classifier_loss: 8.3665e-04 - Regressor_loss: 0.0731 - Classifier_accuracy: 0.7618 - Regressor_accuracy: 0.7451 - val_loss: 0.2669 - val_Classifier_loss: 0.0810 - val_Regressor_loss: 0.1859 - val_Classifier_accuracy: 0.7470 - val_Regressor_accuracy: 0.3664\n",
            "Epoch 401/500\n",
            "59/59 [==============================] - 4s 74ms/step - loss: 0.0743 - Classifier_loss: 7.9684e-04 - Regressor_loss: 0.0735 - Classifier_accuracy: 0.7586 - Regressor_accuracy: 0.7430 - val_loss: 0.2656 - val_Classifier_loss: 0.0813 - val_Regressor_loss: 0.1843 - val_Classifier_accuracy: 0.7494 - val_Regressor_accuracy: 0.3744\n",
            "Epoch 402/500\n",
            "59/59 [==============================] - 4s 66ms/step - loss: 0.0740 - Classifier_loss: 7.9092e-04 - Regressor_loss: 0.0732 - Classifier_accuracy: 0.7573 - Regressor_accuracy: 0.7419 - val_loss: 0.2669 - val_Classifier_loss: 0.0824 - val_Regressor_loss: 0.1845 - val_Classifier_accuracy: 0.7514 - val_Regressor_accuracy: 0.3648\n",
            "Epoch 403/500\n",
            "59/59 [==============================] - 4s 66ms/step - loss: 0.0730 - Classifier_loss: 8.0712e-04 - Regressor_loss: 0.0722 - Classifier_accuracy: 0.7581 - Regressor_accuracy: 0.7469 - val_loss: 0.2674 - val_Classifier_loss: 0.0825 - val_Regressor_loss: 0.1849 - val_Classifier_accuracy: 0.7468 - val_Regressor_accuracy: 0.3674\n",
            "Epoch 404/500\n",
            "59/59 [==============================] - 4s 66ms/step - loss: 0.0723 - Classifier_loss: 7.9939e-04 - Regressor_loss: 0.0715 - Classifier_accuracy: 0.7583 - Regressor_accuracy: 0.7464 - val_loss: 0.2671 - val_Classifier_loss: 0.0813 - val_Regressor_loss: 0.1857 - val_Classifier_accuracy: 0.7516 - val_Regressor_accuracy: 0.3722\n",
            "Epoch 405/500\n",
            "59/59 [==============================] - 4s 67ms/step - loss: 0.0749 - Classifier_loss: 8.4874e-04 - Regressor_loss: 0.0741 - Classifier_accuracy: 0.7584 - Regressor_accuracy: 0.7438 - val_loss: 0.2681 - val_Classifier_loss: 0.0831 - val_Regressor_loss: 0.1850 - val_Classifier_accuracy: 0.7490 - val_Regressor_accuracy: 0.3644\n",
            "Epoch 406/500\n",
            "59/59 [==============================] - 4s 67ms/step - loss: 0.0730 - Classifier_loss: 8.3197e-04 - Regressor_loss: 0.0722 - Classifier_accuracy: 0.7586 - Regressor_accuracy: 0.7433 - val_loss: 0.2667 - val_Classifier_loss: 0.0825 - val_Regressor_loss: 0.1842 - val_Classifier_accuracy: 0.7550 - val_Regressor_accuracy: 0.3718\n",
            "Epoch 407/500\n",
            "59/59 [==============================] - 4s 70ms/step - loss: 0.0728 - Classifier_loss: 7.9099e-04 - Regressor_loss: 0.0720 - Classifier_accuracy: 0.7628 - Regressor_accuracy: 0.7451 - val_loss: 0.2664 - val_Classifier_loss: 0.0821 - val_Regressor_loss: 0.1842 - val_Classifier_accuracy: 0.7496 - val_Regressor_accuracy: 0.3716\n",
            "Epoch 408/500\n",
            "59/59 [==============================] - 4s 67ms/step - loss: 0.0728 - Classifier_loss: 8.1892e-04 - Regressor_loss: 0.0720 - Classifier_accuracy: 0.7577 - Regressor_accuracy: 0.7445 - val_loss: 0.2649 - val_Classifier_loss: 0.0812 - val_Regressor_loss: 0.1837 - val_Classifier_accuracy: 0.7516 - val_Regressor_accuracy: 0.3700\n",
            "Epoch 409/500\n",
            "59/59 [==============================] - 4s 67ms/step - loss: 0.0719 - Classifier_loss: 7.7825e-04 - Regressor_loss: 0.0711 - Classifier_accuracy: 0.7615 - Regressor_accuracy: 0.7494 - val_loss: 0.2667 - val_Classifier_loss: 0.0829 - val_Regressor_loss: 0.1838 - val_Classifier_accuracy: 0.7550 - val_Regressor_accuracy: 0.3694\n",
            "Epoch 410/500\n",
            "59/59 [==============================] - 5s 78ms/step - loss: 0.0726 - Classifier_loss: 7.6619e-04 - Regressor_loss: 0.0718 - Classifier_accuracy: 0.7593 - Regressor_accuracy: 0.7483 - val_loss: 0.2676 - val_Classifier_loss: 0.0820 - val_Regressor_loss: 0.1857 - val_Classifier_accuracy: 0.7608 - val_Regressor_accuracy: 0.3716\n",
            "Epoch 411/500\n",
            "59/59 [==============================] - 4s 66ms/step - loss: 0.0734 - Classifier_loss: 8.0843e-04 - Regressor_loss: 0.0726 - Classifier_accuracy: 0.7595 - Regressor_accuracy: 0.7443 - val_loss: 0.2671 - val_Classifier_loss: 0.0821 - val_Regressor_loss: 0.1850 - val_Classifier_accuracy: 0.7450 - val_Regressor_accuracy: 0.3658\n",
            "Epoch 412/500\n",
            "59/59 [==============================] - 4s 68ms/step - loss: 0.0729 - Classifier_loss: 7.4027e-04 - Regressor_loss: 0.0722 - Classifier_accuracy: 0.7615 - Regressor_accuracy: 0.7455 - val_loss: 0.2655 - val_Classifier_loss: 0.0823 - val_Regressor_loss: 0.1832 - val_Classifier_accuracy: 0.7448 - val_Regressor_accuracy: 0.3744\n",
            "Epoch 413/500\n",
            "59/59 [==============================] - 4s 69ms/step - loss: 0.0715 - Classifier_loss: 7.3065e-04 - Regressor_loss: 0.0708 - Classifier_accuracy: 0.7638 - Regressor_accuracy: 0.7492 - val_loss: 0.2694 - val_Classifier_loss: 0.0842 - val_Regressor_loss: 0.1852 - val_Classifier_accuracy: 0.7592 - val_Regressor_accuracy: 0.3706\n",
            "Epoch 414/500\n",
            "59/59 [==============================] - 4s 70ms/step - loss: 0.0736 - Classifier_loss: 7.8542e-04 - Regressor_loss: 0.0728 - Classifier_accuracy: 0.7593 - Regressor_accuracy: 0.7463 - val_loss: 0.2675 - val_Classifier_loss: 0.0819 - val_Regressor_loss: 0.1856 - val_Classifier_accuracy: 0.7502 - val_Regressor_accuracy: 0.3680\n",
            "Epoch 415/500\n",
            "59/59 [==============================] - 4s 68ms/step - loss: 0.0744 - Classifier_loss: 7.4293e-04 - Regressor_loss: 0.0737 - Classifier_accuracy: 0.7638 - Regressor_accuracy: 0.7437 - val_loss: 0.2673 - val_Classifier_loss: 0.0831 - val_Regressor_loss: 0.1842 - val_Classifier_accuracy: 0.7562 - val_Regressor_accuracy: 0.3646\n",
            "Epoch 416/500\n",
            "59/59 [==============================] - 4s 70ms/step - loss: 0.0727 - Classifier_loss: 7.2348e-04 - Regressor_loss: 0.0720 - Classifier_accuracy: 0.7633 - Regressor_accuracy: 0.7487 - val_loss: 0.2677 - val_Classifier_loss: 0.0830 - val_Regressor_loss: 0.1846 - val_Classifier_accuracy: 0.7468 - val_Regressor_accuracy: 0.3690\n",
            "Epoch 417/500\n",
            "59/59 [==============================] - 4s 70ms/step - loss: 0.0735 - Classifier_loss: 7.5036e-04 - Regressor_loss: 0.0727 - Classifier_accuracy: 0.7586 - Regressor_accuracy: 0.7473 - val_loss: 0.2681 - val_Classifier_loss: 0.0817 - val_Regressor_loss: 0.1864 - val_Classifier_accuracy: 0.7524 - val_Regressor_accuracy: 0.3686\n",
            "Epoch 418/500\n",
            "59/59 [==============================] - 5s 81ms/step - loss: 0.0733 - Classifier_loss: 8.4109e-04 - Regressor_loss: 0.0724 - Classifier_accuracy: 0.7574 - Regressor_accuracy: 0.7430 - val_loss: 0.2671 - val_Classifier_loss: 0.0826 - val_Regressor_loss: 0.1845 - val_Classifier_accuracy: 0.7432 - val_Regressor_accuracy: 0.3696\n",
            "Epoch 419/500\n",
            "59/59 [==============================] - 4s 69ms/step - loss: 0.0726 - Classifier_loss: 7.3972e-04 - Regressor_loss: 0.0719 - Classifier_accuracy: 0.7575 - Regressor_accuracy: 0.7465 - val_loss: 0.2689 - val_Classifier_loss: 0.0836 - val_Regressor_loss: 0.1853 - val_Classifier_accuracy: 0.7476 - val_Regressor_accuracy: 0.3696\n",
            "Epoch 420/500\n",
            "59/59 [==============================] - 4s 69ms/step - loss: 0.0713 - Classifier_loss: 7.4455e-04 - Regressor_loss: 0.0706 - Classifier_accuracy: 0.7561 - Regressor_accuracy: 0.7513 - val_loss: 0.2691 - val_Classifier_loss: 0.0838 - val_Regressor_loss: 0.1854 - val_Classifier_accuracy: 0.7522 - val_Regressor_accuracy: 0.3740\n",
            "Epoch 421/500\n",
            "59/59 [==============================] - 4s 69ms/step - loss: 0.0718 - Classifier_loss: 7.4535e-04 - Regressor_loss: 0.0711 - Classifier_accuracy: 0.7594 - Regressor_accuracy: 0.7495 - val_loss: 0.2685 - val_Classifier_loss: 0.0839 - val_Regressor_loss: 0.1846 - val_Classifier_accuracy: 0.7552 - val_Regressor_accuracy: 0.3706\n",
            "Epoch 422/500\n",
            "59/59 [==============================] - 4s 68ms/step - loss: 0.0718 - Classifier_loss: 7.2075e-04 - Regressor_loss: 0.0711 - Classifier_accuracy: 0.7614 - Regressor_accuracy: 0.7484 - val_loss: 0.2682 - val_Classifier_loss: 0.0837 - val_Regressor_loss: 0.1846 - val_Classifier_accuracy: 0.7576 - val_Regressor_accuracy: 0.3688\n",
            "Epoch 423/500\n",
            "59/59 [==============================] - 4s 68ms/step - loss: 0.0718 - Classifier_loss: 7.4069e-04 - Regressor_loss: 0.0710 - Classifier_accuracy: 0.7600 - Regressor_accuracy: 0.7496 - val_loss: 0.2676 - val_Classifier_loss: 0.0831 - val_Regressor_loss: 0.1845 - val_Classifier_accuracy: 0.7516 - val_Regressor_accuracy: 0.3670\n",
            "Epoch 424/500\n",
            "59/59 [==============================] - 4s 67ms/step - loss: 0.0725 - Classifier_loss: 7.3160e-04 - Regressor_loss: 0.0718 - Classifier_accuracy: 0.7591 - Regressor_accuracy: 0.7478 - val_loss: 0.2677 - val_Classifier_loss: 0.0820 - val_Regressor_loss: 0.1857 - val_Classifier_accuracy: 0.7510 - val_Regressor_accuracy: 0.3732\n",
            "Epoch 425/500\n",
            "59/59 [==============================] - 4s 68ms/step - loss: 0.0711 - Classifier_loss: 7.0278e-04 - Regressor_loss: 0.0704 - Classifier_accuracy: 0.7605 - Regressor_accuracy: 0.7499 - val_loss: 0.2678 - val_Classifier_loss: 0.0841 - val_Regressor_loss: 0.1836 - val_Classifier_accuracy: 0.7458 - val_Regressor_accuracy: 0.3748\n",
            "Epoch 426/500\n",
            "59/59 [==============================] - 4s 66ms/step - loss: 0.0716 - Classifier_loss: 6.9420e-04 - Regressor_loss: 0.0709 - Classifier_accuracy: 0.7583 - Regressor_accuracy: 0.7519 - val_loss: 0.2696 - val_Classifier_loss: 0.0846 - val_Regressor_loss: 0.1850 - val_Classifier_accuracy: 0.7542 - val_Regressor_accuracy: 0.3732\n",
            "Epoch 427/500\n",
            "59/59 [==============================] - 5s 78ms/step - loss: 0.0716 - Classifier_loss: 7.3375e-04 - Regressor_loss: 0.0708 - Classifier_accuracy: 0.7626 - Regressor_accuracy: 0.7516 - val_loss: 0.2692 - val_Classifier_loss: 0.0840 - val_Regressor_loss: 0.1852 - val_Classifier_accuracy: 0.7502 - val_Regressor_accuracy: 0.3636\n",
            "Epoch 428/500\n",
            "59/59 [==============================] - 4s 67ms/step - loss: 0.0705 - Classifier_loss: 6.9459e-04 - Regressor_loss: 0.0698 - Classifier_accuracy: 0.7633 - Regressor_accuracy: 0.7537 - val_loss: 0.2699 - val_Classifier_loss: 0.0848 - val_Regressor_loss: 0.1851 - val_Classifier_accuracy: 0.7556 - val_Regressor_accuracy: 0.3698\n",
            "Epoch 429/500\n",
            "59/59 [==============================] - 4s 67ms/step - loss: 0.0711 - Classifier_loss: 6.7807e-04 - Regressor_loss: 0.0705 - Classifier_accuracy: 0.7650 - Regressor_accuracy: 0.7478 - val_loss: 0.2681 - val_Classifier_loss: 0.0840 - val_Regressor_loss: 0.1840 - val_Classifier_accuracy: 0.7562 - val_Regressor_accuracy: 0.3698\n",
            "Epoch 430/500\n",
            "59/59 [==============================] - 4s 67ms/step - loss: 0.0720 - Classifier_loss: 6.6235e-04 - Regressor_loss: 0.0713 - Classifier_accuracy: 0.7652 - Regressor_accuracy: 0.7504 - val_loss: 0.2679 - val_Classifier_loss: 0.0831 - val_Regressor_loss: 0.1848 - val_Classifier_accuracy: 0.7492 - val_Regressor_accuracy: 0.3702\n",
            "Epoch 431/500\n",
            "59/59 [==============================] - 4s 67ms/step - loss: 0.0710 - Classifier_loss: 6.8791e-04 - Regressor_loss: 0.0703 - Classifier_accuracy: 0.7639 - Regressor_accuracy: 0.7535 - val_loss: 0.2689 - val_Classifier_loss: 0.0846 - val_Regressor_loss: 0.1843 - val_Classifier_accuracy: 0.7580 - val_Regressor_accuracy: 0.3716\n",
            "Epoch 432/500\n",
            "59/59 [==============================] - 4s 67ms/step - loss: 0.0719 - Classifier_loss: 6.9357e-04 - Regressor_loss: 0.0712 - Classifier_accuracy: 0.7611 - Regressor_accuracy: 0.7507 - val_loss: 0.2676 - val_Classifier_loss: 0.0834 - val_Regressor_loss: 0.1842 - val_Classifier_accuracy: 0.7582 - val_Regressor_accuracy: 0.3694\n",
            "Epoch 433/500\n",
            "59/59 [==============================] - 4s 67ms/step - loss: 0.0724 - Classifier_loss: 7.0147e-04 - Regressor_loss: 0.0717 - Classifier_accuracy: 0.7622 - Regressor_accuracy: 0.7484 - val_loss: 0.2700 - val_Classifier_loss: 0.0851 - val_Regressor_loss: 0.1850 - val_Classifier_accuracy: 0.7596 - val_Regressor_accuracy: 0.3690\n",
            "Epoch 434/500\n",
            "59/59 [==============================] - 4s 66ms/step - loss: 0.0706 - Classifier_loss: 7.1738e-04 - Regressor_loss: 0.0699 - Classifier_accuracy: 0.7600 - Regressor_accuracy: 0.7535 - val_loss: 0.2689 - val_Classifier_loss: 0.0838 - val_Regressor_loss: 0.1851 - val_Classifier_accuracy: 0.7518 - val_Regressor_accuracy: 0.3728\n",
            "Epoch 435/500\n",
            "59/59 [==============================] - 5s 77ms/step - loss: 0.0700 - Classifier_loss: 6.9358e-04 - Regressor_loss: 0.0693 - Classifier_accuracy: 0.7642 - Regressor_accuracy: 0.7555 - val_loss: 0.2691 - val_Classifier_loss: 0.0849 - val_Regressor_loss: 0.1842 - val_Classifier_accuracy: 0.7628 - val_Regressor_accuracy: 0.3688\n",
            "Epoch 436/500\n",
            "59/59 [==============================] - 4s 67ms/step - loss: 0.0698 - Classifier_loss: 7.8264e-04 - Regressor_loss: 0.0690 - Classifier_accuracy: 0.7707 - Regressor_accuracy: 0.7545 - val_loss: 0.2711 - val_Classifier_loss: 0.0857 - val_Regressor_loss: 0.1855 - val_Classifier_accuracy: 0.7620 - val_Regressor_accuracy: 0.3694\n",
            "Epoch 437/500\n",
            "59/59 [==============================] - 4s 69ms/step - loss: 0.0696 - Classifier_loss: 6.8386e-04 - Regressor_loss: 0.0689 - Classifier_accuracy: 0.7691 - Regressor_accuracy: 0.7565 - val_loss: 0.2693 - val_Classifier_loss: 0.0852 - val_Regressor_loss: 0.1840 - val_Classifier_accuracy: 0.7580 - val_Regressor_accuracy: 0.3698\n",
            "Epoch 438/500\n",
            "59/59 [==============================] - 4s 68ms/step - loss: 0.0694 - Classifier_loss: 6.1100e-04 - Regressor_loss: 0.0688 - Classifier_accuracy: 0.7673 - Regressor_accuracy: 0.7584 - val_loss: 0.2710 - val_Classifier_loss: 0.0858 - val_Regressor_loss: 0.1852 - val_Classifier_accuracy: 0.7536 - val_Regressor_accuracy: 0.3634\n",
            "Epoch 439/500\n",
            "59/59 [==============================] - 4s 66ms/step - loss: 0.0707 - Classifier_loss: 6.3062e-04 - Regressor_loss: 0.0701 - Classifier_accuracy: 0.7699 - Regressor_accuracy: 0.7548 - val_loss: 0.2718 - val_Classifier_loss: 0.0859 - val_Regressor_loss: 0.1860 - val_Classifier_accuracy: 0.7714 - val_Regressor_accuracy: 0.3670\n",
            "Epoch 440/500\n",
            "59/59 [==============================] - 4s 68ms/step - loss: 0.0707 - Classifier_loss: 6.2918e-04 - Regressor_loss: 0.0700 - Classifier_accuracy: 0.7697 - Regressor_accuracy: 0.7519 - val_loss: 0.2721 - val_Classifier_loss: 0.0861 - val_Regressor_loss: 0.1860 - val_Classifier_accuracy: 0.7612 - val_Regressor_accuracy: 0.3684\n",
            "Epoch 441/500\n",
            "59/59 [==============================] - 4s 68ms/step - loss: 0.0698 - Classifier_loss: 6.6733e-04 - Regressor_loss: 0.0692 - Classifier_accuracy: 0.7678 - Regressor_accuracy: 0.7549 - val_loss: 0.2716 - val_Classifier_loss: 0.0862 - val_Regressor_loss: 0.1853 - val_Classifier_accuracy: 0.7620 - val_Regressor_accuracy: 0.3742\n",
            "Epoch 442/500\n",
            "59/59 [==============================] - 4s 67ms/step - loss: 0.0695 - Classifier_loss: 6.3632e-04 - Regressor_loss: 0.0689 - Classifier_accuracy: 0.7691 - Regressor_accuracy: 0.7550 - val_loss: 0.2704 - val_Classifier_loss: 0.0866 - val_Regressor_loss: 0.1838 - val_Classifier_accuracy: 0.7624 - val_Regressor_accuracy: 0.3728\n",
            "Epoch 443/500\n",
            "59/59 [==============================] - 4s 68ms/step - loss: 0.0696 - Classifier_loss: 6.4598e-04 - Regressor_loss: 0.0689 - Classifier_accuracy: 0.7674 - Regressor_accuracy: 0.7568 - val_loss: 0.2724 - val_Classifier_loss: 0.0866 - val_Regressor_loss: 0.1858 - val_Classifier_accuracy: 0.7552 - val_Regressor_accuracy: 0.3702\n",
            "Epoch 444/500\n",
            "59/59 [==============================] - 5s 78ms/step - loss: 0.0692 - Classifier_loss: 6.9853e-04 - Regressor_loss: 0.0685 - Classifier_accuracy: 0.7695 - Regressor_accuracy: 0.7569 - val_loss: 0.2707 - val_Classifier_loss: 0.0865 - val_Regressor_loss: 0.1842 - val_Classifier_accuracy: 0.7662 - val_Regressor_accuracy: 0.3738\n",
            "Epoch 445/500\n",
            "59/59 [==============================] - 4s 68ms/step - loss: 0.0693 - Classifier_loss: 5.9700e-04 - Regressor_loss: 0.0687 - Classifier_accuracy: 0.7733 - Regressor_accuracy: 0.7567 - val_loss: 0.2697 - val_Classifier_loss: 0.0851 - val_Regressor_loss: 0.1846 - val_Classifier_accuracy: 0.7628 - val_Regressor_accuracy: 0.3702\n",
            "Epoch 446/500\n",
            "59/59 [==============================] - 4s 68ms/step - loss: 0.0695 - Classifier_loss: 6.1688e-04 - Regressor_loss: 0.0689 - Classifier_accuracy: 0.7705 - Regressor_accuracy: 0.7562 - val_loss: 0.2709 - val_Classifier_loss: 0.0852 - val_Regressor_loss: 0.1857 - val_Classifier_accuracy: 0.7576 - val_Regressor_accuracy: 0.3706\n",
            "Epoch 447/500\n",
            "59/59 [==============================] - 4s 69ms/step - loss: 0.0715 - Classifier_loss: 6.4614e-04 - Regressor_loss: 0.0709 - Classifier_accuracy: 0.7655 - Regressor_accuracy: 0.7500 - val_loss: 0.2723 - val_Classifier_loss: 0.0865 - val_Regressor_loss: 0.1858 - val_Classifier_accuracy: 0.7656 - val_Regressor_accuracy: 0.3712\n",
            "Epoch 448/500\n",
            "59/59 [==============================] - 4s 68ms/step - loss: 0.0695 - Classifier_loss: 6.4614e-04 - Regressor_loss: 0.0689 - Classifier_accuracy: 0.7704 - Regressor_accuracy: 0.7557 - val_loss: 0.2732 - val_Classifier_loss: 0.0867 - val_Regressor_loss: 0.1865 - val_Classifier_accuracy: 0.7648 - val_Regressor_accuracy: 0.3652\n",
            "Epoch 449/500\n",
            "59/59 [==============================] - 4s 67ms/step - loss: 0.0695 - Classifier_loss: 6.7112e-04 - Regressor_loss: 0.0689 - Classifier_accuracy: 0.7680 - Regressor_accuracy: 0.7545 - val_loss: 0.2717 - val_Classifier_loss: 0.0857 - val_Regressor_loss: 0.1860 - val_Classifier_accuracy: 0.7588 - val_Regressor_accuracy: 0.3668\n",
            "Epoch 450/500\n",
            "59/59 [==============================] - 4s 69ms/step - loss: 0.0687 - Classifier_loss: 6.1489e-04 - Regressor_loss: 0.0680 - Classifier_accuracy: 0.7720 - Regressor_accuracy: 0.7596 - val_loss: 0.2721 - val_Classifier_loss: 0.0866 - val_Regressor_loss: 0.1855 - val_Classifier_accuracy: 0.7726 - val_Regressor_accuracy: 0.3708\n",
            "Epoch 451/500\n",
            "59/59 [==============================] - 4s 68ms/step - loss: 0.0699 - Classifier_loss: 6.3062e-04 - Regressor_loss: 0.0693 - Classifier_accuracy: 0.7734 - Regressor_accuracy: 0.7566 - val_loss: 0.2711 - val_Classifier_loss: 0.0852 - val_Regressor_loss: 0.1858 - val_Classifier_accuracy: 0.7616 - val_Regressor_accuracy: 0.3682\n",
            "Epoch 452/500\n",
            "59/59 [==============================] - 4s 76ms/step - loss: 0.0700 - Classifier_loss: 5.7053e-04 - Regressor_loss: 0.0694 - Classifier_accuracy: 0.7666 - Regressor_accuracy: 0.7557 - val_loss: 0.2695 - val_Classifier_loss: 0.0849 - val_Regressor_loss: 0.1846 - val_Classifier_accuracy: 0.7604 - val_Regressor_accuracy: 0.3632\n",
            "Epoch 453/500\n",
            "59/59 [==============================] - 4s 67ms/step - loss: 0.0716 - Classifier_loss: 6.4192e-04 - Regressor_loss: 0.0710 - Classifier_accuracy: 0.7652 - Regressor_accuracy: 0.7511 - val_loss: 0.2694 - val_Classifier_loss: 0.0840 - val_Regressor_loss: 0.1854 - val_Classifier_accuracy: 0.7596 - val_Regressor_accuracy: 0.3674\n",
            "Epoch 454/500\n",
            "59/59 [==============================] - 4s 67ms/step - loss: 0.0717 - Classifier_loss: 6.8575e-04 - Regressor_loss: 0.0710 - Classifier_accuracy: 0.7642 - Regressor_accuracy: 0.7510 - val_loss: 0.2720 - val_Classifier_loss: 0.0862 - val_Regressor_loss: 0.1858 - val_Classifier_accuracy: 0.7628 - val_Regressor_accuracy: 0.3658\n",
            "Epoch 455/500\n",
            "59/59 [==============================] - 4s 67ms/step - loss: 0.0753 - Classifier_loss: 7.4604e-04 - Regressor_loss: 0.0745 - Classifier_accuracy: 0.7621 - Regressor_accuracy: 0.7429 - val_loss: 0.2703 - val_Classifier_loss: 0.0856 - val_Regressor_loss: 0.1847 - val_Classifier_accuracy: 0.7464 - val_Regressor_accuracy: 0.3670\n",
            "Epoch 456/500\n",
            "59/59 [==============================] - 4s 66ms/step - loss: 0.0698 - Classifier_loss: 6.5309e-04 - Regressor_loss: 0.0691 - Classifier_accuracy: 0.7629 - Regressor_accuracy: 0.7571 - val_loss: 0.2699 - val_Classifier_loss: 0.0847 - val_Regressor_loss: 0.1852 - val_Classifier_accuracy: 0.7534 - val_Regressor_accuracy: 0.3684\n",
            "Epoch 457/500\n",
            "59/59 [==============================] - 4s 66ms/step - loss: 0.0699 - Classifier_loss: 6.0593e-04 - Regressor_loss: 0.0693 - Classifier_accuracy: 0.7683 - Regressor_accuracy: 0.7584 - val_loss: 0.2694 - val_Classifier_loss: 0.0846 - val_Regressor_loss: 0.1848 - val_Classifier_accuracy: 0.7628 - val_Regressor_accuracy: 0.3674\n",
            "Epoch 458/500\n",
            "59/59 [==============================] - 4s 65ms/step - loss: 0.0692 - Classifier_loss: 5.8254e-04 - Regressor_loss: 0.0686 - Classifier_accuracy: 0.7647 - Regressor_accuracy: 0.7583 - val_loss: 0.2702 - val_Classifier_loss: 0.0859 - val_Regressor_loss: 0.1843 - val_Classifier_accuracy: 0.7644 - val_Regressor_accuracy: 0.3728\n",
            "Epoch 459/500\n",
            "59/59 [==============================] - 4s 66ms/step - loss: 0.0719 - Classifier_loss: 7.1982e-04 - Regressor_loss: 0.0711 - Classifier_accuracy: 0.7648 - Regressor_accuracy: 0.7565 - val_loss: 0.2689 - val_Classifier_loss: 0.0839 - val_Regressor_loss: 0.1850 - val_Classifier_accuracy: 0.7476 - val_Regressor_accuracy: 0.3708\n",
            "Epoch 460/500\n",
            "59/59 [==============================] - 4s 67ms/step - loss: 0.0708 - Classifier_loss: 6.5632e-04 - Regressor_loss: 0.0702 - Classifier_accuracy: 0.7615 - Regressor_accuracy: 0.7529 - val_loss: 0.2691 - val_Classifier_loss: 0.0845 - val_Regressor_loss: 0.1846 - val_Classifier_accuracy: 0.7604 - val_Regressor_accuracy: 0.3786\n",
            "Epoch 461/500\n",
            "59/59 [==============================] - 5s 78ms/step - loss: 0.0685 - Classifier_loss: 7.0768e-04 - Regressor_loss: 0.0678 - Classifier_accuracy: 0.7634 - Regressor_accuracy: 0.7622 - val_loss: 0.2703 - val_Classifier_loss: 0.0850 - val_Regressor_loss: 0.1853 - val_Classifier_accuracy: 0.7540 - val_Regressor_accuracy: 0.3710\n",
            "Epoch 462/500\n",
            "59/59 [==============================] - 4s 68ms/step - loss: 0.0689 - Classifier_loss: 6.0469e-04 - Regressor_loss: 0.0683 - Classifier_accuracy: 0.7670 - Regressor_accuracy: 0.7573 - val_loss: 0.2697 - val_Classifier_loss: 0.0843 - val_Regressor_loss: 0.1855 - val_Classifier_accuracy: 0.7558 - val_Regressor_accuracy: 0.3734\n",
            "Epoch 463/500\n",
            "59/59 [==============================] - 4s 68ms/step - loss: 0.0705 - Classifier_loss: 6.5932e-04 - Regressor_loss: 0.0698 - Classifier_accuracy: 0.7632 - Regressor_accuracy: 0.7571 - val_loss: 0.2742 - val_Classifier_loss: 0.0885 - val_Regressor_loss: 0.1857 - val_Classifier_accuracy: 0.7548 - val_Regressor_accuracy: 0.3708\n",
            "Epoch 464/500\n",
            "59/59 [==============================] - 4s 68ms/step - loss: 0.0697 - Classifier_loss: 8.9153e-04 - Regressor_loss: 0.0688 - Classifier_accuracy: 0.7650 - Regressor_accuracy: 0.7573 - val_loss: 0.2715 - val_Classifier_loss: 0.0861 - val_Regressor_loss: 0.1854 - val_Classifier_accuracy: 0.7568 - val_Regressor_accuracy: 0.3718\n",
            "Epoch 465/500\n",
            "59/59 [==============================] - 4s 68ms/step - loss: 0.0698 - Classifier_loss: 6.5116e-04 - Regressor_loss: 0.0692 - Classifier_accuracy: 0.7661 - Regressor_accuracy: 0.7560 - val_loss: 0.2703 - val_Classifier_loss: 0.0854 - val_Regressor_loss: 0.1849 - val_Classifier_accuracy: 0.7512 - val_Regressor_accuracy: 0.3726\n",
            "Epoch 466/500\n",
            "59/59 [==============================] - 4s 68ms/step - loss: 0.0696 - Classifier_loss: 7.1841e-04 - Regressor_loss: 0.0689 - Classifier_accuracy: 0.7617 - Regressor_accuracy: 0.7580 - val_loss: 0.2694 - val_Classifier_loss: 0.0847 - val_Regressor_loss: 0.1847 - val_Classifier_accuracy: 0.7576 - val_Regressor_accuracy: 0.3686\n",
            "Epoch 467/500\n",
            "59/59 [==============================] - 4s 66ms/step - loss: 0.0699 - Classifier_loss: 7.3090e-04 - Regressor_loss: 0.0692 - Classifier_accuracy: 0.7644 - Regressor_accuracy: 0.7603 - val_loss: 0.2712 - val_Classifier_loss: 0.0862 - val_Regressor_loss: 0.1851 - val_Classifier_accuracy: 0.7608 - val_Regressor_accuracy: 0.3694\n",
            "Epoch 468/500\n",
            "59/59 [==============================] - 4s 69ms/step - loss: 0.0692 - Classifier_loss: 6.1454e-04 - Regressor_loss: 0.0686 - Classifier_accuracy: 0.7627 - Regressor_accuracy: 0.7592 - val_loss: 0.2721 - val_Classifier_loss: 0.0870 - val_Regressor_loss: 0.1851 - val_Classifier_accuracy: 0.7520 - val_Regressor_accuracy: 0.3734\n",
            "Epoch 469/500\n",
            "59/59 [==============================] - 5s 79ms/step - loss: 0.0693 - Classifier_loss: 6.3290e-04 - Regressor_loss: 0.0687 - Classifier_accuracy: 0.7644 - Regressor_accuracy: 0.7573 - val_loss: 0.2724 - val_Classifier_loss: 0.0874 - val_Regressor_loss: 0.1850 - val_Classifier_accuracy: 0.7626 - val_Regressor_accuracy: 0.3752\n",
            "Epoch 470/500\n",
            "45/59 [=====================>........] - ETA: 0s - loss: 0.0688 - Classifier_loss: 6.7027e-04 - Regressor_loss: 0.0681 - Classifier_accuracy: 0.7644 - Regressor_accuracy: 0.7617"
          ],
          "name": "stdout"
        }
      ]
    },
    {
      "cell_type": "code",
      "metadata": {
        "colab": {
          "background_save": true
        },
        "id": "pFxKYDDY8caA",
        "outputId": "0753e8f5-cb75-415e-e51b-6c82aa10c31c"
      },
      "source": [
        "print_evaluate()"
      ],
      "execution_count": null,
      "outputs": [
        {
          "output_type": "display_data",
          "data": {
            "image/png": "[encoded data removed]",
            "text/plain": [
              "<Figure size 432x288 with 1 Axes>"
            ]
          },
          "metadata": {
            "tags": []
          }
        },
        {
          "output_type": "display_data",
          "data": {
            "image/png": "[encoded data removed]",
            "text/plain": [
              "<Figure size 432x288 with 1 Axes>"
            ]
          },
          "metadata": {
            "tags": []
          }
        },
        {
          "output_type": "display_data",
          "data": {
            "image/png": "[encoded data removed]",
            "text/plain": [
              "<Figure size 432x288 with 1 Axes>"
            ]
          },
          "metadata": {
            "tags": []
          }
        }
      ]
    },
    {
      "cell_type": "code",
      "metadata": {
        "id": "ebDXSY7A_OEt"
      },
      "source": [
        "output = model.evaluate(valid_dataset)\n",
        "\n",
        "for val in output:\n",
        "    print(val)"
      ],
      "execution_count": null,
      "outputs": []
    },
    {
      "cell_type": "code",
      "metadata": {
        "colab": {
          "background_save": true
        },
        "id": "-e6iUIt7qqqA",
        "outputId": "b286c1e4-e31d-49c8-8515-af997c5cfb3a"
      },
      "source": [
        "# Display predictions from validation dataset along with bounding boxes\n",
        "\n",
        "batches = 10\n",
        "batch_size = 2\n",
        "pred = []\n",
        "test_images = []\n",
        "test_boxes = []\n",
        "test_labels = []\n",
        "\n",
        "for n, ex in enumerate(valid_dataset.unbatch().batch(batch_size).shuffle(100).as_numpy_iterator()):\n",
        "    if n>=batches:\n",
        "        break\n",
        "    pred.append(model.predict([[ex[0]]]))\n",
        "    test_images.append(ex[0])\n",
        "test_images = np.array(test_images).reshape((batches*batch_size, 100, 100, 1))\n",
        "\n",
        "\n",
        "for batch in range(batches):\n",
        "    test_labels.append(pred[batch][0])\n",
        "    test_boxes.append(pred[batch][1])\n",
        "test_boxes = np.array(test_boxes).reshape(batches*batch_size,2, 4)\n",
        "test_labels = np.array(test_labels).reshape(batches*batch_size, 10)\n",
        "# Prediction on validation dataset\n",
        "\n",
        "display_bound_boxes(test_images, test_boxes, test_labels)"
      ],
      "execution_count": null,
      "outputs": [
        {
          "output_type": "display_data",
          "data": {
            "image/png": "[encoded data removed]",
            "text/plain": [
              "<Figure size 1440x432 with 20 Axes>"
            ]
          },
          "metadata": {
            "tags": []
          }
        }
      ]
    },
    {
      "cell_type": "code",
      "metadata": {
        "id": "qyhYjiCt_CQJ"
      },
      "source": [
        "ṅmodel.save('mnist-4-4.h5')"
      ],
      "execution_count": null,
      "outputs": []
    }
  ]
}