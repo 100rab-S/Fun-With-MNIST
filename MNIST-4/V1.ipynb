{
  "nbformat": 4,
  "nbformat_minor": 0,
  "metadata": {
    "colab": {
      "name": "V1.ipynb",
      "provenance": [],
      "collapsed_sections": [],
      "include_colab_link": true
    },
    "kernelspec": {
      "display_name": "Python 3",
      "name": "python3"
    },
    "language_info": {
      "name": "python"
    },
    "accelerator": "TPU"
  },
  "cells": [
    {
      "cell_type": "markdown",
      "metadata": {
        "id": "view-in-github",
        "colab_type": "text"
      },
      "source": [
        "<a href=\"https://colab.research.google.com/github/100rab-S/Fun-With-MNIST/blob/main/MNIST-4/V1.ipynb\" target=\"_parent\"><img src=\"https://colab.research.google.com/assets/colab-badge.svg\" alt=\"Open In Colab\"/></a>"
      ]
    },
    {
      "cell_type": "code",
      "metadata": {
        "id": "EsL6ygvItH-1"
      },
      "source": [
        "# cd /content/drive/MyDrive/Fun With MNIST/MNIST-4(Object Detection)"
      ],
      "execution_count": null,
      "outputs": []
    },
    {
      "cell_type": "code",
      "metadata": {
        "id": "EM8roD_u3n2j"
      },
      "source": [
        "import tensorflow as tf\n",
        "import pandas as pd\n",
        "import numpy as np\n",
        "import matplotlib.pyplot as plt\n",
        "\n",
        "from tensorflow.keras.models import Model\n",
        "from tensorflow.keras.layers import Conv2D, Dense, MaxPooling2D, Dropout, Input, Lambda, Flatten\n",
        "from tensorflow.image import draw_bounding_boxes\n",
        "from tensorflow.keras.datasets import mnist\n",
        "from tensorflow.keras.utils import plot_model\n",
        "from tensorflow.keras.preprocessing.image import ImageDataGenerator\n",
        "\n",
        "from sklearn.preprocessing import MultiLabelBinarizer\n",
        "\n",
        "import logging  \n",
        "import os"
      ],
      "execution_count": null,
      "outputs": []
    },
    {
      "cell_type": "code",
      "metadata": {
        "id": "W3Q6XhFmNUhf"
      },
      "source": [
        "# IS_COLAB_BACKEND = 'COLAB_GPU' in os.environ  # this is always set on Colab, the value is 0 or 1 depending on GPU presence\n",
        "# if IS_COLAB_BACKEND:\n",
        "#   from google.colab import auth\n",
        "#   # Authenticates the Colab machine and also the TPU using your\n",
        "#   # credentials so that they can access your private GCS buckets.\n",
        "#   auth.authenticate_user()"
      ],
      "execution_count": null,
      "outputs": []
    },
    {
      "cell_type": "code",
      "metadata": {
        "colab": {
          "base_uri": "https://localhost:8080/"
        },
        "id": "KxuIwCh74l1i",
        "outputId": "f07460ac-c384-4b9f-dcc3-f391e7563507"
      },
      "source": [
        "tpu = tf.distribute.cluster_resolver.TPUClusterResolver() # TPU detection\n",
        "tf.config.experimental_connect_to_cluster(tpu)\n",
        "tf.tpu.experimental.initialize_tpu_system(tpu)\n",
        "strategy = tf.distribute.TPUStrategy(tpu) # Going back and forth between TPU and host is expensive. Better to run 128 batches on the TPU before reporting back.\n",
        "# print('Running on TPU ', tpu.cluster_spec().as_dict()['worker'])  \n",
        "print(\"Number of accelerators: \", strategy.num_replicas_in_sync)"
      ],
      "execution_count": null,
      "outputs": [
        {
          "output_type": "stream",
          "text": [
            "INFO:tensorflow:Initializing the TPU system: grpc://10.91.84.90:8470\n"
          ],
          "name": "stdout"
        },
        {
          "output_type": "stream",
          "text": [
            "INFO:tensorflow:Initializing the TPU system: grpc://10.91.84.90:8470\n"
          ],
          "name": "stderr"
        },
        {
          "output_type": "stream",
          "text": [
            "INFO:tensorflow:Clearing out eager caches\n"
          ],
          "name": "stdout"
        },
        {
          "output_type": "stream",
          "text": [
            "INFO:tensorflow:Clearing out eager caches\n"
          ],
          "name": "stderr"
        },
        {
          "output_type": "stream",
          "text": [
            "INFO:tensorflow:Finished initializing TPU system.\n"
          ],
          "name": "stdout"
        },
        {
          "output_type": "stream",
          "text": [
            "INFO:tensorflow:Finished initializing TPU system.\n"
          ],
          "name": "stderr"
        },
        {
          "output_type": "stream",
          "text": [
            "INFO:tensorflow:Found TPU system:\n"
          ],
          "name": "stdout"
        },
        {
          "output_type": "stream",
          "text": [
            "INFO:tensorflow:Found TPU system:\n"
          ],
          "name": "stderr"
        },
        {
          "output_type": "stream",
          "text": [
            "INFO:tensorflow:*** Num TPU Cores: 8\n"
          ],
          "name": "stdout"
        },
        {
          "output_type": "stream",
          "text": [
            "INFO:tensorflow:*** Num TPU Cores: 8\n"
          ],
          "name": "stderr"
        },
        {
          "output_type": "stream",
          "text": [
            "INFO:tensorflow:*** Num TPU Workers: 1\n"
          ],
          "name": "stdout"
        },
        {
          "output_type": "stream",
          "text": [
            "INFO:tensorflow:*** Num TPU Workers: 1\n"
          ],
          "name": "stderr"
        },
        {
          "output_type": "stream",
          "text": [
            "INFO:tensorflow:*** Num TPU Cores Per Worker: 8\n"
          ],
          "name": "stdout"
        },
        {
          "output_type": "stream",
          "text": [
            "INFO:tensorflow:*** Num TPU Cores Per Worker: 8\n"
          ],
          "name": "stderr"
        },
        {
          "output_type": "stream",
          "text": [
            "INFO:tensorflow:*** Available Device: _DeviceAttributes(/job:localhost/replica:0/task:0/device:CPU:0, CPU, 0, 0)\n"
          ],
          "name": "stdout"
        },
        {
          "output_type": "stream",
          "text": [
            "INFO:tensorflow:*** Available Device: _DeviceAttributes(/job:localhost/replica:0/task:0/device:CPU:0, CPU, 0, 0)\n"
          ],
          "name": "stderr"
        },
        {
          "output_type": "stream",
          "text": [
            "INFO:tensorflow:*** Available Device: _DeviceAttributes(/job:worker/replica:0/task:0/device:CPU:0, CPU, 0, 0)\n"
          ],
          "name": "stdout"
        },
        {
          "output_type": "stream",
          "text": [
            "INFO:tensorflow:*** Available Device: _DeviceAttributes(/job:worker/replica:0/task:0/device:CPU:0, CPU, 0, 0)\n"
          ],
          "name": "stderr"
        },
        {
          "output_type": "stream",
          "text": [
            "INFO:tensorflow:*** Available Device: _DeviceAttributes(/job:worker/replica:0/task:0/device:TPU:0, TPU, 0, 0)\n"
          ],
          "name": "stdout"
        },
        {
          "output_type": "stream",
          "text": [
            "INFO:tensorflow:*** Available Device: _DeviceAttributes(/job:worker/replica:0/task:0/device:TPU:0, TPU, 0, 0)\n"
          ],
          "name": "stderr"
        },
        {
          "output_type": "stream",
          "text": [
            "INFO:tensorflow:*** Available Device: _DeviceAttributes(/job:worker/replica:0/task:0/device:TPU:1, TPU, 0, 0)\n"
          ],
          "name": "stdout"
        },
        {
          "output_type": "stream",
          "text": [
            "INFO:tensorflow:*** Available Device: _DeviceAttributes(/job:worker/replica:0/task:0/device:TPU:1, TPU, 0, 0)\n"
          ],
          "name": "stderr"
        },
        {
          "output_type": "stream",
          "text": [
            "INFO:tensorflow:*** Available Device: _DeviceAttributes(/job:worker/replica:0/task:0/device:TPU:2, TPU, 0, 0)\n"
          ],
          "name": "stdout"
        },
        {
          "output_type": "stream",
          "text": [
            "INFO:tensorflow:*** Available Device: _DeviceAttributes(/job:worker/replica:0/task:0/device:TPU:2, TPU, 0, 0)\n"
          ],
          "name": "stderr"
        },
        {
          "output_type": "stream",
          "text": [
            "INFO:tensorflow:*** Available Device: _DeviceAttributes(/job:worker/replica:0/task:0/device:TPU:3, TPU, 0, 0)\n"
          ],
          "name": "stdout"
        },
        {
          "output_type": "stream",
          "text": [
            "INFO:tensorflow:*** Available Device: _DeviceAttributes(/job:worker/replica:0/task:0/device:TPU:3, TPU, 0, 0)\n"
          ],
          "name": "stderr"
        },
        {
          "output_type": "stream",
          "text": [
            "INFO:tensorflow:*** Available Device: _DeviceAttributes(/job:worker/replica:0/task:0/device:TPU:4, TPU, 0, 0)\n"
          ],
          "name": "stdout"
        },
        {
          "output_type": "stream",
          "text": [
            "INFO:tensorflow:*** Available Device: _DeviceAttributes(/job:worker/replica:0/task:0/device:TPU:4, TPU, 0, 0)\n"
          ],
          "name": "stderr"
        },
        {
          "output_type": "stream",
          "text": [
            "INFO:tensorflow:*** Available Device: _DeviceAttributes(/job:worker/replica:0/task:0/device:TPU:5, TPU, 0, 0)\n"
          ],
          "name": "stdout"
        },
        {
          "output_type": "stream",
          "text": [
            "INFO:tensorflow:*** Available Device: _DeviceAttributes(/job:worker/replica:0/task:0/device:TPU:5, TPU, 0, 0)\n"
          ],
          "name": "stderr"
        },
        {
          "output_type": "stream",
          "text": [
            "INFO:tensorflow:*** Available Device: _DeviceAttributes(/job:worker/replica:0/task:0/device:TPU:6, TPU, 0, 0)\n"
          ],
          "name": "stdout"
        },
        {
          "output_type": "stream",
          "text": [
            "INFO:tensorflow:*** Available Device: _DeviceAttributes(/job:worker/replica:0/task:0/device:TPU:6, TPU, 0, 0)\n"
          ],
          "name": "stderr"
        },
        {
          "output_type": "stream",
          "text": [
            "INFO:tensorflow:*** Available Device: _DeviceAttributes(/job:worker/replica:0/task:0/device:TPU:7, TPU, 0, 0)\n"
          ],
          "name": "stdout"
        },
        {
          "output_type": "stream",
          "text": [
            "INFO:tensorflow:*** Available Device: _DeviceAttributes(/job:worker/replica:0/task:0/device:TPU:7, TPU, 0, 0)\n"
          ],
          "name": "stderr"
        },
        {
          "output_type": "stream",
          "text": [
            "INFO:tensorflow:*** Available Device: _DeviceAttributes(/job:worker/replica:0/task:0/device:TPU_SYSTEM:0, TPU_SYSTEM, 0, 0)\n"
          ],
          "name": "stdout"
        },
        {
          "output_type": "stream",
          "text": [
            "INFO:tensorflow:*** Available Device: _DeviceAttributes(/job:worker/replica:0/task:0/device:TPU_SYSTEM:0, TPU_SYSTEM, 0, 0)\n"
          ],
          "name": "stderr"
        },
        {
          "output_type": "stream",
          "text": [
            "INFO:tensorflow:*** Available Device: _DeviceAttributes(/job:worker/replica:0/task:0/device:XLA_CPU:0, XLA_CPU, 0, 0)\n"
          ],
          "name": "stdout"
        },
        {
          "output_type": "stream",
          "text": [
            "INFO:tensorflow:*** Available Device: _DeviceAttributes(/job:worker/replica:0/task:0/device:XLA_CPU:0, XLA_CPU, 0, 0)\n"
          ],
          "name": "stderr"
        },
        {
          "output_type": "stream",
          "text": [
            "Number of accelerators:  8\n"
          ],
          "name": "stdout"
        }
      ]
    },
    {
      "cell_type": "code",
      "metadata": {
        "id": "8aYL0WCQ5Owl"
      },
      "source": [
        "batch_size = 64\n",
        "BATCH_SIZE = batch_size * strategy.num_replicas_in_sync # Gobal batch size.\n",
        "# The global batch size will be automatically sharded across all\n",
        "# replicas by the tf.data.Dataset API. A single TPU has 8 cores.\n",
        "# The best practice is to scale the batch size by the number of\n",
        "# replicas (cores). The learning rate should be increased as well."
      ],
      "execution_count": null,
      "outputs": []
    },
    {
      "cell_type": "code",
      "metadata": {
        "id": "HAIXHJw65ywA"
      },
      "source": [
        "(X_train, y_train), (X_test, y_test) = mnist.load_data()"
      ],
      "execution_count": null,
      "outputs": []
    },
    {
      "cell_type": "code",
      "metadata": {
        "colab": {
          "base_uri": "https://localhost:8080/",
          "height": 282
        },
        "id": "z9EOzu_J-q1n",
        "outputId": "f008785d-8726-4554-bbd2-ea8adc470923"
      },
      "source": [
        "def display_random_digit():\n",
        "    random = np.random.randint(len(X_train))\n",
        "    random_image = X_train[random]\n",
        "    plt.imshow(random_image, cmap = 'gray')\n",
        "    print(y_train[random])\n",
        "\n",
        "display_random_digit()"
      ],
      "execution_count": null,
      "outputs": [
        {
          "output_type": "stream",
          "text": [
            "2\n"
          ],
          "name": "stdout"
        },
        {
          "output_type": "display_data",
          "data": {
            "image/png": "[encoded data removed]",
            "text/plain": [
              "<Figure size 432x288 with 1 Axes>"
            ]
          },
          "metadata": {
            "tags": [],
            "needs_background": "light"
          }
        }
      ]
    },
    {
      "cell_type": "code",
      "metadata": {
        "colab": {
          "base_uri": "https://localhost:8080/"
        },
        "id": "-4X3kNzQ_Qec",
        "outputId": "38a48b3c-35b0-439d-d7ac-a1db78eceaeb"
      },
      "source": [
        "def print_shape():\n",
        "    print('Shape of the training dataset:')\n",
        "    print(X_train.shape, y_train.shape)\n",
        "    print('\\nShape of the test dataset:')\n",
        "    print(X_test.shape, y_test.shape)\n",
        "\n",
        "print_shape()"
      ],
      "execution_count": null,
      "outputs": [
        {
          "output_type": "stream",
          "text": [
            "Shape of the training dataset:\n",
            "(60000, 28, 28) (60000,)\n",
            "\n",
            "Shape of the test dataset:\n",
            "(10000, 28, 28) (10000,)\n"
          ],
          "name": "stdout"
        }
      ]
    },
    {
      "cell_type": "code",
      "metadata": {
        "colab": {
          "base_uri": "https://localhost:8080/"
        },
        "id": "XhUIrvvXR22a",
        "outputId": "b1a17934-5a5d-47f3-d8b4-8ab8e8ac609c"
      },
      "source": [
        "X_train = np.reshape(X_train, (30000, 2, 28, 28))/255.\n",
        "y_train = np.reshape(y_train, (30000, 2,))\n",
        "X_test = np.reshape(X_test, (5000, 2, 28, 28))/255.\n",
        "y_test = np.reshape(y_test, (5000, 2,))\n",
        "\n",
        "print_shape()"
      ],
      "execution_count": null,
      "outputs": [
        {
          "output_type": "stream",
          "text": [
            "Shape of the training dataset:\n",
            "(30000, 2, 28, 28) (30000, 2)\n",
            "\n",
            "Shape of the test dataset:\n",
            "(5000, 2, 28, 28) (5000, 2)\n"
          ],
          "name": "stdout"
        }
      ]
    },
    {
      "cell_type": "code",
      "metadata": {
        "colab": {
          "base_uri": "https://localhost:8080/"
        },
        "id": "TbSM9uliWoxY",
        "outputId": "5381cae6-a141-4585-bb10-123206012d08"
      },
      "source": [
        "ml = MultiLabelBinarizer()\n",
        "ml.fit([tuple(np.unique(y_train))])"
      ],
      "execution_count": null,
      "outputs": [
        {
          "output_type": "execute_result",
          "data": {
            "text/plain": [
              "MultiLabelBinarizer(classes=None, sparse_output=False)"
            ]
          },
          "metadata": {
            "tags": []
          },
          "execution_count": 11
        }
      ]
    },
    {
      "cell_type": "code",
      "metadata": {
        "id": "VoNcouPYXYTj"
      },
      "source": [
        "# ml.transform([(3, 3)])"
      ],
      "execution_count": null,
      "outputs": []
    },
    {
      "cell_type": "code",
      "metadata": {
        "id": "U_e_kq0Oh0Ve"
      },
      "source": [
        "def preprocess_dataset(images, labels):\n",
        "    '''\n",
        "    This function randomly places 2 28*28 image in 100*100 canvas and also saves the bounding box co-ordinates.\n",
        "    '''\n",
        "    w, h = images[0][0].shape, images[0][0].shape\n",
        "    image1 = images[0]\n",
        "    image2 = images[1]\n",
        "    ans1 = labels[0]\n",
        "    ans2 = labels[1]\n",
        "    desired_output = 100\n",
        "\n",
        "    canvas = np.zeros((desired_output, desired_output))\n",
        "\n",
        "    while(True):\n",
        "        rand_width1, rand_width2 = np.random.randint(28, high = 101, size = 2)  # x_max\n",
        "        rand_height1, rand_height2 = np.random.randint(72, size = 2)        # y_min\n",
        "\n",
        "        if (abs(rand_width1 - rand_width2)>=30 or abs(rand_height1 - rand_height2) >= 30):\n",
        "            break\n",
        "\n",
        "    canvas[rand_height1 : rand_height1+28, rand_width1-28 : rand_width1] = image1\n",
        "    canvas[rand_height2 : rand_height2+28, rand_width2-28 : rand_width2] = image2\n",
        "\n",
        "    div = float(desired_output)                         # to normalize the values\n",
        "    boxes = [[rand_width1/div, rand_height1/div],\n",
        "             [rand_width2/div, rand_height2/div]]    # x_max1, y_min1, x_max2, y_min2\n",
        "\n",
        "    canvas = np.expand_dims(canvas, axis = -1)\n",
        "    # boxes = np.array(boxes, dtype = float)\n",
        "\n",
        "    y = [(ans1, ans2)]\n",
        "    label = ml.transform(y).flatten()\n",
        "\n",
        "    return canvas, (label, boxes)\n",
        "\n",
        "def display_bound_boxes(images, boxes, labels):\n",
        "    '''\n",
        "    Displays images with bounding boxes. Accepts 4D images, 3D boxes, 2D labels\n",
        "    '''\n",
        "    images = tf.image.grayscale_to_rgb(tf.convert_to_tensor(images)).numpy()\n",
        "    color = np.array([[1.0, 0.0, 0.0], [2.0, 0.0, 0.0]])\n",
        "\n",
        "    images = draw_bounding_boxes(images, boxes, colors=color)\n",
        "\n",
        "    \n",
        "    nrows = np.ceil(len(images)/10).astype(int)\n",
        "    fig, axes = plt.subplots(nrows, 10, figsize = (20, 3*nrows), sharex = True, sharey=True)\n",
        "    for ax, image, label in zip(axes.ravel(), images, labels):\n",
        "        # image = tf.cast(image*255, tf.uint8) # to remove the warnings but the colour of image changes\n",
        "        label = label.argsort()[-2:][::-1]\n",
        "        label = str(label[0]) + ', ' + str(label[1])\n",
        "\n",
        "        logger = logging.getLogger()\n",
        "        old_level = logger.level\n",
        "        logger.setLevel(100)\n",
        "\n",
        "        ax.imshow(image, cmap = 'gray')\n",
        "        ax.set_title(label)\n",
        "\n",
        "        logger.setLevel(old_level)\n",
        "\n",
        "\n",
        "def reshaping(X, Y):\n",
        "    ans = []\n",
        "    leng = X.shape[0]\n",
        "    for x, y in zip(X, Y):\n",
        "        ans.append(preprocess_dataset(x, y))\n",
        "    ans = np.asarray(ans)\n",
        "    ans = ans.flatten('F')\n",
        "    imgs = ans[:leng]\n",
        "    ys = ans[leng:]\n",
        "\n",
        "    imgs = np.concatenate(imgs).reshape((leng, 100, 100, 1)).astype('float32')\n",
        "    print('Images shape: ', imgs.shape)\n",
        "\n",
        "    labels = np.array([list(l[0]) for l in ys], dtype = 'float32')\n",
        "    print('Labels shape: ', labels.shape)\n",
        "\n",
        "    boxes = []\n",
        "    for i in range(len(ys)):\n",
        "        boxes.append(ys[i][1])\n",
        "\n",
        "    boxes = [[item for subsublist in box for item in subsublist] for box in boxes]\n",
        "    boxes = np.array(boxes).astype('float32')\n",
        "    print('Boxes shape: ', boxes.shape)\n",
        "\n",
        "    return imgs, (labels, boxes)"
      ],
      "execution_count": null,
      "outputs": []
    },
    {
      "cell_type": "code",
      "metadata": {
        "colab": {
          "base_uri": "https://localhost:8080/"
        },
        "id": "b7BfZl1czZLp",
        "outputId": "3a08337a-fceb-48c1-dab4-894600f55253"
      },
      "source": [
        "valid_dataset = tf.data.Dataset.from_tensor_slices(reshaping(X_test, y_test))\n",
        "valid_dataset = valid_dataset.shuffle(1024).batch(BATCH_SIZE, drop_remainder = True).prefetch(-1)"
      ],
      "execution_count": null,
      "outputs": [
        {
          "output_type": "stream",
          "text": [
            "/usr/local/lib/python3.7/dist-packages/numpy/core/_asarray.py:83: VisibleDeprecationWarning: Creating an ndarray from ragged nested sequences (which is a list-or-tuple of lists-or-tuples-or ndarrays with different lengths or shapes) is deprecated. If you meant to do this, you must specify 'dtype=object' when creating the ndarray\n",
            "  return array(a, dtype, copy=False, order=order)\n"
          ],
          "name": "stderr"
        },
        {
          "output_type": "stream",
          "text": [
            "Images shape:  (5000, 100, 100, 1)\n",
            "Labels shape:  (5000, 10)\n",
            "Boxes shape:  (5000, 4)\n"
          ],
          "name": "stdout"
        }
      ]
    },
    {
      "cell_type": "code",
      "metadata": {
        "colab": {
          "base_uri": "https://localhost:8080/"
        },
        "id": "24Jn23WHyOhb",
        "outputId": "a74d7df7-3d92-4ef1-fdf5-39d1337b6d02"
      },
      "source": [
        "train_dataset = tf.data.Dataset.from_tensor_slices(reshaping(X_train, y_train))\n",
        "train_dataset = train_dataset.shuffle(1024).batch(BATCH_SIZE, drop_remainder = True).prefetch(-1)"
      ],
      "execution_count": null,
      "outputs": [
        {
          "output_type": "stream",
          "text": [
            "/usr/local/lib/python3.7/dist-packages/numpy/core/_asarray.py:83: VisibleDeprecationWarning: Creating an ndarray from ragged nested sequences (which is a list-or-tuple of lists-or-tuples-or ndarrays with different lengths or shapes) is deprecated. If you meant to do this, you must specify 'dtype=object' when creating the ndarray\n",
            "  return array(a, dtype, copy=False, order=order)\n"
          ],
          "name": "stderr"
        },
        {
          "output_type": "stream",
          "text": [
            "Images shape:  (30000, 100, 100, 1)\n",
            "Labels shape:  (30000, 10)\n",
            "Boxes shape:  (30000, 4)\n"
          ],
          "name": "stdout"
        }
      ]
    },
    {
      "cell_type": "code",
      "metadata": {
        "colab": {
          "base_uri": "https://localhost:8080/",
          "height": 336
        },
        "id": "HP_KR4xkqAzi",
        "outputId": "d6327cb3-be96-49de-a887-2bedbb2d20dc"
      },
      "source": [
        "# Display random digits from both training and validation dataset with predictions and boxes\n",
        "\n",
        "dataset = train_dataset\n",
        "batches = 2\n",
        "batch_size = 10\n",
        "y = []\n",
        "train_images = []\n",
        "train_boxes = []\n",
        "train_labels = []\n",
        "div = 100\n",
        "for n, ex in enumerate(dataset.unbatch().batch(batch_size).shuffle(5).as_numpy_iterator()):\n",
        "    if n>=batches:\n",
        "        break\n",
        "    train_images.append(ex[0])\n",
        "    y.append(ex[1])\n",
        "train_images = np.array(train_images).reshape((batches*batch_size, 100, 100, 1))\n",
        "\n",
        "for batch in range(batches):\n",
        "    train_labels.append(y[batch][0])\n",
        "    batch_boxes = y[batch][1]\n",
        "    batch_boxes_list = []\n",
        "    for each_box in batch_boxes:\n",
        "        box = [each_box[1], (each_box[0]*100 - 28)/div, (each_box[1]*100 + 28)/div, each_box[0],\n",
        "                each_box[3], (each_box[2]*100 - 28)/div, (each_box[3]*100 + 28)/div, each_box[2]]\n",
        "        batch_boxes_list.append(box)\n",
        "\n",
        "    train_boxes.append(batch_boxes_list)\n",
        "train_boxes = np.array(train_boxes).reshape(batches*batch_size,2, 4)\n",
        "train_labels = np.array(train_labels).reshape(batches*batch_size, 10)\n",
        "\n",
        "display_bound_boxes(train_images, train_boxes, train_labels)"
      ],
      "execution_count": null,
      "outputs": [
        {
          "output_type": "display_data",
          "data": {
            "image/png": "[encoded data removed]",
            "text/plain": [
              "<Figure size 1440x432 with 20 Axes>"
            ]
          },
          "metadata": {
            "tags": [],
            "needs_background": "light"
          }
        }
      ]
    },
    {
      "cell_type": "code",
      "metadata": {
        "colab": {
          "base_uri": "https://localhost:8080/"
        },
        "id": "cR09G0m5ZkLF",
        "outputId": "e3a6c503-a05a-45c9-9864-744d02b81e30"
      },
      "source": [
        "print(train_dataset)"
      ],
      "execution_count": null,
      "outputs": [
        {
          "output_type": "stream",
          "text": [
            "<PrefetchDataset shapes: ((512, 100, 100, 1), ((512, 10), (512, 4))), types: (tf.float32, (tf.float32, tf.float32))>\n"
          ],
          "name": "stdout"
        }
      ]
    },
    {
      "cell_type": "code",
      "metadata": {
        "id": "BM4yzNy2UJ61"
      },
      "source": [
        "# define model\n",
        "\n",
        "def feature_extractor(inputs):\n",
        "    x = Conv2D(32, 3, padding = 'same', activation='relu')(inputs)\n",
        "    x = MaxPooling2D()(x)\n",
        "\n",
        "    x = Conv2D(32, 3, activation='relu', padding = 'same')(x)\n",
        "    x = MaxPooling2D()(x)\n",
        "\n",
        "    x = Conv2D(64, 3, activation='relu', padding='same')(x)\n",
        "    x = MaxPooling2D()(x)\n",
        "\n",
        "    x = Conv2D(64, 3, activation='relu', padding='same')(x)\n",
        "    x = MaxPooling2D()(x)\n",
        "\n",
        "    x = Conv2D(128, 3, activation='relu', padding='same')(x)\n",
        "    x = MaxPooling2D()(x)\n",
        "\n",
        "    x = Conv2D(128, 3, activation='relu', padding='same')(x)\n",
        "    x = MaxPooling2D()(x)\n",
        "\n",
        "    return x\n",
        "\n",
        "def dense_part(inputs):\n",
        "    x = Flatten()(inputs)\n",
        "    x = Dense(128, activation='relu')(x)\n",
        "    x = Dense(64, activation='relu')(x)\n",
        "\n",
        "    return x\n",
        "\n",
        "def classifier_output(inputs):\n",
        "    # x = Dense(64, activation = 'relu')(inputs)\n",
        "    x = Dense(32, activation = 'relu')(inputs)\n",
        "    output = Dense(10, activation='sigmoid', name = 'Classifier')(x)\n",
        "\n",
        "    return output\n",
        "\n",
        "def regressor_output(inputs):\n",
        "    x = Dense(128, activation = 'relu')(inputs)\n",
        "    x = Dense(64, activation = 'relu')(x)\n",
        "    # x = Dropout(0.2)(x)\n",
        "    x = Dense(32, activation = 'relu')(x)\n",
        "    x = Dense(32, activation = 'relu')(x)\n",
        "    x = Dense(10, activation = 'relu')(x)\n",
        "    output = Dense(4, name = 'Regressor')(x)\n",
        "\n",
        "    return output\n",
        "\n",
        "# @tf.function\n",
        "def myModel():\n",
        "    input = Input(shape = (100, 100, 1))\n",
        "\n",
        "    extractor_ouptput = feature_extractor(input)\n",
        "    dense_output = dense_part(extractor_ouptput)\n",
        "    output1 = classifier_output(dense_output)\n",
        "    output2 = regressor_output(dense_output)\n",
        "\n",
        "    model = Model(input, [output1, output2])\n",
        "\n",
        "    return model\n"
      ],
      "execution_count": null,
      "outputs": []
    },
    {
      "cell_type": "code",
      "metadata": {
        "id": "IOurblo2x5QF"
      },
      "source": [
        "with strategy.scope():\n",
        "    model = myModel()\n",
        "    model.compile(optimizer=tf.keras.optimizers.SGD(momentum=0.2), \n",
        "                loss = {'Classifier' : 'binary_crossentropy',\n",
        "                        'Regressor' : 'mae'\n",
        "                        },\n",
        "                metrics = ['accuracy'])\n",
        "                #   metrics = {'Classifier' : 'accuracy',\n",
        "                #              'Regressor' : 'mse'\n",
        "                #             })"
      ],
      "execution_count": null,
      "outputs": []
    },
    {
      "cell_type": "code",
      "metadata": {
        "id": "UtI87Fpa0rqU"
      },
      "source": [
        "plot_model(model, show_shapes=True)"
      ],
      "execution_count": null,
      "outputs": []
    },
    {
      "cell_type": "code",
      "metadata": {
        "id": "z1qfdbPjuB0a"
      },
      "source": [
        "def print_evaluate():\n",
        "    train_c_acc = hist.history['Classifier_accuracy']\n",
        "    train_r_acc = hist.history['Regressor_accuracy']\n",
        "    train_loss = hist.history['loss']\n",
        "\n",
        "    valid_c_acc = hist.history['val_Classifier_accuracy']\n",
        "    valid_r_acc = hist.history['val_Regressor_accuracy']\n",
        "    valid_loss = hist.history['val_loss']\n",
        "    epochs = range(len(train_c_acc))\n",
        "\n",
        "    plt.plot(epochs, train_c_acc, 'r', label = 'Train Classifier Accuracy',)\n",
        "    plt.plot(epochs, valid_c_acc, 'b', label = 'Validation Classifier Accuracy')\n",
        "    # plt.plot(epochs, 0.75, 'y', label = 'Boundary')\n",
        "    plt.legend()\n",
        "    plt.title('Classifier Accuracy')\n",
        "    plt.show()\n",
        "\n",
        "    plt.plot(epochs, train_r_acc, 'r', label = 'Train Regressor Accuracy',)\n",
        "    plt.plot(epochs, valid_r_acc, 'b', label = 'Validation Regressor Accuracy')\n",
        "    # plt.plot(epochs, 0.75, 'y', label = 'Boundary')\n",
        "    plt.legend()\n",
        "    plt.title('Regressor Accuracy')\n",
        "    plt.show()\n",
        "\n",
        "    plt.plot(epochs, train_loss, 'r', label = 'Train Loss')\n",
        "    plt.plot(epochs, valid_loss, 'b', label = 'Validation Loss')\n",
        "    plt.legend()\n",
        "    plt.title('Loss')\n",
        "    plt.show()"
      ],
      "execution_count": null,
      "outputs": []
    },
    {
      "cell_type": "code",
      "metadata": {
        "id": "5PqRyhFzMzlL"
      },
      "source": [
        "es = tf.keras.callbacks.EarlyStopping(monitor='val_Regressor_accuracy', min_delta = 0.01, patience=80, verbose = 1, restore_best_weights=True)"
      ],
      "execution_count": null,
      "outputs": []
    },
    {
      "cell_type": "code",
      "metadata": {
        "colab": {
          "base_uri": "https://localhost:8080/"
        },
        "id": "Pf0i0GCW0Iyh",
        "outputId": "0fe6548f-4bff-4a83-ca4f-fe3c7cffcca9"
      },
      "source": [
        "epochs = 1000\n",
        "# steps_per_epoch = 30000//BATCH_SIZE\n",
        "# val_steps = 5000//BATCH_SIZE\n",
        "\n",
        "hist = model.fit(train_dataset, epochs = epochs, validation_data= valid_dataset, callbacks=[es])"
      ],
      "execution_count": null,
      "outputs": [
        {
          "output_type": "stream",
          "text": [
            "Epoch 1/1000\n",
            "58/58 [==============================] - 10s 87ms/step - loss: 0.9335 - Classifier_loss: 0.6898 - Regressor_loss: 0.2438 - Classifier_accuracy: 0.0101 - Regressor_accuracy: 0.4157 - val_loss: 0.7877 - val_Classifier_loss: 0.6795 - val_Regressor_loss: 0.1082 - val_Classifier_accuracy: 0.0082 - val_Regressor_accuracy: 0.4364\n",
            "Epoch 2/1000\n",
            "58/58 [==============================] - 4s 61ms/step - loss: 0.7673 - Classifier_loss: 0.6761 - Regressor_loss: 0.0913 - Classifier_accuracy: 0.0099 - Regressor_accuracy: 0.4450 - val_loss: 0.7292 - val_Classifier_loss: 0.6664 - val_Regressor_loss: 0.0628 - val_Classifier_accuracy: 0.0087 - val_Regressor_accuracy: 0.4353\n",
            "Epoch 3/1000\n",
            "58/58 [==============================] - 4s 61ms/step - loss: 0.7219 - Classifier_loss: 0.6631 - Regressor_loss: 0.0588 - Classifier_accuracy: 0.0099 - Regressor_accuracy: 0.4448 - val_loss: 0.7071 - val_Classifier_loss: 0.6537 - val_Regressor_loss: 0.0533 - val_Classifier_accuracy: 0.0082 - val_Regressor_accuracy: 0.4345\n",
            "Epoch 4/1000\n",
            "58/58 [==============================] - 4s 60ms/step - loss: 0.7023 - Classifier_loss: 0.6504 - Regressor_loss: 0.0519 - Classifier_accuracy: 0.0100 - Regressor_accuracy: 0.4445 - val_loss: 0.6918 - val_Classifier_loss: 0.6412 - val_Regressor_loss: 0.0506 - val_Classifier_accuracy: 0.0085 - val_Regressor_accuracy: 0.4360\n",
            "Epoch 5/1000\n",
            "58/58 [==============================] - 4s 66ms/step - loss: 0.6877 - Classifier_loss: 0.6376 - Regressor_loss: 0.0501 - Classifier_accuracy: 0.0102 - Regressor_accuracy: 0.4443 - val_loss: 0.6781 - val_Classifier_loss: 0.6281 - val_Regressor_loss: 0.0500 - val_Classifier_accuracy: 0.0080 - val_Regressor_accuracy: 0.4366\n",
            "Epoch 6/1000\n",
            "58/58 [==============================] - 4s 63ms/step - loss: 0.6739 - Classifier_loss: 0.6244 - Regressor_loss: 0.0495 - Classifier_accuracy: 0.0099 - Regressor_accuracy: 0.4464 - val_loss: 0.6641 - val_Classifier_loss: 0.6144 - val_Regressor_loss: 0.0497 - val_Classifier_accuracy: 0.0082 - val_Regressor_accuracy: 0.4351\n",
            "Epoch 7/1000\n",
            "58/58 [==============================] - 4s 64ms/step - loss: 0.6593 - Classifier_loss: 0.6100 - Regressor_loss: 0.0493 - Classifier_accuracy: 0.0100 - Regressor_accuracy: 0.4444 - val_loss: 0.6486 - val_Classifier_loss: 0.5991 - val_Regressor_loss: 0.0495 - val_Classifier_accuracy: 0.0087 - val_Regressor_accuracy: 0.4490\n",
            "Epoch 8/1000\n",
            "58/58 [==============================] - 4s 63ms/step - loss: 0.6436 - Classifier_loss: 0.5944 - Regressor_loss: 0.0492 - Classifier_accuracy: 0.0101 - Regressor_accuracy: 0.4521 - val_loss: 0.6318 - val_Classifier_loss: 0.5822 - val_Regressor_loss: 0.0496 - val_Classifier_accuracy: 0.0085 - val_Regressor_accuracy: 0.4442\n",
            "Epoch 9/1000\n",
            "58/58 [==============================] - 4s 62ms/step - loss: 0.6259 - Classifier_loss: 0.5767 - Regressor_loss: 0.0492 - Classifier_accuracy: 0.0099 - Regressor_accuracy: 0.4478 - val_loss: 0.6124 - val_Classifier_loss: 0.5629 - val_Regressor_loss: 0.0495 - val_Classifier_accuracy: 0.0080 - val_Regressor_accuracy: 0.4457\n",
            "Epoch 10/1000\n",
            "58/58 [==============================] - 4s 63ms/step - loss: 0.6054 - Classifier_loss: 0.5562 - Regressor_loss: 0.0492 - Classifier_accuracy: 0.0102 - Regressor_accuracy: 0.4485 - val_loss: 0.5894 - val_Classifier_loss: 0.5400 - val_Regressor_loss: 0.0494 - val_Classifier_accuracy: 0.0085 - val_Regressor_accuracy: 0.4460\n",
            "Epoch 11/1000\n",
            "58/58 [==============================] - 4s 72ms/step - loss: 0.5818 - Classifier_loss: 0.5326 - Regressor_loss: 0.0491 - Classifier_accuracy: 0.0101 - Regressor_accuracy: 0.4449 - val_loss: 0.5666 - val_Classifier_loss: 0.5173 - val_Regressor_loss: 0.0493 - val_Classifier_accuracy: 0.0089 - val_Regressor_accuracy: 0.4408\n",
            "Epoch 12/1000\n",
            "58/58 [==============================] - 4s 63ms/step - loss: 0.5596 - Classifier_loss: 0.5106 - Regressor_loss: 0.0489 - Classifier_accuracy: 0.0099 - Regressor_accuracy: 0.4494 - val_loss: 0.5508 - val_Classifier_loss: 0.5017 - val_Regressor_loss: 0.0491 - val_Classifier_accuracy: 0.0080 - val_Regressor_accuracy: 0.4436\n",
            "Epoch 13/1000\n",
            "58/58 [==============================] - 4s 61ms/step - loss: 0.5463 - Classifier_loss: 0.4976 - Regressor_loss: 0.0487 - Classifier_accuracy: 0.0098 - Regressor_accuracy: 0.4512 - val_loss: 0.5442 - val_Classifier_loss: 0.4956 - val_Regressor_loss: 0.0487 - val_Classifier_accuracy: 0.0087 - val_Regressor_accuracy: 0.4395\n",
            "Epoch 14/1000\n",
            "58/58 [==============================] - 4s 65ms/step - loss: 0.5404 - Classifier_loss: 0.4920 - Regressor_loss: 0.0484 - Classifier_accuracy: 0.0100 - Regressor_accuracy: 0.4546 - val_loss: 0.5409 - val_Classifier_loss: 0.4925 - val_Regressor_loss: 0.0485 - val_Classifier_accuracy: 0.0082 - val_Regressor_accuracy: 0.4375\n",
            "Epoch 15/1000\n",
            "58/58 [==============================] - 4s 61ms/step - loss: 0.5376 - Classifier_loss: 0.4895 - Regressor_loss: 0.0480 - Classifier_accuracy: 0.0122 - Regressor_accuracy: 0.4577 - val_loss: 0.5390 - val_Classifier_loss: 0.4909 - val_Regressor_loss: 0.0481 - val_Classifier_accuracy: 0.0564 - val_Regressor_accuracy: 0.4475\n",
            "Epoch 16/1000\n",
            "58/58 [==============================] - 3s 60ms/step - loss: 0.5358 - Classifier_loss: 0.4882 - Regressor_loss: 0.0477 - Classifier_accuracy: 0.0858 - Regressor_accuracy: 0.4546 - val_loss: 0.5379 - val_Classifier_loss: 0.4902 - val_Regressor_loss: 0.0477 - val_Classifier_accuracy: 0.1139 - val_Regressor_accuracy: 0.4507\n",
            "Epoch 17/1000\n",
            "58/58 [==============================] - 3s 60ms/step - loss: 0.5347 - Classifier_loss: 0.4874 - Regressor_loss: 0.0473 - Classifier_accuracy: 0.1211 - Regressor_accuracy: 0.4559 - val_loss: 0.5369 - val_Classifier_loss: 0.4895 - val_Regressor_loss: 0.0473 - val_Classifier_accuracy: 0.1285 - val_Regressor_accuracy: 0.4505\n",
            "Epoch 18/1000\n",
            "58/58 [==============================] - 4s 70ms/step - loss: 0.5339 - Classifier_loss: 0.4870 - Regressor_loss: 0.0469 - Classifier_accuracy: 0.1332 - Regressor_accuracy: 0.4557 - val_loss: 0.5361 - val_Classifier_loss: 0.4892 - val_Regressor_loss: 0.0469 - val_Classifier_accuracy: 0.1324 - val_Regressor_accuracy: 0.4516\n",
            "Epoch 19/1000\n",
            "58/58 [==============================] - 3s 60ms/step - loss: 0.5332 - Classifier_loss: 0.4868 - Regressor_loss: 0.0465 - Classifier_accuracy: 0.1423 - Regressor_accuracy: 0.4568 - val_loss: 0.5356 - val_Classifier_loss: 0.4892 - val_Regressor_loss: 0.0464 - val_Classifier_accuracy: 0.1458 - val_Regressor_accuracy: 0.4479\n",
            "Epoch 20/1000\n",
            "58/58 [==============================] - 4s 62ms/step - loss: 0.5325 - Classifier_loss: 0.4866 - Regressor_loss: 0.0459 - Classifier_accuracy: 0.1518 - Regressor_accuracy: 0.4567 - val_loss: 0.5349 - val_Classifier_loss: 0.4892 - val_Regressor_loss: 0.0456 - val_Classifier_accuracy: 0.1547 - val_Regressor_accuracy: 0.4477\n",
            "Epoch 21/1000\n",
            "58/58 [==============================] - 4s 62ms/step - loss: 0.5315 - Classifier_loss: 0.4865 - Regressor_loss: 0.0450 - Classifier_accuracy: 0.1623 - Regressor_accuracy: 0.4582 - val_loss: 0.5339 - val_Classifier_loss: 0.4892 - val_Regressor_loss: 0.0447 - val_Classifier_accuracy: 0.1734 - val_Regressor_accuracy: 0.4510\n",
            "Epoch 22/1000\n",
            "58/58 [==============================] - 4s 64ms/step - loss: 0.5306 - Classifier_loss: 0.4865 - Regressor_loss: 0.0441 - Classifier_accuracy: 0.1745 - Regressor_accuracy: 0.4578 - val_loss: 0.5334 - val_Classifier_loss: 0.4893 - val_Regressor_loss: 0.0441 - val_Classifier_accuracy: 0.1782 - val_Regressor_accuracy: 0.4460\n",
            "Epoch 23/1000\n",
            "58/58 [==============================] - 4s 62ms/step - loss: 0.5300 - Classifier_loss: 0.4865 - Regressor_loss: 0.0435 - Classifier_accuracy: 0.1806 - Regressor_accuracy: 0.4596 - val_loss: 0.5328 - val_Classifier_loss: 0.4891 - val_Regressor_loss: 0.0437 - val_Classifier_accuracy: 0.1777 - val_Regressor_accuracy: 0.4447\n",
            "Epoch 24/1000\n",
            "58/58 [==============================] - 3s 60ms/step - loss: 0.5294 - Classifier_loss: 0.4863 - Regressor_loss: 0.0431 - Classifier_accuracy: 0.1803 - Regressor_accuracy: 0.4574 - val_loss: 0.5323 - val_Classifier_loss: 0.4889 - val_Regressor_loss: 0.0434 - val_Classifier_accuracy: 0.1823 - val_Regressor_accuracy: 0.4462\n",
            "Epoch 25/1000\n",
            "58/58 [==============================] - 4s 70ms/step - loss: 0.5292 - Classifier_loss: 0.4865 - Regressor_loss: 0.0428 - Classifier_accuracy: 0.1829 - Regressor_accuracy: 0.4552 - val_loss: 0.5323 - val_Classifier_loss: 0.4892 - val_Regressor_loss: 0.0431 - val_Classifier_accuracy: 0.1849 - val_Regressor_accuracy: 0.4462\n",
            "Epoch 26/1000\n",
            "58/58 [==============================] - 4s 63ms/step - loss: 0.5289 - Classifier_loss: 0.4864 - Regressor_loss: 0.0425 - Classifier_accuracy: 0.1830 - Regressor_accuracy: 0.4555 - val_loss: 0.5317 - val_Classifier_loss: 0.4888 - val_Regressor_loss: 0.0429 - val_Classifier_accuracy: 0.1812 - val_Regressor_accuracy: 0.4451\n",
            "Epoch 27/1000\n",
            "58/58 [==============================] - 4s 61ms/step - loss: 0.5286 - Classifier_loss: 0.4864 - Regressor_loss: 0.0422 - Classifier_accuracy: 0.1831 - Regressor_accuracy: 0.4573 - val_loss: 0.5314 - val_Classifier_loss: 0.4890 - val_Regressor_loss: 0.0424 - val_Classifier_accuracy: 0.1823 - val_Regressor_accuracy: 0.4447\n",
            "Epoch 28/1000\n",
            "58/58 [==============================] - 4s 61ms/step - loss: 0.5284 - Classifier_loss: 0.4864 - Regressor_loss: 0.0419 - Classifier_accuracy: 0.1794 - Regressor_accuracy: 0.4561 - val_loss: 0.5313 - val_Classifier_loss: 0.4890 - val_Regressor_loss: 0.0423 - val_Classifier_accuracy: 0.1786 - val_Regressor_accuracy: 0.4457\n",
            "Epoch 29/1000\n",
            "58/58 [==============================] - 4s 61ms/step - loss: 0.5281 - Classifier_loss: 0.4864 - Regressor_loss: 0.0417 - Classifier_accuracy: 0.1779 - Regressor_accuracy: 0.4559 - val_loss: 0.5311 - val_Classifier_loss: 0.4890 - val_Regressor_loss: 0.0421 - val_Classifier_accuracy: 0.1758 - val_Regressor_accuracy: 0.4466\n",
            "Epoch 30/1000\n",
            "58/58 [==============================] - 4s 62ms/step - loss: 0.5278 - Classifier_loss: 0.4863 - Regressor_loss: 0.0414 - Classifier_accuracy: 0.1801 - Regressor_accuracy: 0.4547 - val_loss: 0.5304 - val_Classifier_loss: 0.4888 - val_Regressor_loss: 0.0417 - val_Classifier_accuracy: 0.1712 - val_Regressor_accuracy: 0.4473\n",
            "Epoch 31/1000\n",
            "58/58 [==============================] - 4s 62ms/step - loss: 0.5274 - Classifier_loss: 0.4863 - Regressor_loss: 0.0411 - Classifier_accuracy: 0.1783 - Regressor_accuracy: 0.4550 - val_loss: 0.5303 - val_Classifier_loss: 0.4888 - val_Regressor_loss: 0.0415 - val_Classifier_accuracy: 0.1723 - val_Regressor_accuracy: 0.4477\n",
            "Epoch 32/1000\n",
            "58/58 [==============================] - 4s 73ms/step - loss: 0.5271 - Classifier_loss: 0.4863 - Regressor_loss: 0.0408 - Classifier_accuracy: 0.1795 - Regressor_accuracy: 0.4555 - val_loss: 0.5303 - val_Classifier_loss: 0.4892 - val_Regressor_loss: 0.0411 - val_Classifier_accuracy: 0.1714 - val_Regressor_accuracy: 0.4468\n",
            "Epoch 33/1000\n",
            "58/58 [==============================] - 4s 64ms/step - loss: 0.5268 - Classifier_loss: 0.4862 - Regressor_loss: 0.0405 - Classifier_accuracy: 0.1779 - Regressor_accuracy: 0.4524 - val_loss: 0.5297 - val_Classifier_loss: 0.4889 - val_Regressor_loss: 0.0408 - val_Classifier_accuracy: 0.1734 - val_Regressor_accuracy: 0.4421\n",
            "Epoch 34/1000\n",
            "58/58 [==============================] - 4s 63ms/step - loss: 0.5266 - Classifier_loss: 0.4864 - Regressor_loss: 0.0402 - Classifier_accuracy: 0.1780 - Regressor_accuracy: 0.4522 - val_loss: 0.5293 - val_Classifier_loss: 0.4890 - val_Regressor_loss: 0.0403 - val_Classifier_accuracy: 0.1675 - val_Regressor_accuracy: 0.4429\n",
            "Epoch 35/1000\n",
            "58/58 [==============================] - 4s 62ms/step - loss: 0.5264 - Classifier_loss: 0.4864 - Regressor_loss: 0.0399 - Classifier_accuracy: 0.1772 - Regressor_accuracy: 0.4507 - val_loss: 0.5291 - val_Classifier_loss: 0.4889 - val_Regressor_loss: 0.0402 - val_Classifier_accuracy: 0.1641 - val_Regressor_accuracy: 0.4386\n",
            "Epoch 36/1000\n",
            "58/58 [==============================] - 4s 62ms/step - loss: 0.5259 - Classifier_loss: 0.4863 - Regressor_loss: 0.0396 - Classifier_accuracy: 0.1719 - Regressor_accuracy: 0.4507 - val_loss: 0.5285 - val_Classifier_loss: 0.4887 - val_Regressor_loss: 0.0398 - val_Classifier_accuracy: 0.1708 - val_Regressor_accuracy: 0.4379\n",
            "Epoch 37/1000\n",
            "58/58 [==============================] - 4s 63ms/step - loss: 0.5256 - Classifier_loss: 0.4864 - Regressor_loss: 0.0392 - Classifier_accuracy: 0.1747 - Regressor_accuracy: 0.4464 - val_loss: 0.5282 - val_Classifier_loss: 0.4889 - val_Regressor_loss: 0.0393 - val_Classifier_accuracy: 0.1693 - val_Regressor_accuracy: 0.4401\n",
            "Epoch 38/1000\n",
            "58/58 [==============================] - 4s 64ms/step - loss: 0.5251 - Classifier_loss: 0.4863 - Regressor_loss: 0.0388 - Classifier_accuracy: 0.1724 - Regressor_accuracy: 0.4435 - val_loss: 0.5280 - val_Classifier_loss: 0.4890 - val_Regressor_loss: 0.0390 - val_Classifier_accuracy: 0.1654 - val_Regressor_accuracy: 0.4392\n",
            "Epoch 39/1000\n",
            "58/58 [==============================] - 4s 73ms/step - loss: 0.5249 - Classifier_loss: 0.4864 - Regressor_loss: 0.0385 - Classifier_accuracy: 0.1678 - Regressor_accuracy: 0.4402 - val_loss: 0.5272 - val_Classifier_loss: 0.4887 - val_Regressor_loss: 0.0385 - val_Classifier_accuracy: 0.1615 - val_Regressor_accuracy: 0.4416\n",
            "Epoch 40/1000\n",
            "58/58 [==============================] - 4s 63ms/step - loss: 0.5245 - Classifier_loss: 0.4863 - Regressor_loss: 0.0381 - Classifier_accuracy: 0.1656 - Regressor_accuracy: 0.4386 - val_loss: 0.5271 - val_Classifier_loss: 0.4888 - val_Regressor_loss: 0.0383 - val_Classifier_accuracy: 0.1604 - val_Regressor_accuracy: 0.4364\n",
            "Epoch 41/1000\n",
            "58/58 [==============================] - 4s 62ms/step - loss: 0.5241 - Classifier_loss: 0.4863 - Regressor_loss: 0.0378 - Classifier_accuracy: 0.1638 - Regressor_accuracy: 0.4346 - val_loss: 0.5267 - val_Classifier_loss: 0.4888 - val_Regressor_loss: 0.0380 - val_Classifier_accuracy: 0.1580 - val_Regressor_accuracy: 0.4375\n",
            "Epoch 42/1000\n",
            "58/58 [==============================] - 4s 63ms/step - loss: 0.5237 - Classifier_loss: 0.4862 - Regressor_loss: 0.0375 - Classifier_accuracy: 0.1621 - Regressor_accuracy: 0.4332 - val_loss: 0.5264 - val_Classifier_loss: 0.4888 - val_Regressor_loss: 0.0376 - val_Classifier_accuracy: 0.1612 - val_Regressor_accuracy: 0.4375\n",
            "Epoch 43/1000\n",
            "58/58 [==============================] - 4s 61ms/step - loss: 0.5235 - Classifier_loss: 0.4864 - Regressor_loss: 0.0372 - Classifier_accuracy: 0.1656 - Regressor_accuracy: 0.4339 - val_loss: 0.5264 - val_Classifier_loss: 0.4889 - val_Regressor_loss: 0.0375 - val_Classifier_accuracy: 0.1599 - val_Regressor_accuracy: 0.4349\n",
            "Epoch 44/1000\n",
            "58/58 [==============================] - 4s 64ms/step - loss: 0.5232 - Classifier_loss: 0.4863 - Regressor_loss: 0.0369 - Classifier_accuracy: 0.1622 - Regressor_accuracy: 0.4361 - val_loss: 0.5261 - val_Classifier_loss: 0.4890 - val_Regressor_loss: 0.0371 - val_Classifier_accuracy: 0.1610 - val_Regressor_accuracy: 0.4360\n",
            "Epoch 45/1000\n",
            "58/58 [==============================] - 4s 64ms/step - loss: 0.5229 - Classifier_loss: 0.4863 - Regressor_loss: 0.0367 - Classifier_accuracy: 0.1620 - Regressor_accuracy: 0.4359 - val_loss: 0.5255 - val_Classifier_loss: 0.4888 - val_Regressor_loss: 0.0367 - val_Classifier_accuracy: 0.1582 - val_Regressor_accuracy: 0.4392\n",
            "Epoch 46/1000\n",
            "58/58 [==============================] - 4s 71ms/step - loss: 0.5227 - Classifier_loss: 0.4862 - Regressor_loss: 0.0365 - Classifier_accuracy: 0.1591 - Regressor_accuracy: 0.4362 - val_loss: 0.5253 - val_Classifier_loss: 0.4888 - val_Regressor_loss: 0.0365 - val_Classifier_accuracy: 0.1591 - val_Regressor_accuracy: 0.4306\n",
            "Epoch 47/1000\n",
            "58/58 [==============================] - 4s 63ms/step - loss: 0.5226 - Classifier_loss: 0.4864 - Regressor_loss: 0.0363 - Classifier_accuracy: 0.1596 - Regressor_accuracy: 0.4389 - val_loss: 0.5257 - val_Classifier_loss: 0.4892 - val_Regressor_loss: 0.0365 - val_Classifier_accuracy: 0.1547 - val_Regressor_accuracy: 0.4288\n",
            "Epoch 48/1000\n",
            "58/58 [==============================] - 4s 63ms/step - loss: 0.5224 - Classifier_loss: 0.4863 - Regressor_loss: 0.0361 - Classifier_accuracy: 0.1567 - Regressor_accuracy: 0.4380 - val_loss: 0.5256 - val_Classifier_loss: 0.4892 - val_Regressor_loss: 0.0364 - val_Classifier_accuracy: 0.1593 - val_Regressor_accuracy: 0.4297\n",
            "Epoch 49/1000\n",
            "58/58 [==============================] - 4s 65ms/step - loss: 0.5222 - Classifier_loss: 0.4862 - Regressor_loss: 0.0359 - Classifier_accuracy: 0.1580 - Regressor_accuracy: 0.4390 - val_loss: 0.5248 - val_Classifier_loss: 0.4887 - val_Regressor_loss: 0.0361 - val_Classifier_accuracy: 0.1606 - val_Regressor_accuracy: 0.4321\n",
            "Epoch 50/1000\n",
            "58/58 [==============================] - 4s 64ms/step - loss: 0.5220 - Classifier_loss: 0.4862 - Regressor_loss: 0.0358 - Classifier_accuracy: 0.1593 - Regressor_accuracy: 0.4390 - val_loss: 0.5247 - val_Classifier_loss: 0.4888 - val_Regressor_loss: 0.0359 - val_Classifier_accuracy: 0.1547 - val_Regressor_accuracy: 0.4345\n",
            "Epoch 51/1000\n",
            "58/58 [==============================] - 4s 61ms/step - loss: 0.5219 - Classifier_loss: 0.4863 - Regressor_loss: 0.0357 - Classifier_accuracy: 0.1560 - Regressor_accuracy: 0.4391 - val_loss: 0.5248 - val_Classifier_loss: 0.4889 - val_Regressor_loss: 0.0359 - val_Classifier_accuracy: 0.1573 - val_Regressor_accuracy: 0.4342\n",
            "Epoch 52/1000\n",
            "58/58 [==============================] - 4s 62ms/step - loss: 0.5217 - Classifier_loss: 0.4862 - Regressor_loss: 0.0355 - Classifier_accuracy: 0.1592 - Regressor_accuracy: 0.4383 - val_loss: 0.5246 - val_Classifier_loss: 0.4887 - val_Regressor_loss: 0.0358 - val_Classifier_accuracy: 0.1504 - val_Regressor_accuracy: 0.4347\n",
            "Epoch 53/1000\n",
            "58/58 [==============================] - 4s 73ms/step - loss: 0.5217 - Classifier_loss: 0.4863 - Regressor_loss: 0.0354 - Classifier_accuracy: 0.1562 - Regressor_accuracy: 0.4390 - val_loss: 0.5248 - val_Classifier_loss: 0.4891 - val_Regressor_loss: 0.0357 - val_Classifier_accuracy: 0.1543 - val_Regressor_accuracy: 0.4386\n",
            "Epoch 54/1000\n",
            "58/58 [==============================] - 4s 63ms/step - loss: 0.5214 - Classifier_loss: 0.4861 - Regressor_loss: 0.0353 - Classifier_accuracy: 0.1561 - Regressor_accuracy: 0.4403 - val_loss: 0.5246 - val_Classifier_loss: 0.4889 - val_Regressor_loss: 0.0357 - val_Classifier_accuracy: 0.1584 - val_Regressor_accuracy: 0.4347\n",
            "Epoch 55/1000\n",
            "58/58 [==============================] - 4s 63ms/step - loss: 0.5215 - Classifier_loss: 0.4863 - Regressor_loss: 0.0352 - Classifier_accuracy: 0.1607 - Regressor_accuracy: 0.4425 - val_loss: 0.5243 - val_Classifier_loss: 0.4888 - val_Regressor_loss: 0.0355 - val_Classifier_accuracy: 0.1602 - val_Regressor_accuracy: 0.4388\n",
            "Epoch 56/1000\n",
            "58/58 [==============================] - 4s 62ms/step - loss: 0.5213 - Classifier_loss: 0.4861 - Regressor_loss: 0.0352 - Classifier_accuracy: 0.1584 - Regressor_accuracy: 0.4426 - val_loss: 0.5243 - val_Classifier_loss: 0.4888 - val_Regressor_loss: 0.0356 - val_Classifier_accuracy: 0.1558 - val_Regressor_accuracy: 0.4382\n",
            "Epoch 57/1000\n",
            "58/58 [==============================] - 4s 65ms/step - loss: 0.5214 - Classifier_loss: 0.4863 - Regressor_loss: 0.0351 - Classifier_accuracy: 0.1570 - Regressor_accuracy: 0.4451 - val_loss: 0.5241 - val_Classifier_loss: 0.4888 - val_Regressor_loss: 0.0354 - val_Classifier_accuracy: 0.1536 - val_Regressor_accuracy: 0.4353\n",
            "Epoch 58/1000\n",
            "58/58 [==============================] - 4s 63ms/step - loss: 0.5213 - Classifier_loss: 0.4863 - Regressor_loss: 0.0350 - Classifier_accuracy: 0.1554 - Regressor_accuracy: 0.4433 - val_loss: 0.5240 - val_Classifier_loss: 0.4886 - val_Regressor_loss: 0.0354 - val_Classifier_accuracy: 0.1541 - val_Regressor_accuracy: 0.4371\n",
            "Epoch 59/1000\n",
            "58/58 [==============================] - 4s 61ms/step - loss: 0.5211 - Classifier_loss: 0.4862 - Regressor_loss: 0.0350 - Classifier_accuracy: 0.1577 - Regressor_accuracy: 0.4436 - val_loss: 0.5240 - val_Classifier_loss: 0.4887 - val_Regressor_loss: 0.0353 - val_Classifier_accuracy: 0.1539 - val_Regressor_accuracy: 0.4355\n",
            "Epoch 60/1000\n",
            "58/58 [==============================] - 4s 71ms/step - loss: 0.5211 - Classifier_loss: 0.4862 - Regressor_loss: 0.0349 - Classifier_accuracy: 0.1554 - Regressor_accuracy: 0.4427 - val_loss: 0.5239 - val_Classifier_loss: 0.4886 - val_Regressor_loss: 0.0353 - val_Classifier_accuracy: 0.1523 - val_Regressor_accuracy: 0.4360\n",
            "Epoch 61/1000\n",
            "58/58 [==============================] - 4s 61ms/step - loss: 0.5210 - Classifier_loss: 0.4862 - Regressor_loss: 0.0348 - Classifier_accuracy: 0.1568 - Regressor_accuracy: 0.4454 - val_loss: 0.5240 - val_Classifier_loss: 0.4886 - val_Regressor_loss: 0.0354 - val_Classifier_accuracy: 0.1510 - val_Regressor_accuracy: 0.4358\n",
            "Epoch 62/1000\n",
            "58/58 [==============================] - 4s 66ms/step - loss: 0.5210 - Classifier_loss: 0.4862 - Regressor_loss: 0.0348 - Classifier_accuracy: 0.1546 - Regressor_accuracy: 0.4451 - val_loss: 0.5240 - val_Classifier_loss: 0.4887 - val_Regressor_loss: 0.0353 - val_Classifier_accuracy: 0.1536 - val_Regressor_accuracy: 0.4362\n",
            "Epoch 63/1000\n",
            "58/58 [==============================] - 4s 64ms/step - loss: 0.5210 - Classifier_loss: 0.4862 - Regressor_loss: 0.0348 - Classifier_accuracy: 0.1556 - Regressor_accuracy: 0.4465 - val_loss: 0.5237 - val_Classifier_loss: 0.4886 - val_Regressor_loss: 0.0350 - val_Classifier_accuracy: 0.1549 - val_Regressor_accuracy: 0.4395\n",
            "Epoch 64/1000\n",
            "58/58 [==============================] - 4s 62ms/step - loss: 0.5208 - Classifier_loss: 0.4862 - Regressor_loss: 0.0347 - Classifier_accuracy: 0.1559 - Regressor_accuracy: 0.4447 - val_loss: 0.5236 - val_Classifier_loss: 0.4884 - val_Regressor_loss: 0.0352 - val_Classifier_accuracy: 0.1526 - val_Regressor_accuracy: 0.4403\n",
            "Epoch 65/1000\n",
            "58/58 [==============================] - 4s 63ms/step - loss: 0.5208 - Classifier_loss: 0.4862 - Regressor_loss: 0.0347 - Classifier_accuracy: 0.1560 - Regressor_accuracy: 0.4448 - val_loss: 0.5238 - val_Classifier_loss: 0.4887 - val_Regressor_loss: 0.0350 - val_Classifier_accuracy: 0.1517 - val_Regressor_accuracy: 0.4410\n",
            "Epoch 66/1000\n",
            "58/58 [==============================] - 4s 64ms/step - loss: 0.5206 - Classifier_loss: 0.4860 - Regressor_loss: 0.0346 - Classifier_accuracy: 0.1559 - Regressor_accuracy: 0.4489 - val_loss: 0.5236 - val_Classifier_loss: 0.4885 - val_Regressor_loss: 0.0351 - val_Classifier_accuracy: 0.1506 - val_Regressor_accuracy: 0.4429\n",
            "Epoch 67/1000\n",
            "58/58 [==============================] - 4s 72ms/step - loss: 0.5206 - Classifier_loss: 0.4860 - Regressor_loss: 0.0346 - Classifier_accuracy: 0.1587 - Regressor_accuracy: 0.4501 - val_loss: 0.5237 - val_Classifier_loss: 0.4885 - val_Regressor_loss: 0.0351 - val_Classifier_accuracy: 0.1526 - val_Regressor_accuracy: 0.4438\n",
            "Epoch 68/1000\n",
            "58/58 [==============================] - 4s 65ms/step - loss: 0.5206 - Classifier_loss: 0.4861 - Regressor_loss: 0.0345 - Classifier_accuracy: 0.1567 - Regressor_accuracy: 0.4512 - val_loss: 0.5237 - val_Classifier_loss: 0.4886 - val_Regressor_loss: 0.0351 - val_Classifier_accuracy: 0.1565 - val_Regressor_accuracy: 0.4440\n",
            "Epoch 69/1000\n",
            "58/58 [==============================] - 4s 64ms/step - loss: 0.5205 - Classifier_loss: 0.4860 - Regressor_loss: 0.0345 - Classifier_accuracy: 0.1588 - Regressor_accuracy: 0.4513 - val_loss: 0.5235 - val_Classifier_loss: 0.4886 - val_Regressor_loss: 0.0349 - val_Classifier_accuracy: 0.1634 - val_Regressor_accuracy: 0.4470\n",
            "Epoch 70/1000\n",
            "58/58 [==============================] - 4s 63ms/step - loss: 0.5204 - Classifier_loss: 0.4860 - Regressor_loss: 0.0344 - Classifier_accuracy: 0.1618 - Regressor_accuracy: 0.4523 - val_loss: 0.5236 - val_Classifier_loss: 0.4886 - val_Regressor_loss: 0.0350 - val_Classifier_accuracy: 0.1571 - val_Regressor_accuracy: 0.4464\n",
            "Epoch 71/1000\n",
            "58/58 [==============================] - 4s 65ms/step - loss: 0.5204 - Classifier_loss: 0.4860 - Regressor_loss: 0.0344 - Classifier_accuracy: 0.1594 - Regressor_accuracy: 0.4527 - val_loss: 0.5233 - val_Classifier_loss: 0.4884 - val_Regressor_loss: 0.0349 - val_Classifier_accuracy: 0.1565 - val_Regressor_accuracy: 0.4479\n",
            "Epoch 72/1000\n",
            "58/58 [==============================] - 4s 65ms/step - loss: 0.5203 - Classifier_loss: 0.4859 - Regressor_loss: 0.0344 - Classifier_accuracy: 0.1604 - Regressor_accuracy: 0.4560 - val_loss: 0.5236 - val_Classifier_loss: 0.4887 - val_Regressor_loss: 0.0349 - val_Classifier_accuracy: 0.1604 - val_Regressor_accuracy: 0.4529\n",
            "Epoch 73/1000\n",
            "58/58 [==============================] - 4s 65ms/step - loss: 0.5203 - Classifier_loss: 0.4859 - Regressor_loss: 0.0344 - Classifier_accuracy: 0.1615 - Regressor_accuracy: 0.4584 - val_loss: 0.5235 - val_Classifier_loss: 0.4888 - val_Regressor_loss: 0.0347 - val_Classifier_accuracy: 0.1552 - val_Regressor_accuracy: 0.4505\n",
            "Epoch 74/1000\n",
            "58/58 [==============================] - 4s 65ms/step - loss: 0.5203 - Classifier_loss: 0.4860 - Regressor_loss: 0.0343 - Classifier_accuracy: 0.1601 - Regressor_accuracy: 0.4606 - val_loss: 0.5235 - val_Classifier_loss: 0.4886 - val_Regressor_loss: 0.0349 - val_Classifier_accuracy: 0.1523 - val_Regressor_accuracy: 0.4492\n",
            "Epoch 75/1000\n",
            "58/58 [==============================] - 4s 66ms/step - loss: 0.5203 - Classifier_loss: 0.4860 - Regressor_loss: 0.0343 - Classifier_accuracy: 0.1587 - Regressor_accuracy: 0.4609 - val_loss: 0.5235 - val_Classifier_loss: 0.4887 - val_Regressor_loss: 0.0349 - val_Classifier_accuracy: 0.1569 - val_Regressor_accuracy: 0.4505\n",
            "Epoch 76/1000\n",
            "58/58 [==============================] - 4s 63ms/step - loss: 0.5203 - Classifier_loss: 0.4860 - Regressor_loss: 0.0343 - Classifier_accuracy: 0.1609 - Regressor_accuracy: 0.4640 - val_loss: 0.5233 - val_Classifier_loss: 0.4885 - val_Regressor_loss: 0.0348 - val_Classifier_accuracy: 0.1534 - val_Regressor_accuracy: 0.4494\n",
            "Epoch 77/1000\n",
            "58/58 [==============================] - 4s 63ms/step - loss: 0.5202 - Classifier_loss: 0.4860 - Regressor_loss: 0.0342 - Classifier_accuracy: 0.1598 - Regressor_accuracy: 0.4618 - val_loss: 0.5233 - val_Classifier_loss: 0.4885 - val_Regressor_loss: 0.0348 - val_Classifier_accuracy: 0.1576 - val_Regressor_accuracy: 0.4475\n",
            "Epoch 78/1000\n",
            "58/58 [==============================] - 4s 62ms/step - loss: 0.5202 - Classifier_loss: 0.4860 - Regressor_loss: 0.0342 - Classifier_accuracy: 0.1599 - Regressor_accuracy: 0.4689 - val_loss: 0.5234 - val_Classifier_loss: 0.4887 - val_Regressor_loss: 0.0347 - val_Classifier_accuracy: 0.1554 - val_Regressor_accuracy: 0.4557\n",
            "Epoch 79/1000\n",
            "58/58 [==============================] - 4s 62ms/step - loss: 0.5200 - Classifier_loss: 0.4858 - Regressor_loss: 0.0342 - Classifier_accuracy: 0.1595 - Regressor_accuracy: 0.4710 - val_loss: 0.5234 - val_Classifier_loss: 0.4885 - val_Regressor_loss: 0.0348 - val_Classifier_accuracy: 0.1510 - val_Regressor_accuracy: 0.4533\n",
            "Epoch 80/1000\n",
            "58/58 [==============================] - 4s 62ms/step - loss: 0.5201 - Classifier_loss: 0.4859 - Regressor_loss: 0.0342 - Classifier_accuracy: 0.1612 - Regressor_accuracy: 0.4687 - val_loss: 0.5234 - val_Classifier_loss: 0.4887 - val_Regressor_loss: 0.0347 - val_Classifier_accuracy: 0.1625 - val_Regressor_accuracy: 0.4403\n",
            "Epoch 81/1000\n",
            "58/58 [==============================] - 4s 64ms/step - loss: 0.5201 - Classifier_loss: 0.4859 - Regressor_loss: 0.0342 - Classifier_accuracy: 0.1663 - Regressor_accuracy: 0.4706 - val_loss: 0.5233 - val_Classifier_loss: 0.4885 - val_Regressor_loss: 0.0348 - val_Classifier_accuracy: 0.1634 - val_Regressor_accuracy: 0.4486\n",
            "Epoch 82/1000\n",
            "58/58 [==============================] - 4s 64ms/step - loss: 0.5199 - Classifier_loss: 0.4858 - Regressor_loss: 0.0341 - Classifier_accuracy: 0.1651 - Regressor_accuracy: 0.4713 - val_loss: 0.5235 - val_Classifier_loss: 0.4888 - val_Regressor_loss: 0.0347 - val_Classifier_accuracy: 0.1615 - val_Regressor_accuracy: 0.4488\n",
            "Epoch 83/1000\n",
            "58/58 [==============================] - 4s 63ms/step - loss: 0.5201 - Classifier_loss: 0.4859 - Regressor_loss: 0.0341 - Classifier_accuracy: 0.1633 - Regressor_accuracy: 0.4762 - val_loss: 0.5230 - val_Classifier_loss: 0.4884 - val_Regressor_loss: 0.0346 - val_Classifier_accuracy: 0.1628 - val_Regressor_accuracy: 0.4520\n",
            "Epoch 84/1000\n",
            "58/58 [==============================] - 4s 64ms/step - loss: 0.5199 - Classifier_loss: 0.4858 - Regressor_loss: 0.0341 - Classifier_accuracy: 0.1651 - Regressor_accuracy: 0.4771 - val_loss: 0.5235 - val_Classifier_loss: 0.4887 - val_Regressor_loss: 0.0348 - val_Classifier_accuracy: 0.1643 - val_Regressor_accuracy: 0.4562\n",
            "Epoch 85/1000\n",
            "58/58 [==============================] - 4s 65ms/step - loss: 0.5200 - Classifier_loss: 0.4859 - Regressor_loss: 0.0341 - Classifier_accuracy: 0.1652 - Regressor_accuracy: 0.4780 - val_loss: 0.5232 - val_Classifier_loss: 0.4884 - val_Regressor_loss: 0.0347 - val_Classifier_accuracy: 0.1526 - val_Regressor_accuracy: 0.4468\n",
            "Epoch 86/1000\n",
            "58/58 [==============================] - 4s 75ms/step - loss: 0.5200 - Classifier_loss: 0.4859 - Regressor_loss: 0.0341 - Classifier_accuracy: 0.1618 - Regressor_accuracy: 0.4802 - val_loss: 0.5234 - val_Classifier_loss: 0.4886 - val_Regressor_loss: 0.0348 - val_Classifier_accuracy: 0.1606 - val_Regressor_accuracy: 0.4518\n",
            "Epoch 87/1000\n",
            "58/58 [==============================] - 4s 64ms/step - loss: 0.5198 - Classifier_loss: 0.4858 - Regressor_loss: 0.0340 - Classifier_accuracy: 0.1639 - Regressor_accuracy: 0.4813 - val_loss: 0.5235 - val_Classifier_loss: 0.4886 - val_Regressor_loss: 0.0349 - val_Classifier_accuracy: 0.1634 - val_Regressor_accuracy: 0.4462\n",
            "Restoring model weights from the end of the best epoch.\n",
            "Epoch 00087: early stopping\n"
          ],
          "name": "stdout"
        }
      ]
    },
    {
      "cell_type": "code",
      "metadata": {
        "colab": {
          "base_uri": "https://localhost:8080/",
          "height": 809
        },
        "id": "pFxKYDDY8caA",
        "outputId": "94465df0-80f6-4e10-8466-c0e6478526ba"
      },
      "source": [
        "print_evaluate()"
      ],
      "execution_count": null,
      "outputs": [
        {
          "output_type": "display_data",
          "data": {
            "image/png": "[encoded data removed]",
            "text/plain": [
              "<Figure size 432x288 with 1 Axes>"
            ]
          },
          "metadata": {
            "tags": [],
            "needs_background": "light"
          }
        },
        {
          "output_type": "display_data",
          "data": {
            "image/png": "[encoded data removed]",
            "text/plain": [
              "<Figure size 432x288 with 1 Axes>"
            ]
          },
          "metadata": {
            "tags": [],
            "needs_background": "light"
          }
        },
        {
          "output_type": "display_data",
          "data": {
            "image/png": "[encoded data removed]",
            "text/plain": [
              "<Figure size 432x288 with 1 Axes>"
            ]
          },
          "metadata": {
            "tags": [],
            "needs_background": "light"
          }
        }
      ]
    },
    {
      "cell_type": "code",
      "metadata": {
        "id": "ebDXSY7A_OEt",
        "colab": {
          "base_uri": "https://localhost:8080/"
        },
        "outputId": "49e00abb-6f3f-4828-c776-d187883f0897"
      },
      "source": [
        "output = model.evaluate(valid_dataset)\n",
        "# print(len(output))\n",
        "\n",
        "for val in output:\n",
        "    print(val)"
      ],
      "execution_count": null,
      "outputs": [
        {
          "output_type": "stream",
          "text": [
            "9/9 [==============================] - 1s 31ms/step - loss: 0.1061 - Classifier_loss: 0.0485 - Regressor_loss: 0.0577 - Classifier_accuracy: 0.6513 - Regressor_accuracy: 0.4783\n",
            "0.106113962829113\n",
            "0.048460979014635086\n",
            "0.05765298381447792\n",
            "0.6512587070465088\n",
            "0.4782986044883728\n"
          ],
          "name": "stdout"
        }
      ]
    },
    {
      "cell_type": "code",
      "metadata": {
        "colab": {
          "base_uri": "https://localhost:8080/",
          "height": 336
        },
        "id": "-e6iUIt7qqqA",
        "outputId": "a54b84a0-98c3-4baf-ca17-05af52b3cc4f"
      },
      "source": [
        "# Display predictions from validation dataset along with bounding boxes\n",
        "\n",
        "batches = 10\n",
        "batch_size = 2\n",
        "pred = []\n",
        "test_images = []\n",
        "test_boxes = []\n",
        "test_labels = []\n",
        "\n",
        "for n, ex in enumerate(valid_dataset.unbatch().batch(batch_size).shuffle(100).as_numpy_iterator()):\n",
        "    if n>=batches:\n",
        "        break\n",
        "    pred.append(model.predict([[ex[0]]]))\n",
        "    test_images.append(ex[0])\n",
        "test_images = np.array(test_images).reshape((batches*batch_size, 100, 100, 1))\n",
        "\n",
        "for batch in range(batches):\n",
        "    test_labels.append(pred[batch][0])\n",
        "\n",
        "\n",
        "    batch_boxes = pred[batch][1]\n",
        "    batch_boxes_list = []\n",
        "    for each_box in batch_boxes:\n",
        "        box = [each_box[1], (each_box[0]*100 - 28)/div, (each_box[1]*100 + 28)/div, each_box[0],\n",
        "                each_box[3], (each_box[2]*100 - 28)/div, (each_box[3]*100 + 28)/div, each_box[2]]\n",
        "        batch_boxes_list.append(box)\n",
        "\n",
        "    test_boxes.append(batch_boxes_list)\n",
        "test_boxes = np.array(test_boxes).reshape(batches*batch_size,2, 4)\n",
        "test_labels = np.array(test_labels).reshape(batches*batch_size, 10)\n",
        "# Prediction on validation dataset\n",
        "\n",
        "display_bound_boxes(test_images, test_boxes, test_labels)"
      ],
      "execution_count": null,
      "outputs": [
        {
          "output_type": "display_data",
          "data": {
            "image/png": "[encoded data removed]",
            "text/plain": [
              "<Figure size 1440x432 with 20 Axes>"
            ]
          },
          "metadata": {
            "tags": [],
            "needs_background": "light"
          }
        }
      ]
    },
    {
      "cell_type": "code",
      "metadata": {
        "id": "qyhYjiCt_CQJ"
      },
      "source": [
        "# model.save('mnist-4-4.h5')"
      ],
      "execution_count": null,
      "outputs": []
    }
  ]
}